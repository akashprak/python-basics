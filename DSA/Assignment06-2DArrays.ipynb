{
 "cells": [
  {
   "attachments": {},
   "cell_type": "markdown",
   "metadata": {},
   "source": [
    "💡 **Question 1**\n",
    "\n",
    "A permutation perm of n + 1 integers of all the integers in the range [0, n] can be represented as a string s of length n where:\n",
    "\n",
    "- s[i] == 'I' if perm[i] < perm[i + 1], and\n",
    "- s[i] == 'D' if perm[i] > perm[i + 1].\n",
    "\n",
    "Given a string s, reconstruct the permutation perm and return it. If there are multiple valid permutations perm, return **any of them**.\n",
    "\n",
    "**Example 1:**\n",
    "\n",
    "**Input:** s = \"IDID\"\n",
    "\n",
    "**Output:**\n",
    "\n",
    "[0,4,1,3,2]"
   ]
  },
  {
   "cell_type": "code",
   "execution_count": 1,
   "metadata": {},
   "outputs": [
    {
     "data": {
      "text/plain": [
       "[0, 4, 1, 3, 2]"
      ]
     },
     "execution_count": 1,
     "metadata": {},
     "output_type": "execute_result"
    }
   ],
   "source": [
    "def permutation_from_str(perm: str):\n",
    "    end = len(perm)\n",
    "    start = 0\n",
    "    res = []\n",
    "    for i in perm:\n",
    "        if i=='I':\n",
    "            res.append(start)\n",
    "            start+=1\n",
    "        else:\n",
    "            res.append(end)\n",
    "            end-=1\n",
    "    res.append(start)\n",
    "    return res\n",
    "\n",
    "permutation_from_str('IDID')"
   ]
  },
  {
   "attachments": {},
   "cell_type": "markdown",
   "metadata": {},
   "source": [
    "💡 **Question 2**\n",
    "\n",
    "You are given an m x n integer matrix matrix with the following two properties:\n",
    "\n",
    "- Each row is sorted in non-decreasing order.\n",
    "- The first integer of each row is greater than the last integer of the previous row.\n",
    "\n",
    "Given an integer target, return true *if* target *is in* matrix *or* false *otherwise*.\n",
    "\n",
    "You must write a solution in O(log(m * n)) time complexity.\n",
    "\n",
    "**Example 1:**\n",
    "\n",
    "\n",
    "**Input:** matrix = [[1,3,5,7],[10,11,16,20],[23,30,34,60]], target = 3\n",
    "\n",
    "**Output:** true"
   ]
  },
  {
   "cell_type": "code",
   "execution_count": 1,
   "metadata": {},
   "outputs": [
    {
     "data": {
      "text/plain": [
       "True"
      ]
     },
     "execution_count": 1,
     "metadata": {},
     "output_type": "execute_result"
    }
   ],
   "source": [
    "def matrixSearch(matrix: list[list[int]], target: int):\n",
    "    rowRight = len(matrix)-1\n",
    "    colRight = len(matrix[0])-1\n",
    "    rowLeft,colLeft = 0,0\n",
    "    while rowLeft<=rowRight:\n",
    "        midR = (rowLeft+rowRight)//2\n",
    "        if matrix[midR][0]>target:\n",
    "            rowRight = midR-1\n",
    "        elif matrix[midR][colRight]<target:\n",
    "            rowLeft = midR+1\n",
    "        else:\n",
    "            break\n",
    "    \n",
    "    while colLeft<=colRight:\n",
    "        midC = (colLeft+colRight)//2\n",
    "        if matrix[midR][midC]==target:\n",
    "            return True\n",
    "        elif matrix[midR][midC]<target:\n",
    "            colLeft = midC+1\n",
    "        else:\n",
    "            colRight = midC-1\n",
    "    \n",
    "    return False\n",
    "\n",
    "matrixSearch([[1,3,5,7],[10,11,16,22],[23,30,34,60]], 10)"
   ]
  },
  {
   "attachments": {},
   "cell_type": "markdown",
   "metadata": {},
   "source": [
    "💡 **Question 3**\n",
    "\n",
    "Given an array of integers arr, return *true if and only if it is a valid mountain array*.\n",
    "\n",
    "Recall that arr is a mountain array if and only if:\n",
    "\n",
    "- arr.length >= 3\n",
    "- There exists some i with 0 < i < arr.length - 1 such that:\n",
    "    - arr[0] < arr[1] < ... < arr[i - 1] < arr[i]\n",
    "    - arr[i] > arr[i + 1] > ... > arr[arr.length - 1]\n",
    "\n",
    "\n",
    "**Example 1:**\n",
    "\n",
    "**Input:** arr = [2,1]\n",
    "\n",
    "**Output:**\n",
    "\n",
    "false"
   ]
  },
  {
   "cell_type": "code",
   "execution_count": 5,
   "metadata": {},
   "outputs": [
    {
     "data": {
      "text/plain": [
       "True"
      ]
     },
     "execution_count": 5,
     "metadata": {},
     "output_type": "execute_result"
    }
   ],
   "source": [
    "def isMountain(arr: list[int]):\n",
    "    if len(arr)<3:\n",
    "        return False\n",
    "    n = len(arr)-1\n",
    "    first,last = 0,n\n",
    "    while first<last and arr[first]<arr[first+1]:\n",
    "        first+=1\n",
    "    while last>=first and arr[last]<arr[last-1]:\n",
    "        last-=1\n",
    "    \n",
    "    return last==first and first!=0 and last!=n\n",
    "\n",
    "isMountain([1,2,1,0])"
   ]
  },
  {
   "attachments": {},
   "cell_type": "markdown",
   "metadata": {},
   "source": [
    "💡 **Question 4**\n",
    "\n",
    "Given a binary array nums, return *the maximum length of a contiguous subarray with an equal number of* 0 *and* 1.\n",
    "\n",
    "**Example 1:**\n",
    "\n",
    "**Input:** nums = [0,1]\n",
    "\n",
    "**Output:** 2\n",
    "\n",
    "**Explanation:**\n",
    "\n",
    "[0, 1] is the longest contiguous subarray with an equal number of 0 and 1."
   ]
  },
  {
   "cell_type": "code",
   "execution_count": 1,
   "metadata": {},
   "outputs": [
    {
     "data": {
      "text/plain": [
       "6"
      ]
     },
     "execution_count": 1,
     "metadata": {},
     "output_type": "execute_result"
    }
   ],
   "source": [
    "def max_subarray_len(nums: list[int]):\n",
    "    if len(nums)<2:\n",
    "        return 0\n",
    "    \n",
    "    zeroes = 0\n",
    "    ones = 0\n",
    "    Len = 0\n",
    "    for i in nums:\n",
    "        if i==0:\n",
    "            ones+=1\n",
    "        else:\n",
    "            zeroes+=1\n",
    "\n",
    "        if ones==zeroes:\n",
    "            Len = max(Len, (ones+zeroes))\n",
    "    return max(Len, max_subarray_len(nums[1:]))\n",
    "\n",
    "max_subarray_len([0,1,1,1,0,0])"
   ]
  },
  {
   "attachments": {},
   "cell_type": "markdown",
   "metadata": {},
   "source": [
    "💡 **Question 5**\n",
    "\n",
    "The **product sum** of two equal-length arrays a and b is equal to the sum of a[i] * b[i] for all 0 <= i < a.length (**0-indexed**).\n",
    "\n",
    "- For example, if a = [1,2,3,4] and b = [5,2,3,1], the **product sum** would be 1*5 + 2*2 + 3*3 + 4*1 = 22.\n",
    "\n",
    "Given two arrays nums1 and nums2 of length n, return *the **minimum product sum** if you are allowed to **rearrange** the **order** of the elements in* nums1.\n",
    "\n",
    "**Example 1:**\n",
    "\n",
    "**Input:** nums1 = [5,3,4,2], nums2 = [4,2,2,5]\n",
    "\n",
    "**Output:** 40\n",
    "\n",
    "**Explanation:**\n",
    "\n",
    "We can rearrange nums1 to become [3,5,4,2]. The product sum of [3,5,4,2] and [4,2,2,5] is 3*4 + 5*2 + 4*2 + 2*5 = 40."
   ]
  },
  {
   "cell_type": "code",
   "execution_count": 4,
   "metadata": {},
   "outputs": [
    {
     "data": {
      "text/plain": [
       "40"
      ]
     },
     "execution_count": 4,
     "metadata": {},
     "output_type": "execute_result"
    }
   ],
   "source": [
    "def min_product_sum(nums1: list[int], nums2: list[int]):\n",
    "    n = len(nums1)-1\n",
    "    nums1.sort()\n",
    "    sum = 0\n",
    "    for i in sorted(nums2):\n",
    "        sum += nums1[n]*i\n",
    "        n-=1\n",
    "    return sum\n",
    "\n",
    "min_product_sum([5,3,4,2], [4,2,2,5])"
   ]
  },
  {
   "attachments": {},
   "cell_type": "markdown",
   "metadata": {},
   "source": [
    "💡 **Question 6**\n",
    "\n",
    "An integer array original is transformed into a **doubled** array changed by appending **twice the value** of every element in original, and then randomly **shuffling** the resulting array.\n",
    "\n",
    "Given an array changed, return original *if* changed *is a **doubled** array. If* changed *is not a **doubled** array, return an empty array. The elements in* original *may be returned in **any** order*.\n",
    "\n",
    "**Example 1:**\n",
    "\n",
    "**Input:** changed = [1,3,4,2,6,8]\n",
    "\n",
    "**Output:** [1,3,4]\n",
    "\n",
    "**Explanation:** One possible original array could be [1,3,4]:\n",
    "\n",
    "- Twice the value of 1 is 1 * 2 = 2.\n",
    "- Twice the value of 3 is 3 * 2 = 6.\n",
    "- Twice the value of 4 is 4 * 2 = 8.\n",
    "\n",
    "Other original arrays could be [4,3,1] or [3,1,4]."
   ]
  },
  {
   "cell_type": "code",
   "execution_count": 1,
   "metadata": {},
   "outputs": [
    {
     "data": {
      "text/plain": [
       "[1, 3, 4]"
      ]
     },
     "execution_count": 1,
     "metadata": {},
     "output_type": "execute_result"
    }
   ],
   "source": [
    "def doubled_to_original(arr: list[int]):\n",
    "    if len(arr)%2 == 1:\n",
    "        return []\n",
    "    res = []\n",
    "    arr.sort()\n",
    "    count = dict()\n",
    "    for i in arr:\n",
    "        count[i] = count.get(i, 0)+1\n",
    "    for i in arr:\n",
    "        if count[i]>0:\n",
    "            res.append(i)\n",
    "            count[i]-=1\n",
    "            count[2*i]-=1\n",
    "    return res\n",
    "\n",
    "doubled_to_original([1,3,4,2,6,8])"
   ]
  },
  {
   "attachments": {},
   "cell_type": "markdown",
   "metadata": {},
   "source": [
    "💡 **Question 7**\n",
    "\n",
    "Given a positive integer n, generate an n x n matrix filled with elements from 1 to n2 in spiral order.\n",
    "\n",
    "**Example 1:**\n",
    "\n",
    "\n",
    "**Input:** n = 3\n",
    "\n",
    "**Output:** [[1,2,3],[8,9,4],[7,6,5]]"
   ]
  },
  {
   "cell_type": "code",
   "execution_count": 1,
   "metadata": {},
   "outputs": [
    {
     "name": "stdout",
     "output_type": "stream",
     "text": [
      "[1, 2, 3]\n",
      "[8, 9, 4]\n",
      "[7, 6, 5]\n"
     ]
    }
   ],
   "source": [
    "def spiralMatrix(n: int)->list[int]:\n",
    "    top,left = 0,0\n",
    "    bottom,right = n-1,n-1\n",
    "    res = [[None for _ in range(n)] for _ in range(n)]\n",
    "    elem=1\n",
    "    while elem<=n**2:\n",
    "        for i in range(left,right+1):\n",
    "            res[top][i] = elem\n",
    "            elem+=1\n",
    "        top+=1\n",
    "        for i in range(top,bottom+1):\n",
    "            res[i][right] = elem\n",
    "            elem+=1\n",
    "        right-=1\n",
    "        if top<=bottom:\n",
    "            for i in range(right,left-1,-1):\n",
    "                res[bottom][i] = elem\n",
    "                elem+=1\n",
    "            bottom-=1\n",
    "        if left<=right:\n",
    "            for i in range(bottom,top-1,-1):\n",
    "                res[i][left] = elem\n",
    "                elem+=1\n",
    "            left+=1\n",
    "    return res\n",
    "\n",
    "print(*spiralMatrix(3),sep='\\n')"
   ]
  },
  {
   "cell_type": "markdown",
   "metadata": {},
   "source": [
    "💡 **Question 8**\n",
    "\n",
    "Given two [sparse matrices](https://en.wikipedia.org/wiki/Sparse_matrix) mat1 of size m x k and mat2 of size k x n, return the result of mat1 x mat2. You may assume that multiplication is always possible.\n",
    "\n",
    "**Example 1:**\n",
    "\n",
    "\n",
    "**Input:** mat1 = [[1,0,0],[-1,0,3]], mat2 = [[7,0,0],[0,0,0],[0,0,1]]\n",
    "\n",
    "**Output:**\n",
    "\n",
    "[[7,0,0],[-7,0,3]]"
   ]
  },
  {
   "cell_type": "code",
   "execution_count": 1,
   "metadata": {},
   "outputs": [
    {
     "data": {
      "text/plain": [
       "[[7, 0, 0], [-7, 0, 3]]"
      ]
     },
     "execution_count": 1,
     "metadata": {},
     "output_type": "execute_result"
    }
   ],
   "source": [
    "def multiply(mat1: list[list[int]], mat2: list[list[int]]):\n",
    "    rows1 = len(mat1)\n",
    "    cols1 = len(mat1[0])\n",
    "    cols2 = len(mat2[0])\n",
    "    Mp = dict()\n",
    "    res = [[0]*cols2 for i in range(rows1)]\n",
    "    \n",
    "    for i in range(rows1):\n",
    "        for j in range(cols1):\n",
    "            if mat1[i][j]!=0:\n",
    "                Mp.setdefault(i,[]).append(j)\n",
    "\n",
    "    for i in range(rows1):\n",
    "        for j in range(cols2):\n",
    "            for k in Mp[i]:\n",
    "                res[i][j] += mat1[i][k]*mat2[k][j]\n",
    "    return res\n",
    "\n",
    "mat1 = [[1,0,0], [-1,0,3]]\n",
    "mat2 = [[7,0,0], [0,0,0], [0,0,1]]\n",
    "multiply(mat1, mat2)"
   ]
  }
 ],
 "metadata": {
  "kernelspec": {
   "display_name": "py11env",
   "language": "python",
   "name": "python3"
  },
  "language_info": {
   "codemirror_mode": {
    "name": "ipython",
    "version": 3
   },
   "file_extension": ".py",
   "mimetype": "text/x-python",
   "name": "python",
   "nbconvert_exporter": "python",
   "pygments_lexer": "ipython3",
   "version": "3.11.0"
  },
  "orig_nbformat": 4
 },
 "nbformat": 4,
 "nbformat_minor": 2
}
