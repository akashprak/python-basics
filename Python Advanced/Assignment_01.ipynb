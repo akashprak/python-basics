{
 "cells": [
  {
   "attachments": {},
   "cell_type": "markdown",
   "metadata": {},
   "source": [
    "#### 1. What is the purpose of Python's OOP?\n",
    "**Ans**:\n",
    "- Python's OOP helps in bringing data and functions together in a class and restricts its access from outside the class.\n",
    "- It implements inheritance, abstraction, encapsulation etc.\n",
    "- Python OOP's classes create the blueprint upon which further modifications can be made through inheritance, hence making the program memory efficient.\n",
    "- classes and objects make for the better understanding of the code's operations\n",
    "- modifications can be made to the program without disturbing other functions"
   ]
  },
  {
   "attachments": {},
   "cell_type": "markdown",
   "metadata": {},
   "source": [
    "#### Q2. Where does an inheritance search look for an attribute?\n",
    "**Ans**: An inheritance search looks for an attribute in the following order:\n",
    "- instance level\n",
    "- class level of the instance class\n",
    "- super classes  \n",
    "\n",
    "The search in the super classes follows the Method Resolution Order."
   ]
  },
  {
   "attachments": {},
   "cell_type": "markdown",
   "metadata": {},
   "source": [
    "#### Q3. How do you distinguish between a class object and an instance object?\n",
    "**Ans**:\n",
    "- In python **Object** is the super class of all classes, so class itself is an instance of object.\n",
    "- we can create any number of instances for classes in python, which is called objects, so the terms instance and object can be used interchangeably.\n",
    "- classes are only created once from which any number of objects are instantiated.\n",
    "- we can access only class attrubutes and methods from the class level but instances can access both class and instance level attributes and methods."
   ]
  },
  {
   "attachments": {},
   "cell_type": "markdown",
   "metadata": {},
   "source": [
    "#### Q4. What makes the first argument in a class’s method function special?\n",
    "**Ans**:\n",
    "- The first argument for a classmethod is `cls`, which references the class itself. This method is used to deploy class level operations like mass instantiation.\n",
    "- The first argument for instance methods is `self` which refernces the object. This is used to deploy instance level operations which is unique for each instance. "
   ]
  },
  {
   "attachments": {},
   "cell_type": "markdown",
   "metadata": {},
   "source": [
    "#### Q5. What is the purpose of the `__init__` method?\n",
    "**Ans**: `__init__` method is used to instantiate a class."
   ]
  },
  {
   "attachments": {},
   "cell_type": "markdown",
   "metadata": {},
   "source": [
    "#### Q6. What is the process for creating a class instance?\n",
    "**Ans**: Class instances are created by passing necessary arguments to the class name.  \n",
    "for a class named foo, `foo(arg1,arg2)` creates an instance."
   ]
  },
  {
   "attachments": {},
   "cell_type": "markdown",
   "metadata": {},
   "source": [
    "#### Q7. What is the process for creating a class?\n",
    "**Ans**: classes can be created by using the keyword `class` followed by the class name. The attributes and methods are written inside the class with indentation."
   ]
  },
  {
   "attachments": {},
   "cell_type": "markdown",
   "metadata": {},
   "source": [
    "#### Q8. How would you define the superclasses of a class?\n",
    "**Ans**: superclass is the class from which a class inherits attributes and methods. superclasses go up hierarchially with the object class at the top."
   ]
  }
 ],
 "metadata": {
  "kernelspec": {
   "display_name": "py11env",
   "language": "python",
   "name": "python3"
  },
  "language_info": {
   "codemirror_mode": {
    "name": "ipython",
    "version": 3
   },
   "file_extension": ".py",
   "mimetype": "text/x-python",
   "name": "python",
   "nbconvert_exporter": "python",
   "pygments_lexer": "ipython3",
   "version": "3.11.0"
  },
  "orig_nbformat": 4
 },
 "nbformat": 4,
 "nbformat_minor": 2
}
