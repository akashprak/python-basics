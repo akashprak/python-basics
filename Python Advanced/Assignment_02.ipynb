{
 "cells": [
  {
   "attachments": {},
   "cell_type": "markdown",
   "metadata": {},
   "source": [
    "#### 1. What is the relationship between classes and modules?\n",
    "**Ans**:\n",
    "- In python, classes are blueprints to create objects. Classes bundle together attributes and methods and restrict their access from outside the class.  \n",
    "classes are used to segregate different types or parts of the code.\n",
    "- modules are simply any `.py` file which can be imported from any other python file. modules behave similar to classes in segregating the code and bundling related scripts."
   ]
  },
  {
   "attachments": {},
   "cell_type": "markdown",
   "metadata": {},
   "source": [
    "#### 2. How do you make instances and classes?\n",
    "**Ans**:\n",
    "- Instances are created by passing necessary arguments to the class name.  \n",
    "for a class named foo, `foo(arg1,arg2)` creates an instance.\n",
    "- classes can be created by using the keyword `class` followed by the class name."
   ]
  },
  {
   "attachments": {},
   "cell_type": "markdown",
   "metadata": {},
   "source": [
    "#### 3. Where and how should be class attributes created?\n",
    "**Ans**: class attributes should be created right after defining the class and writing the docstring.  \n",
    "Class attributes are created just like variables are created, by assigning a value to them.  \n",
    "Class attributes can also be created like:\n",
    "```\n",
    "class foo:\n",
    "    pass\n",
    "foo.name = 'bar'\n",
    "```"
   ]
  },
  {
   "attachments": {},
   "cell_type": "markdown",
   "metadata": {},
   "source": [
    "#### 4. Where and how are instance attributes created?\n",
    "**Ans**: Instance attributes are created inside the `__init__` method.  \n",
    "They can also be created like:\n",
    "```\n",
    "class foo:\n",
    "    pass\n",
    "\n",
    "C = foo()\n",
    "C.name = 'bar'\n",
    "```"
   ]
  },
  {
   "attachments": {},
   "cell_type": "markdown",
   "metadata": {},
   "source": [
    "#### 5. What does the term \"self\" in a Python class mean?\n",
    "**Ans**: `self` in a python class is used in instance methods as the first argument to reference the instance itself."
   ]
  },
  {
   "attachments": {},
   "cell_type": "markdown",
   "metadata": {},
   "source": [
    "#### 6. How does a Python class handle operator overloading?\n",
    "**Ans**: In python, operator overloading is as simple as redefining the magic method for the required operator inside the class."
   ]
  },
  {
   "attachments": {},
   "cell_type": "markdown",
   "metadata": {},
   "source": [
    "#### 7. When do you consider allowing operator overloading of your classes?\n",
    "**Ans**: Operator overloading is done when we wish to give additional functionality to an operator specific to the class."
   ]
  },
  {
   "cell_type": "code",
   "execution_count": 1,
   "metadata": {},
   "outputs": [
    {
     "data": {
      "text/plain": [
       "103"
      ]
     },
     "execution_count": 1,
     "metadata": {},
     "output_type": "execute_result"
    }
   ],
   "source": [
    "class foo:\n",
    "\n",
    "    def __init__(self, a) -> None:\n",
    "        self.a = a\n",
    "\n",
    "    def __add__(self,other):\n",
    "        return self.a+other.a +100 # adding 100 to sum\n",
    "    \n",
    "a,b = foo(1),foo(2)\n",
    "a+b"
   ]
  },
  {
   "attachments": {},
   "cell_type": "markdown",
   "metadata": {},
   "source": [
    "#### 8. What is the most popular form of operator overloading?\n",
    "**Ans**: The popular form of operator overloading is by using `magic methods`."
   ]
  },
  {
   "attachments": {},
   "cell_type": "markdown",
   "metadata": {},
   "source": [
    "#### 9. What are the two most important concepts to grasp in order to comprehend Python OOP code\n",
    "**Ans**: The two most important concepts for python OOP are:\n",
    "- classes\n",
    "- objects"
   ]
  }
 ],
 "metadata": {
  "kernelspec": {
   "display_name": "py11env",
   "language": "python",
   "name": "python3"
  },
  "language_info": {
   "codemirror_mode": {
    "name": "ipython",
    "version": 3
   },
   "file_extension": ".py",
   "mimetype": "text/x-python",
   "name": "python",
   "nbconvert_exporter": "python",
   "pygments_lexer": "ipython3",
   "version": "3.11.0"
  },
  "orig_nbformat": 4
 },
 "nbformat": 4,
 "nbformat_minor": 2
}
