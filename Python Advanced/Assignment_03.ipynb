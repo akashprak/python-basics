{
 "cells": [
  {
   "attachments": {},
   "cell_type": "markdown",
   "metadata": {},
   "source": [
    "#### 1. What is the concept of an abstract superclass?\n",
    "**Ans**: Abstract classes are used to create skeleton for defining classes. Classes inherit from abstract classes.  \n",
    "They include abstractmethods which only have a `pass` inside them.  \n",
    "Abstract classes cannot be instantiated"
   ]
  },
  {
   "attachments": {},
   "cell_type": "markdown",
   "metadata": {},
   "source": [
    "#### 2. What happens when a class statement's top level contains a basic assignment statement?\n",
    "**Ans**: The assignment statements at the top level of a class is treated as class attributes."
   ]
  },
  {
   "attachments": {},
   "cell_type": "markdown",
   "metadata": {},
   "source": [
    "#### 3. Why does a class need to manually call a superclass's `__init__` method?\n",
    "**Ans**: The `__init__` method of the class overrides the `__init__` method of the superclass, thereby requiring to manually call the superclass `__init__`."
   ]
  },
  {
   "attachments": {},
   "cell_type": "markdown",
   "metadata": {},
   "source": [
    "#### 4. How can you augment, instead of completely replacing, an inherited method?\n",
    "**Ans**: To augment an inherited method, we can use the `super()` function."
   ]
  },
  {
   "attachments": {},
   "cell_type": "markdown",
   "metadata": {},
   "source": [
    "#### 5. How is the local scope of a class different from that of a function?\n",
    "**Ans**:\n",
    "- In the local scope of a function the variables and functions are limited in access inside the function definition only.  \n",
    "- In class local scope the attributes and methods are accessible inside the class and also it can be accessed outside class definition by using the `dot operator`.\n",
    "```\n",
    "class foo:\n",
    "    K = 1\n",
    "\n",
    "foo.k\n",
    "```"
   ]
  }
 ],
 "metadata": {
  "language_info": {
   "name": "python"
  },
  "orig_nbformat": 4
 },
 "nbformat": 4,
 "nbformat_minor": 2
}
