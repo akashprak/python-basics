{
 "cells": [
  {
   "attachments": {},
   "cell_type": "markdown",
   "metadata": {},
   "source": [
    "#### 1. Which two operator overloading methods can you use in your classes to support iteration?\n",
    "**Ans**: The `__iter__` and `__next__` magic methods are used to support iteration."
   ]
  },
  {
   "cell_type": "code",
   "execution_count": 3,
   "metadata": {},
   "outputs": [
    {
     "name": "stdout",
     "output_type": "stream",
     "text": [
      "4\n",
      "9\n",
      "16\n",
      "25\n"
     ]
    }
   ],
   "source": [
    "class sqIter:\n",
    "    def __init__(self, start, end) -> None:\n",
    "        self.now = start\n",
    "        self.end = end\n",
    "\n",
    "    def __iter__(self):\n",
    "        return self\n",
    "\n",
    "    def __next__(self):\n",
    "        if self.now>self.end:\n",
    "            raise StopIteration\n",
    "\n",
    "        else:\n",
    "            self.now+=1\n",
    "            return (self.now-1)**2\n",
    "\n",
    "sq = sqIter(2,5)\n",
    "for i in sq:\n",
    "    print(i)"
   ]
  },
  {
   "attachments": {},
   "cell_type": "markdown",
   "metadata": {},
   "source": [
    "#### 2. In what contexts do the two operator overloading methods manage printing?\n",
    "**Ans**: The two operator methods that manage printing are `__str__` and `__repr__`.\n",
    "- `__str__` is used to denote what will be printed on the print function call. It is focused on readability\n",
    "- `__repr__` is used to represent all details about the class or object. It is meant for developer use."
   ]
  },
  {
   "attachments": {},
   "cell_type": "markdown",
   "metadata": {},
   "source": [
    "#### 3. In a class, how do you intercept slice operations?\n",
    "**Ans**: Slice operations can be intercepted using the magic method `__getitem__` ."
   ]
  },
  {
   "cell_type": "code",
   "execution_count": 5,
   "metadata": {},
   "outputs": [
    {
     "data": {
      "text/plain": [
       "'abcd'"
      ]
     },
     "execution_count": 5,
     "metadata": {},
     "output_type": "execute_result"
    }
   ],
   "source": [
    "class alphabets:\n",
    "    alph = 'abcdefghijklmnopqrstuvwxyz'\n",
    "\n",
    "    def __getitem__(self, sliced):\n",
    "        return self.alph[sliced]\n",
    "    \n",
    "alphabets()[0:4]"
   ]
  },
  {
   "attachments": {},
   "cell_type": "markdown",
   "metadata": {},
   "source": [
    "#### 4. In a class, how do you capture in-place addition?\n",
    "**Ans**: In-place addition is handled by using the `__iadd__` method."
   ]
  },
  {
   "attachments": {},
   "cell_type": "markdown",
   "metadata": {},
   "source": [
    "#### 5. When is it appropriate to use operator overloading?  \n",
    "**Ans**: Operator overloading is to be used when we want additional or different functionality to an existing operator in python."
   ]
  }
 ],
 "metadata": {
  "kernelspec": {
   "display_name": "py11env",
   "language": "python",
   "name": "python3"
  },
  "language_info": {
   "codemirror_mode": {
    "name": "ipython",
    "version": 3
   },
   "file_extension": ".py",
   "mimetype": "text/x-python",
   "name": "python",
   "nbconvert_exporter": "python",
   "pygments_lexer": "ipython3",
   "version": "3.11.0"
  },
  "orig_nbformat": 4
 },
 "nbformat": 4,
 "nbformat_minor": 2
}
