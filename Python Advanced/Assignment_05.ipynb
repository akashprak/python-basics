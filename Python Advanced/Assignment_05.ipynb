{
 "cells": [
  {
   "attachments": {},
   "cell_type": "markdown",
   "metadata": {},
   "source": [
    "#### 1. What is the meaning of multiple inheritance?\n",
    "**Ans**: Multiple inheritance refers to a class inheriting from more than one super classes."
   ]
  },
  {
   "cell_type": "code",
   "execution_count": 1,
   "metadata": {},
   "outputs": [],
   "source": [
    "class A:\n",
    "    pass\n",
    "\n",
    "class B:\n",
    "    pass\n",
    "\n",
    "class C(A,B):   # multiple inheritance\n",
    "    pass"
   ]
  },
  {
   "attachments": {},
   "cell_type": "markdown",
   "metadata": {},
   "source": [
    "#### 2. What is the concept of delegation?\n",
    "**Ans**: Delegation refers to where an object, delegate, performs tasks on behalf of another object, delegator."
   ]
  },
  {
   "cell_type": "code",
   "execution_count": 5,
   "metadata": {},
   "outputs": [
    {
     "name": "stdout",
     "output_type": "stream",
     "text": [
      "Task 1\n",
      "Task 2\n",
      "Task 3\n"
     ]
    }
   ],
   "source": [
    "class delegate:\n",
    "    def task2(self):\n",
    "        print('Task 2')\n",
    "\n",
    "    def task3(self):\n",
    "        print('Task 3')\n",
    "\n",
    "class delegator:\n",
    "    def __init__(self) -> None:\n",
    "        self._delegate = delegate()\n",
    "        \n",
    "    def task1(self):\n",
    "        print('Task 1')\n",
    "\n",
    "    # one method of delegation for simple classes\n",
    "    def task2(self):\n",
    "        self._delegate.task2()\n",
    "\n",
    "    # for complex classes\n",
    "    def __getattr__(self, __name: str) -> Any:\n",
    "        return getattr(self._delegate, __name)\n",
    "    \n",
    "x = delegator()\n",
    "x.task1()\n",
    "x.task2()\n",
    "x.task3()"
   ]
  },
  {
   "attachments": {},
   "cell_type": "markdown",
   "metadata": {},
   "source": [
    "#### 3. What is the concept of composition?\n",
    "**Ans**: Composition is the concept of a class including objects of another class or classes."
   ]
  },
  {
   "cell_type": "code",
   "execution_count": 6,
   "metadata": {},
   "outputs": [],
   "source": [
    "class foo:\n",
    "    pass\n",
    "\n",
    "class bar:\n",
    "    def __init__(self) -> None:\n",
    "        self._f = foo()"
   ]
  },
  {
   "attachments": {},
   "cell_type": "markdown",
   "metadata": {},
   "source": [
    "#### 4. What are bound methods and how do we use them?\n",
    "**Ans**: Bound methods are the methods which has instance as the first argument. Bound methods are used by calling them from the class instances. "
   ]
  },
  {
   "attachments": {},
   "cell_type": "markdown",
   "metadata": {},
   "source": [
    "#### 5. What is the purpose of pseudoprivate attributes?\n",
    "**Ans**: Python doesn't support truly private attrubutes or methods, instead it support pseudo-private attributes and methods.  \n",
    "Prefixing double underscore before attributes indicates that it should be treated as pseudoprivate.  \n",
    "Python changes the attribute name to `_classname__attributeName` so that attribute cannot be accessed without knowing the class name.  \n",
    "These informs the developer that the attribute is intended for the class only and changing its definition elsewhere doesn't affect the code."
   ]
  }
 ],
 "metadata": {
  "kernelspec": {
   "display_name": "py11env",
   "language": "python",
   "name": "python3"
  },
  "language_info": {
   "codemirror_mode": {
    "name": "ipython",
    "version": 3
   },
   "file_extension": ".py",
   "mimetype": "text/x-python",
   "name": "python",
   "nbconvert_exporter": "python",
   "pygments_lexer": "ipython3",
   "version": "3.11.0"
  },
  "orig_nbformat": 4
 },
 "nbformat": 4,
 "nbformat_minor": 2
}
