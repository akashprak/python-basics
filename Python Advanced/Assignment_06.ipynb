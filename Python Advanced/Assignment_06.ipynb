{
 "cells": [
  {
   "attachments": {},
   "cell_type": "markdown",
   "metadata": {},
   "source": [
    "#### 1. Describe three applications for exception processing.\n",
    "**Ans**: Exception processing is used for different use cases:\n",
    "- To handle TypeError\n",
    "- To handle ArithmeticError\n",
    "- To handle AttributeError"
   ]
  },
  {
   "attachments": {},
   "cell_type": "markdown",
   "metadata": {},
   "source": [
    "#### 2. What happens if you don't do something extra to treat an exception?\n",
    "**Ans**: An unhandled exception will cause runtime error and break the program."
   ]
  },
  {
   "attachments": {},
   "cell_type": "markdown",
   "metadata": {},
   "source": [
    "#### 3. What are your options for recovering from an exception in your script?\n",
    "**Ans**: To recover from an exception `try` and `except` statements are used."
   ]
  },
  {
   "attachments": {},
   "cell_type": "markdown",
   "metadata": {},
   "source": [
    "#### 4. Describe two methods for triggering exceptions in your script.\n",
    "**Ans**: The methods used for triggering exceptions are:  \n",
    "- `raise`\n",
    "- `assert`"
   ]
  },
  {
   "attachments": {},
   "cell_type": "markdown",
   "metadata": {},
   "source": [
    "#### 5. Identify two methods for specifying actions to be executed at termination time, regardless of whether or not an exception exists.\n",
    "**Ans**:\n",
    "- `finally` statement executes regardless of the result of try-except block\n",
    "- using `except` and `else` we can execute statements for both the cases."
   ]
  }
 ],
 "metadata": {
  "language_info": {
   "name": "python"
  },
  "orig_nbformat": 4
 },
 "nbformat": 4,
 "nbformat_minor": 2
}
