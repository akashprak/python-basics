{
 "cells": [
  {
   "attachments": {},
   "cell_type": "markdown",
   "metadata": {},
   "source": [
    "#### 1. What is the purpose of the try statement?\n",
    "**Ans**: `try` statement is used to execute a code or pass to `except` statement if an exeception occurs."
   ]
  },
  {
   "attachments": {},
   "cell_type": "markdown",
   "metadata": {},
   "source": [
    "#### 2. What are the two most popular try statement variations?\n",
    "**Ans**: Two of the most popular variations are:  \n",
    "- `try` and `except`\n",
    "- `try`, `except` and `finally`"
   ]
  },
  {
   "attachments": {},
   "cell_type": "markdown",
   "metadata": {},
   "source": [
    "#### 3. What is the purpose of the raise statement?\n",
    "**Ans**: `raise` statements are used to trigger an exception."
   ]
  },
  {
   "attachments": {},
   "cell_type": "markdown",
   "metadata": {},
   "source": [
    "#### 4. What does the assert statement do, and what other statement is it like?\n",
    "**Ans**: `assert` statement checks a condition and returns assertionError if the condition returns False. It is similar to a `raise` statement."
   ]
  },
  {
   "attachments": {},
   "cell_type": "markdown",
   "metadata": {},
   "source": [
    "#### 5. What is the purpose of the with/as argument, and what other statement is it like?\n",
    "**Ans**: The `with` statement ensures the proper acquisition and deallocation of resources. `as` denotes the identifier name that will be used inside the `with` block.  \n",
    "`with` handles the entry and exit methods automatically.  It is similar to the `open()` and `close()` methods."
   ]
  }
 ],
 "metadata": {
  "language_info": {
   "name": "python"
  },
  "orig_nbformat": 4
 },
 "nbformat": 4,
 "nbformat_minor": 2
}
