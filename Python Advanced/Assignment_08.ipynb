{
 "cells": [
  {
   "attachments": {},
   "cell_type": "markdown",
   "metadata": {},
   "source": [
    "#### 1. What are the two latest user-defined exception constraints in Python 3.X?\n",
    "**Ans**:\n",
    "1. `raise` - raise is used to trigger exception when the developer needs  \n",
    "` raise Exception('Error occured')`\n",
    "1. Exception classes"
   ]
  },
  {
   "cell_type": "code",
   "execution_count": 1,
   "metadata": {},
   "outputs": [
    {
     "ename": "customError",
     "evalue": "custom Error",
     "output_type": "error",
     "traceback": [
      "\u001b[1;31m---------------------------------------------------------------------------\u001b[0m",
      "\u001b[1;31mcustomError\u001b[0m                               Traceback (most recent call last)",
      "Cell \u001b[1;32mIn[1], line 4\u001b[0m\n\u001b[0;32m      1\u001b[0m \u001b[39mclass\u001b[39;00m \u001b[39mcustomError\u001b[39;00m(\u001b[39mException\u001b[39;00m):\n\u001b[0;32m      2\u001b[0m     \u001b[39mpass\u001b[39;00m\n\u001b[1;32m----> 4\u001b[0m \u001b[39mraise\u001b[39;00m customError(\u001b[39m'\u001b[39m\u001b[39mcustom Error\u001b[39m\u001b[39m'\u001b[39m)\n",
      "\u001b[1;31mcustomError\u001b[0m: custom Error"
     ]
    }
   ],
   "source": [
    "class customError(Exception):\n",
    "    pass\n",
    "\n",
    "raise customError('custom Error')"
   ]
  },
  {
   "attachments": {},
   "cell_type": "markdown",
   "metadata": {},
   "source": [
    "#### 2. How are class-based exceptions that have been raised matched to handlers?\n",
    "**Ans**: class based exceptions inherit from the `Exception` class, which get matched to the handlers. All exceptions are derived from the baseException class."
   ]
  },
  {
   "attachments": {},
   "cell_type": "markdown",
   "metadata": {},
   "source": [
    "#### 3. Describe two methods for attaching context information to exception artefacts.\n",
    "**Ans**:\n",
    "1. by using user-defined Exception\n",
    "1. by adding context to the exception inside the except block"
   ]
  },
  {
   "cell_type": "code",
   "execution_count": 2,
   "metadata": {},
   "outputs": [
    {
     "name": "stdout",
     "output_type": "stream",
     "text": [
      "Additional data:\n",
      " ID:12345\n"
     ]
    },
    {
     "ename": "userException",
     "evalue": "Error Occured",
     "output_type": "error",
     "traceback": [
      "\u001b[1;31m---------------------------------------------------------------------------\u001b[0m",
      "\u001b[1;31muserException\u001b[0m                             Traceback (most recent call last)",
      "Cell \u001b[1;32mIn[2], line 7\u001b[0m\n\u001b[0;32m      3\u001b[0m         \u001b[39mprint\u001b[39m(\u001b[39mf\u001b[39m\u001b[39m'\u001b[39m\u001b[39mAdditional data:\u001b[39m\u001b[39m\\n\u001b[39;00m\u001b[39m \u001b[39m\u001b[39m{\u001b[39;00mdata\u001b[39m}\u001b[39;00m\u001b[39m'\u001b[39m)\n\u001b[0;32m      4\u001b[0m         \u001b[39msuper\u001b[39m()\u001b[39m.\u001b[39m\u001b[39m__init__\u001b[39m(\u001b[39m*\u001b[39margs)\n\u001b[1;32m----> 7\u001b[0m \u001b[39mraise\u001b[39;00m userException(\u001b[39m'\u001b[39m\u001b[39mID:12345\u001b[39m\u001b[39m'\u001b[39m,\u001b[39m'\u001b[39m\u001b[39mError Occured\u001b[39m\u001b[39m'\u001b[39m)\n",
      "\u001b[1;31muserException\u001b[0m: Error Occured"
     ]
    }
   ],
   "source": [
    "class userException(Exception):\n",
    "    def __init__(self, data, *args) -> None:\n",
    "        print(f'Additional data:\\n {data}')\n",
    "        super().__init__(*args)\n",
    "\n",
    "\n",
    "raise userException('ID:12345','Error Occured')"
   ]
  },
  {
   "cell_type": "code",
   "execution_count": 3,
   "metadata": {},
   "outputs": [
    {
     "name": "stdout",
     "output_type": "stream",
     "text": [
      "Tried dividing with zero\n"
     ]
    },
    {
     "ename": "ZeroDivisionError",
     "evalue": "division by zero",
     "output_type": "error",
     "traceback": [
      "\u001b[1;31m---------------------------------------------------------------------------\u001b[0m",
      "\u001b[1;31mZeroDivisionError\u001b[0m                         Traceback (most recent call last)",
      "Cell \u001b[1;32mIn[3], line 2\u001b[0m\n\u001b[0;32m      1\u001b[0m \u001b[39mtry\u001b[39;00m:\n\u001b[1;32m----> 2\u001b[0m     \u001b[39m1\u001b[39;49m\u001b[39m/\u001b[39;49m\u001b[39m0\u001b[39;49m\n\u001b[0;32m      3\u001b[0m \u001b[39mexcept\u001b[39;00m \u001b[39mZeroDivisionError\u001b[39;00m:\n\u001b[0;32m      4\u001b[0m     \u001b[39mprint\u001b[39m(\u001b[39m'\u001b[39m\u001b[39mTried dividing with zero\u001b[39m\u001b[39m'\u001b[39m)\n",
      "\u001b[1;31mZeroDivisionError\u001b[0m: division by zero"
     ]
    }
   ],
   "source": [
    "try:\n",
    "    1/0\n",
    "except ZeroDivisionError:\n",
    "    print('Tried dividing with zero')\n",
    "    raise"
   ]
  },
  {
   "attachments": {},
   "cell_type": "markdown",
   "metadata": {},
   "source": [
    "#### 4. Describe two methods for specifying the text of an exception object's error message.\n",
    "**Ans**:\n",
    "- `raise` statement can be used to specify text on the error message\n",
    "- `assert` statement lets us specify the text on the AssertionError message"
   ]
  },
  {
   "attachments": {},
   "cell_type": "markdown",
   "metadata": {},
   "source": [
    "#### 5. Why do you no longer use string-based exceptions?\n",
    "**Ans**: string based exceptions was changed to class based exceptions to bring in structure and flexibility to exceptions. The class based Exceptions were also less error prone than string based ones."
   ]
  }
 ],
 "metadata": {
  "kernelspec": {
   "display_name": "py11env",
   "language": "python",
   "name": "python3"
  },
  "language_info": {
   "codemirror_mode": {
    "name": "ipython",
    "version": 3
   },
   "file_extension": ".py",
   "mimetype": "text/x-python",
   "name": "python",
   "nbconvert_exporter": "python",
   "pygments_lexer": "ipython3",
   "version": "3.11.0"
  },
  "orig_nbformat": 4
 },
 "nbformat": 4,
 "nbformat_minor": 2
}
