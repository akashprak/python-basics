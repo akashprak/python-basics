{
 "cells": [
  {
   "attachments": {},
   "cell_type": "markdown",
   "metadata": {},
   "source": [
    "#### 1. In Python 3.X, what are the names and functions of string object types?\n",
    "**Ans**:\n",
    "- **replace**: replace character(s) in a string with another\n",
    "- **split**: splits the string on the specified character\n",
    "- **rsplit**: splits starting from the right\n",
    "- **splitlines**: splits at linebreaks\n",
    "- **partition**: splits the string into 3 parts\n",
    "- **upper**: converts to uppercase\n",
    "- **lower**: converts to lowercase\n",
    "- **title**: converts to titlecase\n",
    "- **capitalize**: capitalizes the string\n",
    "- **swapcase**: swaps the cases\n",
    "- **join**: joins stringd\n",
    "- **strip**: removes character from both sides of the string\n",
    "- **lstrip**: removes characters on the left\n",
    "- **rstrip**: removes characters on the right\n",
    "- **center**: centers the string\n",
    "- **ljust**: left justifited version of string\n",
    "- **rjust**: right justified version of the string\n",
    "- **isupper**: checks if all characters are uppercase\n",
    "- **islower**: checks if all characters are lowercase\n",
    "- **isspace**: checks if the string is spaces\n",
    "- **isupper**: checks if string is titlecase\n",
    "- **isdigit**: checks if string is digit\n",
    "- **isnumeric**: checks if string is numeric\n",
    "- **isdecimal**: checks if string is decimal\n",
    "- **isalpha**: checks if string is alphabets\n",
    "- **isalnum**: checks if string is alphanumeric\n",
    "- **isascii**: checks if string is ASCII\n",
    "- **startswith**: checks if string startswith given characters\n",
    "- **endswith**: checks if string ends with given characters\n",
    "- **find**: finds lowest index where value is found\n",
    "- **rfind**: finds largest index where value is found\n",
    "- **index**: finds lowest index where value is found or raise valueError\n",
    "- **rindex**: finds largest index where value is found or raise valueError\n",
    "- **zfill**: fills with leading zeroes"
   ]
  },
  {
   "attachments": {},
   "cell_type": "markdown",
   "metadata": {},
   "source": [
    "#### 2. How do the string forms in Python 3.X vary in terms of operations?\n",
    "**Ans**: Python 3 has more powerful string formatting than python 2.\n",
    "- python 3 has f-strings which has more ways of formatting the string than the old '%' way\n",
    "- another formatting method is using `.format` which works the same as f-strings"
   ]
  },
  {
   "attachments": {},
   "cell_type": "markdown",
   "metadata": {},
   "source": [
    "#### 3. In 3.X, how do you put non-ASCII Unicode characters in a string?\n",
    "**Ans**: This can be achieved by using the unidecode library"
   ]
  },
  {
   "cell_type": "code",
   "execution_count": 2,
   "metadata": {},
   "outputs": [
    {
     "data": {
      "text/plain": [
       "'Do svidaniia'"
      ]
     },
     "execution_count": 2,
     "metadata": {},
     "output_type": "execute_result"
    }
   ],
   "source": [
    "from unidecode import unidecode\n",
    "\n",
    "unidecode(\"До свидания\")"
   ]
  },
  {
   "attachments": {},
   "cell_type": "markdown",
   "metadata": {},
   "source": [
    "#### 4. In Python 3.X, what are the key differences between text-mode and binary-mode files?\n",
    "**Ans**:\n",
    "- Text mode reads the data as a string values or textual information, while binary mode contains information  as bytes type.\n",
    "- Text mode requires decoding the data, but bytes are passed in its raw form\n",
    "- Text mode is used for text files like csv,xlss etc. and binary is used on files like images,videos etc"
   ]
  },
  {
   "attachments": {},
   "cell_type": "markdown",
   "metadata": {},
   "source": [
    "#### 5. How can you interpret a Unicode text file containing text encoded in a different encoding than your platform's default?\n",
    "**Ans**: A text file with different encoding can be interpreted by using `encode()` and `decode()`"
   ]
  },
  {
   "cell_type": "code",
   "execution_count": 16,
   "metadata": {},
   "outputs": [
    {
     "data": {
      "text/plain": [
       "'apple'"
      ]
     },
     "execution_count": 16,
     "metadata": {},
     "output_type": "execute_result"
    }
   ],
   "source": [
    "txt = 'apple'.encode('utf32')\n",
    "# txt = b'\\xff\\xfe\\x00\\x00a\\x00\\x00\\x00p\\x00\\x00\\x00p\\x00\\x00\\x00l\\x00\\x00\\x00e\\x00\\x00\\x00'\n",
    "txt.decode('utf32')"
   ]
  },
  {
   "attachments": {},
   "cell_type": "markdown",
   "metadata": {},
   "source": [
    "#### 6. What is the best way to make a Unicode text file in a particular encoding format?\n",
    "**Ans**: The `str.encode()` method is best to make unicode file in a particular encoding."
   ]
  },
  {
   "attachments": {},
   "cell_type": "markdown",
   "metadata": {},
   "source": [
    "#### 7. What qualifies ASCII text as a form of Unicode text?\n",
    "**Ans**: `unicode` encodes special texts from different languages, letters, symbols etc. `ASCII` encodes letters, symbols, digits etc, therefore ASCII is a subset of unicode which ASCII as a form of unicode text. "
   ]
  },
  {
   "attachments": {},
   "cell_type": "markdown",
   "metadata": {},
   "source": [
    "#### 8. How much of an effect does the change in string types in Python 3.X have on your code?\n",
    "**Ans**:Python 3 stores strings as Unicode by default whereas Python 2 requires you to mark a string with a `u` if you want to store it as Unicode. Therefore python 3 bought more power to string types which made working with strings flexible and versatile."
   ]
  }
 ],
 "metadata": {
  "kernelspec": {
   "display_name": "py11env",
   "language": "python",
   "name": "python3"
  },
  "language_info": {
   "codemirror_mode": {
    "name": "ipython",
    "version": 3
   },
   "file_extension": ".py",
   "mimetype": "text/x-python",
   "name": "python",
   "nbconvert_exporter": "python",
   "pygments_lexer": "ipython3",
   "version": "3.11.0"
  },
  "orig_nbformat": 4
 },
 "nbformat": 4,
 "nbformat_minor": 2
}
