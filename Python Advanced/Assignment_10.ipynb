{
 "cells": [
  {
   "attachments": {},
   "cell_type": "markdown",
   "metadata": {},
   "source": [
    "#### 1. What is the difference between `__getattr__` and `__getattribute__`?\n",
    "**Ans**:\n",
    "- The `__getattr__` method is called whenever an object tries to access an attribute that doesn't exist. We can redirect it to a different class to return the value of the attribute.\n",
    "- The `__getattribute__` method is called before an object tries to access any attribute. This helps us to put conditions while accessing certain attributes, etc.\n"
   ]
  },
  {
   "cell_type": "code",
   "execution_count": 2,
   "metadata": {},
   "outputs": [
    {
     "name": "stdout",
     "output_type": "stream",
     "text": [
      "apple\n",
      "0\n"
     ]
    }
   ],
   "source": [
    "class A:\n",
    "    name = 'apple'\n",
    "    \n",
    "    def __getattr__(self, __name: str):\n",
    "        self.__name = 0     # creates the non-existent attribute and sets the value to zero\n",
    "        return 0\n",
    "\n",
    "print(A().name)\n",
    "print(A().price)"
   ]
  },
  {
   "cell_type": "code",
   "execution_count": 4,
   "metadata": {},
   "outputs": [
    {
     "ename": "Exception",
     "evalue": "Access Denied",
     "output_type": "error",
     "traceback": [
      "\u001b[1;31m---------------------------------------------------------------------------\u001b[0m",
      "\u001b[1;31mException\u001b[0m                                 Traceback (most recent call last)",
      "Cell \u001b[1;32mIn[4], line 10\u001b[0m\n\u001b[0;32m      7\u001b[0m             \u001b[39mraise\u001b[39;00m \u001b[39mException\u001b[39;00m(\u001b[39m'\u001b[39m\u001b[39mAccess Denied\u001b[39m\u001b[39m'\u001b[39m)\n\u001b[0;32m      8\u001b[0m         \u001b[39mreturn\u001b[39;00m \u001b[39mobject\u001b[39m\u001b[39m.\u001b[39m\u001b[39m__getattribute__\u001b[39m(\u001b[39mself\u001b[39m,__name)\n\u001b[1;32m---> 10\u001b[0m B()\u001b[39m.\u001b[39;49mpassword\n",
      "Cell \u001b[1;32mIn[4], line 7\u001b[0m, in \u001b[0;36mB.__getattribute__\u001b[1;34m(self, _B__name)\u001b[0m\n\u001b[0;32m      5\u001b[0m \u001b[39mdef\u001b[39;00m \u001b[39m__getattribute__\u001b[39m(\u001b[39mself\u001b[39m, __name: \u001b[39mstr\u001b[39m):\n\u001b[0;32m      6\u001b[0m     \u001b[39mif\u001b[39;00m __name\u001b[39m==\u001b[39m\u001b[39m'\u001b[39m\u001b[39mpassword\u001b[39m\u001b[39m'\u001b[39m:\n\u001b[1;32m----> 7\u001b[0m         \u001b[39mraise\u001b[39;00m \u001b[39mException\u001b[39;00m(\u001b[39m'\u001b[39m\u001b[39mAccess Denied\u001b[39m\u001b[39m'\u001b[39m)\n\u001b[0;32m      8\u001b[0m     \u001b[39mreturn\u001b[39;00m \u001b[39mobject\u001b[39m\u001b[39m.\u001b[39m\u001b[39m__getattribute__\u001b[39m(\u001b[39mself\u001b[39m,__name)\n",
      "\u001b[1;31mException\u001b[0m: Access Denied"
     ]
    }
   ],
   "source": [
    "class B:\n",
    "    ID = '007'\n",
    "    password = 'bond'\n",
    "\n",
    "    def __getattribute__(self, __name: str):\n",
    "        if __name=='password':\n",
    "            raise Exception('Access Denied')\n",
    "        return object.__getattribute__(self,__name)\n",
    "    \n",
    "B().password"
   ]
  },
  {
   "attachments": {},
   "cell_type": "markdown",
   "metadata": {},
   "source": [
    "#### 2. What is the difference between properties and descriptors?\n",
    "**Ans**:\n",
    "- Descriptors are special objects that implement the descriptor protocol, they are used for giving special behaviour to attributes when they are accessed. A separate descriptor class is created to implement it.\n",
    "- properties or `property` is python's implementation of descriptor protocol. We can give set,get, and delete methods to the property."
   ]
  },
  {
   "attachments": {},
   "cell_type": "markdown",
   "metadata": {},
   "source": [
    "#### 3. What are the key differences in functionality between `__getattr__` and `__getattribute__`, as well as properties and descriptors?\n",
    "**Ans**: \n",
    "- `__getattr__`: This magic method is accessed whenever an object tries to access an attribute that doesn't exist.\n",
    "- `__getattribute__`: This method is accessed when an object tries to access an attribute, irrespective of their existence. The `__getattr__` method is accessed first if it exists. \n",
    "+ Descriptors are objects used to give special behaviour to attributes when they are accessed. A descriptor class with `__get__` , `__set__` methods are used to achieve this.\n",
    "+ property is a descriptor in python which helps in deploying the getter, setter methods.  \n",
    "  \n",
    "Descriptors and property are used to give behaviour to each attributes one by one, while `__getattr__` and `__getattribute__` set behaviour to all attributes as a whole."
   ]
  }
 ],
 "metadata": {
  "kernelspec": {
   "display_name": "py11env",
   "language": "python",
   "name": "python3"
  },
  "language_info": {
   "codemirror_mode": {
    "name": "ipython",
    "version": 3
   },
   "file_extension": ".py",
   "mimetype": "text/x-python",
   "name": "python",
   "nbconvert_exporter": "python",
   "pygments_lexer": "ipython3",
   "version": "3.11.0"
  },
  "orig_nbformat": 4
 },
 "nbformat": 4,
 "nbformat_minor": 2
}
