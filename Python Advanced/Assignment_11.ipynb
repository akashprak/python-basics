{
 "cells": [
  {
   "attachments": {},
   "cell_type": "markdown",
   "metadata": {},
   "source": [
    "#### 1. What is the concept of a metaclass?\n",
    "**Ans**: In python, the `class` itself is an object, it is the instance of `metaclass`. The `type` class is default metaclass which is responsible for making classes. Since classes are also objects, they can be modified to create metaclasses and create objects or inherit from it."
   ]
  },
  {
   "attachments": {},
   "cell_type": "markdown",
   "metadata": {},
   "source": [
    "#### 2. What is the best way to declare a class's metaclass?\n",
    "**Ans**: There are two ways of creating a metaclass:\n",
    "- using `type()`: the type function when called with three arguments creates a metaclass\n",
    "- by inheriting the `type` metaclass and overriding `__new__` method and `__init__` method."
   ]
  },
  {
   "cell_type": "code",
   "execution_count": 7,
   "metadata": {},
   "outputs": [
    {
     "name": "stdout",
     "output_type": "stream",
     "text": [
      "<class 'type'> <class 'type'>\n",
      "100\n",
      "apple\n"
     ]
    }
   ],
   "source": [
    "Test = type('Test',tuple(),dict(attr1=100,attr2 = 'apple'))\n",
    "obj = Test()\n",
    "print(type(Test),type(int))     # class itself is of type 'type'\n",
    "print(obj.attr1)\n",
    "print(obj.attr2)"
   ]
  },
  {
   "cell_type": "code",
   "execution_count": 18,
   "metadata": {},
   "outputs": [
    {
     "name": "stdout",
     "output_type": "stream",
     "text": [
      "class B created\n",
      "superclass: <class '__main__.A'>\n",
      "bases: (<class '__main__.X'>, <class '__main__.Y'>)\n"
     ]
    }
   ],
   "source": [
    "class A(type):\n",
    "    def __new__(cls, clsname, bases, clsdict):\n",
    "        print(f'class {clsname} created\\nsuperclass: {cls}\\nbases: {bases}')\n",
    "        super().__new__(cls, clsname, bases, clsdict)\n",
    "\n",
    "class X:pass\n",
    "class Y:pass\n",
    "\n",
    "class B(X, Y, metaclass=A):\n",
    "    pass"
   ]
  },
  {
   "attachments": {},
   "cell_type": "markdown",
   "metadata": {},
   "source": [
    "#### 3. How do class decorators overlap with metaclasses for handling classes?\n",
    "**Ans**: Class decorators are functions that are called on a class after it has been defined, and they can modify the class attributes or add new ones. In contrast, metaclasses are classes that are used to create new classes, and they can modify the way that the new class is constructed or add new methods or attributes to it."
   ]
  },
  {
   "attachments": {},
   "cell_type": "markdown",
   "metadata": {},
   "source": [
    "#### 4. How do class decorators overlap with metaclasses for handling instances?\n",
    "**Ans**: class decorators are generally more flexible and easier to use for modifying individual instances of a class, while metaclasses are more powerful and better suited for modifying the behavior of all instances of a class in a centralized way."
   ]
  }
 ],
 "metadata": {
  "kernelspec": {
   "display_name": "py11env",
   "language": "python",
   "name": "python3"
  },
  "language_info": {
   "codemirror_mode": {
    "name": "ipython",
    "version": 3
   },
   "file_extension": ".py",
   "mimetype": "text/x-python",
   "name": "python",
   "nbconvert_exporter": "python",
   "pygments_lexer": "ipython3",
   "version": "3.11.0"
  },
  "orig_nbformat": 4
 },
 "nbformat": 4,
 "nbformat_minor": 2
}
