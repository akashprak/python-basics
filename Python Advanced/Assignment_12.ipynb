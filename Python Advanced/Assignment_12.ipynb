{
 "cells": [
  {
   "attachments": {},
   "cell_type": "markdown",
   "metadata": {},
   "source": [
    "#### 1. Does assigning a value to a string's indexed character violate Python's string immutability?\n",
    "**Ans**: Value can't be assigned to a string's index. It raises `TypeError`"
   ]
  },
  {
   "attachments": {},
   "cell_type": "markdown",
   "metadata": {},
   "source": [
    "#### 2. Does using the += operator to concatenate strings violate Python's string immutability? Why or why not?\n",
    "**Ans**: The `+=` addition assignment to concantenate doesn't violate string's immutability. The concatenation is actually replacing the previous string with new string which is the concatenation of both the strings."
   ]
  },
  {
   "cell_type": "code",
   "execution_count": 9,
   "metadata": {},
   "outputs": [
    {
     "name": "stdout",
     "output_type": "stream",
     "text": [
      "1881376373680\n"
     ]
    },
    {
     "data": {
      "text/plain": [
       "1881453840944"
      ]
     },
     "execution_count": 9,
     "metadata": {},
     "output_type": "execute_result"
    }
   ],
   "source": [
    "A = 'app'\n",
    "print(id(A))\n",
    "A += 'le'\n",
    "id(A)   # the id is different"
   ]
  },
  {
   "attachments": {},
   "cell_type": "markdown",
   "metadata": {},
   "source": [
    "#### 3. In Python, how many different ways are there to index a character?\n",
    "**Ans**: Indexing can be done in two ways;\n",
    "- `left to right` - integer index starting with 0 for every element with 0 being the first element\n",
    "- `right to left` - negative integers starting with -1 with -1 being the last element"
   ]
  },
  {
   "attachments": {},
   "cell_type": "markdown",
   "metadata": {},
   "source": [
    "#### 4. What is the relationship between indexing and slicing?\n",
    "**Ans**: Slicing is done on the basis of indexes. The start and end index is specified to slice that part."
   ]
  },
  {
   "attachments": {},
   "cell_type": "markdown",
   "metadata": {},
   "source": [
    "#### 5. What is an indexed character's exact data type? What is the data form of a slicing-generated substring?\n",
    "**Ans**: Both the indexed character and slicing-substring has the same datatype of `string`."
   ]
  },
  {
   "attachments": {},
   "cell_type": "markdown",
   "metadata": {},
   "source": [
    "#### 6. What is the relationship between string and character \"types\" in Python?\n",
    "**Ans**: In python, both characters and strings are of the same type `string` or `str`."
   ]
  },
  {
   "attachments": {},
   "cell_type": "markdown",
   "metadata": {},
   "source": [
    "#### 7. Identify at least two operators and one method that allow you to combine one or more smaller strings to create a larger string.\n",
    "**Ans**:\n",
    "- `+`: add operator allows to combine strings to create a larger string.\n",
    "- `*`: multiplication operator adds the smaller string the given number of times to return the combined string.\n",
    "- `join()`: the join() method concatenates the strings specified as arguments."
   ]
  },
  {
   "attachments": {},
   "cell_type": "markdown",
   "metadata": {},
   "source": [
    "#### 8. What is the benefit of first checking the target string with in or not in before using the index method to find a substring?\n",
    "**Ans**: checking existence before indexing helps avoid running into ValueError. Alternatively the `find()` method can be used to find substring without Error."
   ]
  },
  {
   "attachments": {},
   "cell_type": "markdown",
   "metadata": {},
   "source": [
    "#### 9. Which operators and built-in string methods produce simple Boolean (true/false) results?\n",
    "**Ans**: various operators and methods produce boolean output:\n",
    "- all comparison operators\n",
    "- `not`\n",
    "- `is`\n",
    "- `is not`\n",
    "- `in`\n",
    "- `not in`\n",
    "- `isupper, islower, isspace, istitle` \n",
    "- `startswith, endswith`\n",
    "- `isdigit, isalpha, isnumeric, isdecimal, isalnum, isascii, isidentifier`"
   ]
  }
 ],
 "metadata": {
  "kernelspec": {
   "display_name": "py11env",
   "language": "python",
   "name": "python3"
  },
  "language_info": {
   "codemirror_mode": {
    "name": "ipython",
    "version": 3
   },
   "file_extension": ".py",
   "mimetype": "text/x-python",
   "name": "python",
   "nbconvert_exporter": "python",
   "pygments_lexer": "ipython3",
   "version": "3.11.0"
  },
  "orig_nbformat": 4
 },
 "nbformat": 4,
 "nbformat_minor": 2
}
