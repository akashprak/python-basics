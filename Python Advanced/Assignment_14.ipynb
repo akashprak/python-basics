{
 "cells": [
  {
   "attachments": {},
   "cell_type": "markdown",
   "metadata": {},
   "source": [
    "#### 1. Is an assignment operator like += only for show? Is it possible that it would lead to faster results at the runtime?\n",
    "**Ans**: The assignment operator modifies the existing memory to store the new result leading to faster execution, although the difference is marginal."
   ]
  },
  {
   "attachments": {},
   "cell_type": "markdown",
   "metadata": {},
   "source": [
    "#### 2. What is the smallest number of statements you'd have to write in most programming languages to replace the Python expression a, b = a + b, a?\n",
    "**Ans**: It would take atleast 3 statements to achieve this in languages other than python."
   ]
  },
  {
   "attachments": {},
   "cell_type": "markdown",
   "metadata": {},
   "source": [
    "#### 3. In Python, what is the most effective way to set a list of 100 integers to 0?\n",
    "**Ans**: by using the `*` operator."
   ]
  },
  {
   "cell_type": "code",
   "execution_count": 2,
   "metadata": {},
   "outputs": [
    {
     "name": "stdout",
     "output_type": "stream",
     "text": [
      "[0, 0, 0, 0, 0, 0, 0, 0, 0, 0, 0, 0, 0, 0, 0, 0, 0, 0, 0, 0, 0, 0, 0, 0, 0, 0, 0, 0, 0, 0, 0, 0, 0, 0, 0, 0, 0, 0, 0, 0, 0, 0, 0, 0, 0, 0, 0, 0, 0, 0, 0, 0, 0, 0, 0, 0, 0, 0, 0, 0, 0, 0, 0, 0, 0, 0, 0, 0, 0, 0, 0, 0, 0, 0, 0, 0, 0, 0, 0, 0, 0, 0, 0, 0, 0, 0, 0, 0, 0, 0, 0, 0, 0, 0, 0, 0, 0, 0, 0, 0]\n"
     ]
    }
   ],
   "source": [
    "L = [0]*100\n",
    "print(L)"
   ]
  },
  {
   "attachments": {},
   "cell_type": "markdown",
   "metadata": {},
   "source": [
    "#### 4. What is the most effective way to initialise a list of 99 integers that repeats the sequence 1, 2, 3? S If necessary, show step-by-step instructions on how to accomplish this.\n",
    "**Ans**:"
   ]
  },
  {
   "cell_type": "code",
   "execution_count": 3,
   "metadata": {},
   "outputs": [
    {
     "name": "stdout",
     "output_type": "stream",
     "text": [
      "[1, 2, '3?S', 1, 2, '3?S', 1, 2, '3?S', 1, 2, '3?S', 1, 2, '3?S', 1, 2, '3?S', 1, 2, '3?S', 1, 2, '3?S', 1, 2, '3?S', 1, 2, '3?S', 1, 2, '3?S', 1, 2, '3?S', 1, 2, '3?S', 1, 2, '3?S', 1, 2, '3?S', 1, 2, '3?S', 1, 2, '3?S', 1, 2, '3?S', 1, 2, '3?S', 1, 2, '3?S', 1, 2, '3?S', 1, 2, '3?S', 1, 2, '3?S', 1, 2, '3?S', 1, 2, '3?S', 1, 2, '3?S', 1, 2, '3?S', 1, 2, '3?S', 1, 2, '3?S', 1, 2, '3?S', 1, 2, '3?S', 1, 2, '3?S', 1, 2, '3?S']\n"
     ]
    }
   ],
   "source": [
    "L = [1,2,'3?S']*33\n",
    "print(L)"
   ]
  },
  {
   "attachments": {},
   "cell_type": "markdown",
   "metadata": {},
   "source": [
    "#### 5. If you're using IDLE to run a Python application, explain how to print a multidimensional list as efficiently?\n",
    "**Ans**:"
   ]
  },
  {
   "cell_type": "code",
   "execution_count": 4,
   "metadata": {},
   "outputs": [
    {
     "name": "stdout",
     "output_type": "stream",
     "text": [
      "1 2\n",
      "3 4\n",
      "5 6\n"
     ]
    }
   ],
   "source": [
    "Arr = [[1,2],[3,4],[5,6]]\n",
    "for i in Arr:\n",
    "    print(*i)"
   ]
  },
  {
   "attachments": {},
   "cell_type": "markdown",
   "metadata": {},
   "source": [
    "#### 6. Is it possible to use list comprehension with a string? If so, how can you go about doing it?\n",
    "**Ans**: It is possible to use list comprehension with string."
   ]
  },
  {
   "cell_type": "code",
   "execution_count": 5,
   "metadata": {},
   "outputs": [
    {
     "data": {
      "text/plain": [
       "['a', 'p', 'p', 'l', 'e']"
      ]
     },
     "execution_count": 5,
     "metadata": {},
     "output_type": "execute_result"
    }
   ],
   "source": [
    "st = [i for i in 'apple']\n",
    "st"
   ]
  },
  {
   "attachments": {},
   "cell_type": "markdown",
   "metadata": {},
   "source": [
    "#### 7. From the command line, how do you get support with a user-written Python programme? Is this possible from inside IDLE?\n",
    "**Ans**: The `argparse` module is used to get support with a user written python program. From inside IDLE the message will be displayed in the shell."
   ]
  },
  {
   "attachments": {},
   "cell_type": "markdown",
   "metadata": {},
   "source": [
    "#### 8. Functions are said to be “first-class objects” in Python but not in most other languages, such as C++ or Java. What can you do in Python with a function (callable object) that you can't do in C or C++?\n",
    "**Ans**: In python,\n",
    "- we can store functions inside variables, and treat them like variable names\n",
    "- functions can return function\n",
    "- dynamic typing: variables can change datatypes during runtime\n",
    "- functions can be passed as parameters"
   ]
  },
  {
   "attachments": {},
   "cell_type": "markdown",
   "metadata": {},
   "source": [
    "#### 9. How do you distinguish between a wrapper, a wrapped feature, and a decorator?\n",
    "**Ans**:\n",
    "- wrapper is a code used to encapsulate around another code\n",
    "- in python, function wrappers are called decorators\n",
    "- wrapped feature is the functionality that has been wrapped"
   ]
  },
  {
   "attachments": {},
   "cell_type": "markdown",
   "metadata": {},
   "source": [
    "#### 10. If a function is a generator function, what does it return?\n",
    "**Ans**: generator function returns a generator element."
   ]
  },
  {
   "cell_type": "code",
   "execution_count": 6,
   "metadata": {},
   "outputs": [
    {
     "data": {
      "text/plain": [
       "generator"
      ]
     },
     "execution_count": 6,
     "metadata": {},
     "output_type": "execute_result"
    }
   ],
   "source": [
    "def func():\n",
    "    for i in range(10):\n",
    "        yield i\n",
    "\n",
    "type(func())"
   ]
  },
  {
   "attachments": {},
   "cell_type": "markdown",
   "metadata": {},
   "source": [
    "#### 11. What is the one improvement that must be made to a function in order for it to become a generator function in the Python language?\n",
    "**Ans**: `yield` statement should be used instead of `return`"
   ]
  },
  {
   "attachments": {},
   "cell_type": "markdown",
   "metadata": {},
   "source": [
    "#### 12. Identify at least one benefit of generators.\n",
    "**Ans**: Generators produce a sequence of results procedurally and consumes less memory."
   ]
  }
 ],
 "metadata": {
  "kernelspec": {
   "display_name": "py11env",
   "language": "python",
   "name": "python3"
  },
  "language_info": {
   "codemirror_mode": {
    "name": "ipython",
    "version": 3
   },
   "file_extension": ".py",
   "mimetype": "text/x-python",
   "name": "python",
   "nbconvert_exporter": "python",
   "pygments_lexer": "ipython3",
   "version": "3.11.0"
  },
  "orig_nbformat": 4
 },
 "nbformat": 4,
 "nbformat_minor": 2
}
