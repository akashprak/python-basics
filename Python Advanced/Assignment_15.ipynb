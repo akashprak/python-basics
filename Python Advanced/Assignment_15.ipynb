{
 "cells": [
  {
   "attachments": {},
   "cell_type": "markdown",
   "metadata": {},
   "source": [
    "#### 1. What are the new features added in Python 3.8 version?\n",
    "**Ans**:\n",
    "- Assignment Expressions - The `walrus` operator: asssignment can be done inside conditional statements\n",
    "- position only parameters using \"/\"  \n",
    "\n",
    "    ```\n",
    "    def func(a, /, b, c):\n",
    "        pass\n",
    "    \n",
    "    func(1, b=2, c=3)   #only a can be given as positional parameter\n",
    "    ```\n",
    "- self documenting expressions\n",
    "    ```\n",
    "    a = 1\n",
    "    print(f'{a=}')\n",
    "\n",
    "    # prints 'a=1'\n",
    "    ```"
   ]
  },
  {
   "cell_type": "code",
   "execution_count": 2,
   "metadata": {},
   "outputs": [
    {
     "name": "stdout",
     "output_type": "stream",
     "text": [
      "a=1\n"
     ]
    }
   ],
   "source": [
    "a=1\n",
    "print(f'{a=}')"
   ]
  },
  {
   "attachments": {},
   "cell_type": "markdown",
   "metadata": {},
   "source": [
    "#### 2. What is monkey patching in Python?\n",
    "**Ans**: monkey patching refers to modifying a code, class or module at runtime"
   ]
  },
  {
   "cell_type": "code",
   "execution_count": null,
   "metadata": {},
   "outputs": [],
   "source": [
    "# monke.py\n",
    "class cl:\n",
    "    def func(self):\n",
    "        return 'monke'"
   ]
  },
  {
   "cell_type": "code",
   "execution_count": null,
   "metadata": {},
   "outputs": [],
   "source": [
    "import monke\n",
    "\n",
    "def monkFunc(self):\n",
    "    return 'monke Func'\n",
    "\n",
    "monke.cl.func = monkFunc\n",
    "obj = monke.cl()\n",
    "obj.func        # returns monke Func"
   ]
  },
  {
   "attachments": {},
   "cell_type": "markdown",
   "metadata": {},
   "source": [
    "#### 3. What is the difference between a shallow copy and deep copy?\n",
    "**Ans**: In `shallow copy`, any change in the reference of the elements, like those in nested lists, will be reflected in all the copies.  \n",
    "In `deepcopy`, an unrelated copy is made, hence a change in one copy is not reflected in other."
   ]
  },
  {
   "attachments": {},
   "cell_type": "markdown",
   "metadata": {},
   "source": [
    "#### 4. What is the maximum possible length of an identifier?\n",
    "**Ans**: The maximum length is 79 characters."
   ]
  },
  {
   "attachments": {},
   "cell_type": "markdown",
   "metadata": {},
   "source": [
    "#### 5. What is generator comprehension?\n",
    "**Ans**: generator comprehension is a one liner used to create generators."
   ]
  },
  {
   "cell_type": "code",
   "execution_count": 3,
   "metadata": {},
   "outputs": [
    {
     "name": "stdout",
     "output_type": "stream",
     "text": [
      "0\n",
      "1\n",
      "2\n",
      "3\n",
      "4\n"
     ]
    }
   ],
   "source": [
    "G = (i for i in range(5))\n",
    "for i in G:\n",
    "    print(i)"
   ]
  }
 ],
 "metadata": {
  "kernelspec": {
   "display_name": "py11env",
   "language": "python",
   "name": "python3"
  },
  "language_info": {
   "codemirror_mode": {
    "name": "ipython",
    "version": 3
   },
   "file_extension": ".py",
   "mimetype": "text/x-python",
   "name": "python",
   "nbconvert_exporter": "python",
   "pygments_lexer": "ipython3",
   "version": "3.11.0"
  },
  "orig_nbformat": 4
 },
 "nbformat": 4,
 "nbformat_minor": 2
}
