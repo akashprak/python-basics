{
 "cells": [
  {
   "attachments": {},
   "cell_type": "markdown",
   "metadata": {},
   "source": [
    "#### 1. What is the benefit of regular expressions?\n",
    "**Ans**: `regular expressions` or `regex` helps in string searching. It searches for a pattern given to it and returns the result. regex makes writing code better and easier."
   ]
  },
  {
   "attachments": {},
   "cell_type": "markdown",
   "metadata": {},
   "source": [
    "#### 2. Describe the difference between the effects of \"(ab)c+\" and \"a(bc)+.\" Which of these, if any, is the unqualified pattern \"abc+\"?\n",
    "**Ans**:\n",
    "- `(ab)c+` matches string having one group 'ab' following atleast one 'c'\n",
    "- `a(bc)+` matches string having one 'a' followed by atleast one `(bc)` group\n",
    "  \n",
    "`abc+` is equivalent to `(ab)c+`"
   ]
  },
  {
   "attachments": {},
   "cell_type": "markdown",
   "metadata": {},
   "source": [
    "#### 3. How much do you need to use the following sentence while using regular expressions?\n",
    "`import re`  \n",
    "  \n",
    "**Ans**: This should be used once in every python which is using the re module."
   ]
  },
  {
   "attachments": {},
   "cell_type": "markdown",
   "metadata": {},
   "source": [
    "#### 4. Which characters have special significance in square brackets when expressing a range, and under what circumstances?\n",
    "**Ans**: The normal regular expression symbols like `. * ? ()` have special significance since they need not be escaped using backslash."
   ]
  },
  {
   "attachments": {},
   "cell_type": "markdown",
   "metadata": {},
   "source": [
    "#### 5. How does compiling a regular-expression object benefit you?\n",
    "**Ans**: A regular expression makes finding pattens in strings easier and much faster. what would take multiple lines of code to achieve can be done with a single line through regex."
   ]
  },
  {
   "attachments": {},
   "cell_type": "markdown",
   "metadata": {},
   "source": [
    "#### 6. What are some examples of how to use the match object returned by re.match and re.search?\n",
    "**Ans**: `re.match()` matches the pattern at the start of the string, while `re.search()` search for the pattern in the entire length of the string."
   ]
  },
  {
   "cell_type": "code",
   "execution_count": 1,
   "metadata": {},
   "outputs": [
    {
     "name": "stdout",
     "output_type": "stream",
     "text": [
      "oranges\n"
     ]
    }
   ],
   "source": [
    "import re\n",
    "reg = r'orange[a-z]*'\n",
    "print(re.search(reg, 'apples and oranges').group())\n",
    "re.match(reg, 'apples and oranges')     # returns None"
   ]
  },
  {
   "attachments": {},
   "cell_type": "markdown",
   "metadata": {},
   "source": [
    "#### 7. What is the difference between using a vertical bar (|) as an alteration and using square brackets as a character set?\n",
    "**Ans**:\n",
    "- vertical bar is used to match multiple patterns. we can provide different patterns on which any one is matched\n",
    "- character set using square brackets matches any characters in the set"
   ]
  },
  {
   "attachments": {},
   "cell_type": "markdown",
   "metadata": {},
   "source": [
    "#### 8. In regular-expression search patterns, why is it necessary to use the raw-string indicator (r)? In replacement strings?\n",
    "**Ans**: Raw string is used in regular expressions so that backslashes don't have to be escaped."
   ]
  }
 ],
 "metadata": {
  "kernelspec": {
   "display_name": "py11env",
   "language": "python",
   "name": "python3"
  },
  "language_info": {
   "codemirror_mode": {
    "name": "ipython",
    "version": 3
   },
   "file_extension": ".py",
   "mimetype": "text/x-python",
   "name": "python",
   "nbconvert_exporter": "python",
   "pygments_lexer": "ipython3",
   "version": "3.11.0"
  },
  "orig_nbformat": 4
 },
 "nbformat": 4,
 "nbformat_minor": 2
}
