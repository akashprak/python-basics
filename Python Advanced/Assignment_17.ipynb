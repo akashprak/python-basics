{
 "cells": [
  {
   "attachments": {},
   "cell_type": "markdown",
   "metadata": {},
   "source": [
    "#### 1. Explain the difference between greedy and non-greedy syntax with visual terms in as few words as possible. What is the bare minimum effort required to transform a greedy pattern into a non-greedy one? What characters or characters can you introduce or change?\n",
    "**Ans**:\n",
    "- Greedy syntax match the longest string possible\n",
    "- Non-greedy syntax match the shortest string possible  \n",
    "\n",
    "Adding a `?` at the end of the expression makes it a non-greedy one."
   ]
  },
  {
   "cell_type": "code",
   "execution_count": 1,
   "metadata": {},
   "outputs": [
    {
     "name": "stdout",
     "output_type": "stream",
     "text": [
      "12345\n",
      "1\n"
     ]
    }
   ],
   "source": [
    "import re\n",
    "\n",
    "print(re.search(r'\\d+', '12345').group())\n",
    "print(re.search(r'\\d+?', '12345').group())"
   ]
  },
  {
   "attachments": {},
   "cell_type": "markdown",
   "metadata": {},
   "source": [
    "#### 2. When exactly does greedy versus non-greedy make a difference?  What if you're looking for a non-greedy match but the only one available is greedy?\n",
    "**Ans**: Non-greedy match is useful in complex regexes and when the non-greedy match returns a long string.  \n",
    "When only Non-greedy match is available, we can use regex to further filter the results."
   ]
  },
  {
   "attachments": {},
   "cell_type": "markdown",
   "metadata": {},
   "source": [
    "#### 3. In a simple match of a string, which looks only for one match and does not do any replacement, is the use of a nontagged group likely to make any practical difference?\n",
    "**Ans**: This will not make any difference."
   ]
  },
  {
   "attachments": {},
   "cell_type": "markdown",
   "metadata": {},
   "source": [
    "#### 4. Describe a scenario in which using a nontagged category would have a significant impact on the program's outcomes.\n",
    "**Ans**:"
   ]
  },
  {
   "cell_type": "code",
   "execution_count": 2,
   "metadata": {},
   "outputs": [
    {
     "data": {
      "text/plain": [
       "'Einstein'"
      ]
     },
     "execution_count": 2,
     "metadata": {},
     "output_type": "execute_result"
    }
   ],
   "source": [
    "phoneRegex = re.compile(r'Name:(\\w+).+(?:\\+?\\d*)9876543210')    #find name with phone number 9876543210\n",
    "phoneRegex.search('Name:Einstein ph:9876543210').group(1)"
   ]
  },
  {
   "attachments": {},
   "cell_type": "markdown",
   "metadata": {},
   "source": [
    "#### 5. Unlike a normal regex pattern, a look-ahead condition does not consume the characters it examines. Describe a situation in which this could make a difference in the results of your programme.\n",
    "**Ans**: "
   ]
  },
  {
   "cell_type": "code",
   "execution_count": 3,
   "metadata": {},
   "outputs": [
    {
     "data": {
      "text/plain": [
       "'25'"
      ]
     },
     "execution_count": 3,
     "metadata": {},
     "output_type": "execute_result"
    }
   ],
   "source": [
    "re.search(r'\\d+(?= apple)', '100 orange 25 apple').group()    # returns number of apple"
   ]
  },
  {
   "attachments": {},
   "cell_type": "markdown",
   "metadata": {},
   "source": [
    "#### 6. In standard expressions, what is the difference between positive look-ahead and negative look-ahead?\n",
    "**Ans**:\n",
    "- positive lookahead matches the pattern which is immediately followed by the group, but the lookahead group will not be considered for the result\n",
    "- negative lookahead matches the pattern which is not immediately followed by the group and the lookahead group will not be considered for the result"
   ]
  },
  {
   "attachments": {},
   "cell_type": "markdown",
   "metadata": {},
   "source": [
    "#### 7. What is the benefit of referring to groups by name rather than by number in a standard expression?\n",
    "**Ans**: referring by name is easy to remember and is beneficial for regexes with large number of groups"
   ]
  },
  {
   "attachments": {},
   "cell_type": "markdown",
   "metadata": {},
   "source": [
    "#### 8. Can you identify repeated items within a target string using named groups, as in \"The cow jumped over the moon\"?\n",
    "**Ans**: "
   ]
  },
  {
   "cell_type": "code",
   "execution_count": 5,
   "metadata": {},
   "outputs": [
    {
     "data": {
      "text/plain": [
       "'The'"
      ]
     },
     "execution_count": 5,
     "metadata": {},
     "output_type": "execute_result"
    }
   ],
   "source": [
    "named = re.compile(r'(?P<word>\\w+).+(?:\\1)', re.I)\n",
    "named.search('The cow jumped over the moon').group('word')"
   ]
  },
  {
   "attachments": {},
   "cell_type": "markdown",
   "metadata": {},
   "source": [
    "#### 9. When parsing a string, what is at least one thing that the Scanner interface does for you that the re.findall feature does not?\n",
    "**Ans**: The scanner interface allows you to define multiple patterns and associate each pattern with a function to be performed on the matching text. "
   ]
  },
  {
   "attachments": {},
   "cell_type": "markdown",
   "metadata": {},
   "source": [
    "#### 10. Does a scanner object have to be named scanner?\n",
    "**Ans**: scanner is only a naming convention, any valid identifier can be used."
   ]
  }
 ],
 "metadata": {
  "kernelspec": {
   "display_name": "py11env",
   "language": "python",
   "name": "python3"
  },
  "language_info": {
   "codemirror_mode": {
    "name": "ipython",
    "version": 3
   },
   "file_extension": ".py",
   "mimetype": "text/x-python",
   "name": "python",
   "nbconvert_exporter": "python",
   "pygments_lexer": "ipython3",
   "version": "3.11.0"
  },
  "orig_nbformat": 4
 },
 "nbformat": 4,
 "nbformat_minor": 2
}
