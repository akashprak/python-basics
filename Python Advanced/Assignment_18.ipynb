{
 "cells": [
  {
   "attachments": {},
   "cell_type": "markdown",
   "metadata": {},
   "source": [
    "#### 1. Describe the differences between text and binary files in a single paragraph.\n",
    "**Ans**: Text files are used to store plain text in a human-readable format.Text files are encoded using a specific character set, such as ASCII or UTF-8, and can be edited with a text editor.  \n",
    "  \n",
    "Binary files are used to store data in a format that is not human-readable. Binary files can contain any type of data, such as images, audio, video, or program code. "
   ]
  },
  {
   "attachments": {},
   "cell_type": "markdown",
   "metadata": {},
   "source": [
    "#### 2. What are some scenarios where using text files will be the better option? When would you like to use binary files instead of text files?\n",
    "**Ans**: Using text files are desired when we need to code plain texts and binary files are used for file types like images or videos."
   ]
  },
  {
   "attachments": {},
   "cell_type": "markdown",
   "metadata": {},
   "source": [
    "#### 3. What are some of the issues with using binary operations to read and write a Python integer directly to disc?\n",
    "**Ans**: Writing python integers to disc using binary can cause problems. since  binary files deals with bytes, the order in which it is stored is important, if the order changes, file might not be readable. Also it can cause compatibility issues when read from different platforms. "
   ]
  },
  {
   "attachments": {},
   "cell_type": "markdown",
   "metadata": {},
   "source": [
    "#### 4. Describe a benefit of using the with keyword instead of explicitly opening a file.\n",
    "**Ans**: The `with` keyword automatically handles the entry and exit of a file. So it takes care of errors that may arise due to not closing a file after opening."
   ]
  },
  {
   "attachments": {},
   "cell_type": "markdown",
   "metadata": {},
   "source": [
    "#### 5. Does Python have the trailing newline while reading a line of text? Does Python append a newline when you write a line of text?\n",
    "**Ans**: Python have the trailing new line while reading a line of text, but a newline needs to be appended while writing"
   ]
  },
  {
   "attachments": {},
   "cell_type": "markdown",
   "metadata": {},
   "source": [
    "#### 6. What file operations enable for random-access operation?\n",
    "**Ans**: The `seek()` function is used to change the current position of the pointer to the specified position. we can use this together with `read()` or `write()` to randomely access the file."
   ]
  },
  {
   "attachments": {},
   "cell_type": "markdown",
   "metadata": {},
   "source": [
    "#### 7. When do you think you'll use the struct package the most?\n",
    "**Ans**: This module is used for performing conversions between Python values and C structs represented as Python bytes objects."
   ]
  },
  {
   "attachments": {},
   "cell_type": "markdown",
   "metadata": {},
   "source": [
    "#### 8. When is pickling the best option?\n",
    "**Ans**: Pickling is best option for creating a new binary file using python."
   ]
  },
  {
   "attachments": {},
   "cell_type": "markdown",
   "metadata": {},
   "source": [
    "#### 9. When will it be best to use the shelve package?\n",
    "**Ans**: It allows us to store Python objects like lists, dictionaries, and classes to storage and retrieve them later."
   ]
  },
  {
   "attachments": {},
   "cell_type": "markdown",
   "metadata": {},
   "source": [
    "#### 10. What is a special restriction when using the shelve package, as opposed to using other data dictionaries?\n",
    "**Ans**: It is stored in a dictionary like interface, the keys must be of string or bytes while the value can be any picklable object."
   ]
  }
 ],
 "metadata": {
  "language_info": {
   "name": "python"
  },
  "orig_nbformat": 4
 },
 "nbformat": 4,
 "nbformat_minor": 2
}
