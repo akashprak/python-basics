{
 "cells": [
  {
   "attachments": {},
   "cell_type": "markdown",
   "metadata": {},
   "source": [
    "#### 1. Define the relationship between a class and its instances. Is it a one-to-one or a one-to-many partnership, for example?\n",
    "**Ans**: A class is a blueprint to making an object. class and instance have a one-to-many relationship."
   ]
  },
  {
   "cell_type": "code",
   "execution_count": 2,
   "metadata": {},
   "outputs": [
    {
     "data": {
      "text/plain": [
       "(<__main__.A at 0x2700f241b50>,\n",
       " <__main__.A at 0x2700f22b5d0>,\n",
       " <__main__.A at 0x2700f233710>)"
      ]
     },
     "execution_count": 2,
     "metadata": {},
     "output_type": "execute_result"
    }
   ],
   "source": [
    "class A:\n",
    "    pass\n",
    "\n",
    "a1 = A()\n",
    "a2 = A()\n",
    "a3 = A()\n",
    "a1,a2,a3"
   ]
  },
  {
   "attachments": {},
   "cell_type": "markdown",
   "metadata": {},
   "source": [
    "#### 2. What kind of data is held only in an instance?\n",
    "**Ans**: Instance attributes are held only in an instance."
   ]
  },
  {
   "attachments": {},
   "cell_type": "markdown",
   "metadata": {},
   "source": [
    "#### 3. What kind of knowledge is stored in a class?\n",
    "**Ans**: class attributes are stored in a class."
   ]
  },
  {
   "attachments": {},
   "cell_type": "markdown",
   "metadata": {},
   "source": [
    "#### 4. What exactly is a method, and how is it different from a regular function?\n",
    "**Ans**: A method is a function that is defined inside a class. It is different from a regular function in the way that it can only be accessed through a class or instance."
   ]
  },
  {
   "attachments": {},
   "cell_type": "markdown",
   "metadata": {},
   "source": [
    "#### 5. Is inheritance supported in Python, and if so, what is the syntax?\n",
    "**Ans**: Inheritance is supported in python. the syntax is `class childClass(parentClass):`"
   ]
  },
  {
   "attachments": {},
   "cell_type": "markdown",
   "metadata": {},
   "source": [
    "#### 6. How much encapsulation (making instance or class variables private) does Python support?\n",
    "**Ans**: Python doesn't support truly private variables, but it transforms the variable names to the format `_className__variableName`"
   ]
  },
  {
   "attachments": {},
   "cell_type": "markdown",
   "metadata": {},
   "source": [
    "#### 7. How do you distinguish between a class variable and an instance variable?\n",
    "**Ans**: Class variables can be accessed on the class level and the instanc level, but instance variables can only be accessed via the instance."
   ]
  },
  {
   "attachments": {},
   "cell_type": "markdown",
   "metadata": {},
   "source": [
    "#### 8. When, if ever, can self be included in a class's method definitions?\n",
    "**Ans**: self can be included in the method definitions whenever an instance method is defined."
   ]
  },
  {
   "attachments": {},
   "cell_type": "markdown",
   "metadata": {},
   "source": [
    "#### 9. What is the difference between the `_ _add_ _` and the `_ _radd_ _` methods?\n",
    "**Ans**:`__add__` method calculates x+y , while `__radd_` calculates y+x."
   ]
  },
  {
   "cell_type": "code",
   "execution_count": 1,
   "metadata": {},
   "outputs": [
    {
     "data": {
      "text/plain": [
       "'WORLDhello'"
      ]
     },
     "execution_count": 1,
     "metadata": {},
     "output_type": "execute_result"
    }
   ],
   "source": [
    "class A:\n",
    "    def __init__(self, a) -> None:\n",
    "        self.a = a\n",
    "\n",
    "class B:\n",
    "    def __init__(self, a) -> None:\n",
    "        self.a = a\n",
    "\n",
    "    def __radd__(self,other):   # since __add__ is not defined in A, the operator calls __radd__ in B\n",
    "        return self.a+other.a\n",
    "    \n",
    "a = A('hello')\n",
    "b = B('WORLD')\n",
    "a+b"
   ]
  },
  {
   "attachments": {},
   "cell_type": "markdown",
   "metadata": {},
   "source": [
    "#### 10. When is it necessary to use a reflection method? When do you not need it, even though you support the operation in question?\n",
    "**Ans**: reflection is used when the object's structure is unknown or to dynamically modify attributes or methods."
   ]
  },
  {
   "attachments": {},
   "cell_type": "markdown",
   "metadata": {},
   "source": [
    "#### 11. What is the `_ _iadd_ _` method called?\n",
    "**Ans**: `__iadd__` method is called the inplace addition."
   ]
  },
  {
   "attachments": {},
   "cell_type": "markdown",
   "metadata": {},
   "source": [
    "#### 12. Is the `_ _init_ _` method inherited by subclasses? What do you do if you need to customize its behavior within a subclass?\n",
    "**Ans**: `__init__` method is inherited by the subclass if the subclass doesn't have initialization. To customize its behaviour, we can call it using `super()` inside the init method of subclass."
   ]
  }
 ],
 "metadata": {
  "kernelspec": {
   "display_name": "py11env",
   "language": "python",
   "name": "python3"
  },
  "language_info": {
   "codemirror_mode": {
    "name": "ipython",
    "version": 3
   },
   "file_extension": ".py",
   "mimetype": "text/x-python",
   "name": "python",
   "nbconvert_exporter": "python",
   "pygments_lexer": "ipython3",
   "version": "3.11.0"
  },
  "orig_nbformat": 4
 },
 "nbformat": 4,
 "nbformat_minor": 2
}
