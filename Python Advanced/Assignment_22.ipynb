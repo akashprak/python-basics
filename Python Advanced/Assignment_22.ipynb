{
 "cells": [
  {
   "attachments": {},
   "cell_type": "markdown",
   "metadata": {},
   "source": [
    "#### 1. What are the benefits of the built-in array package, if any?\n",
    "**Ans**:\n",
    "- array stores only a single type of values, so it is useful for dealing with collections having single datatype\n",
    "- array makes searching for elements easier and faster\n",
    "- the array elements are stored at contiguous memory locations, hence it is more efficient"
   ]
  },
  {
   "attachments": {},
   "cell_type": "markdown",
   "metadata": {},
   "source": [
    "#### 2. What are some of the array package's limitations?\n",
    "**Ans**:\n",
    "- cannot store different datatypes\n",
    "- an array has a fixed size, operations performed on them costs memory\n",
    "- an insertion process requires moving each element in the array to the next available slot, which causes memory\n",
    "- deletion requires moving each element to fill up the gap left, it is memory expensive"
   ]
  },
  {
   "attachments": {},
   "cell_type": "markdown",
   "metadata": {},
   "source": [
    "#### 3. Describe the main differences between the array and numpy packages.\n",
    "**Ans**:\n",
    "- The array module is used to represent an array of basic datatypes, while numpy array is used for matrix and array computations.  \n",
    "- builtin array is strict about the datatype stored, numpy array typecasts the inputs if possible.  \n",
    "- array is single dimensional, numpy array can have multiple dimensions"
   ]
  },
  {
   "attachments": {},
   "cell_type": "markdown",
   "metadata": {},
   "source": [
    "#### 4. Explain the distinctions between the empty, ones, and zeros functions.\n",
    "**Ans**:\n",
    "- `empty` creates a new array with random values with dimensions of the shape parameter\n",
    "- `ones` creates a new array filled with 1.\n",
    "- `zeroes` creates an array filled with 0."
   ]
  },
  {
   "attachments": {},
   "cell_type": "markdown",
   "metadata": {},
   "source": [
    "#### 5. In the fromfunction function, which is used to construct new arrays, what is the role of the callable argument?\n",
    "**Ans**: The fromfunction creates an array by passing the coordinates of the array to the function as arguments.  \n",
    "The callable argument executes the function for N parameters, where each parameter is the respective coordinate of the array."
   ]
  },
  {
   "attachments": {},
   "cell_type": "markdown",
   "metadata": {},
   "source": [
    "#### 6. What happens when a numpy array is combined with a single-value operand (a scalar, such as an int or a floating-point value) through addition, as in the expression A + n?\n",
    "**Ans**: If a scalar addition is performed on an array, it is added to all elements in the array."
   ]
  },
  {
   "attachments": {},
   "cell_type": "markdown",
   "metadata": {},
   "source": [
    "#### 8. Does a numpy array contain fixed-length strings? What happens if you allocate a longer string to one of these arrays?\n",
    "**Ans**: Numpy array's string length is limited to the maximum length of the strings in it. If we allocate a longer string into the array, the string is truncated to fit the limit."
   ]
  },
  {
   "cell_type": "code",
   "execution_count": 1,
   "metadata": {},
   "outputs": [
    {
     "name": "stdout",
     "output_type": "stream",
     "text": [
      "['apple' 'kiwi']\n"
     ]
    },
    {
     "data": {
      "text/plain": [
       "array(['apple', 'straw'], dtype='<U5')"
      ]
     },
     "execution_count": 1,
     "metadata": {},
     "output_type": "execute_result"
    }
   ],
   "source": [
    "import numpy as np\n",
    "a = np.array(['apple', 'kiwi'])\n",
    "print(a)\n",
    "a[1]='strawberry'\n",
    "a"
   ]
  },
  {
   "attachments": {},
   "cell_type": "markdown",
   "metadata": {},
   "source": [
    "#### 9. What happens when you combine two numpy arrays using an operation like addition (+) or multiplication (*)? What are the conditions for combining two numpy arrays?\n",
    "**Ans**: It will perform the operation element to element. The condition for this is that the shapes and datatypes must be compatible."
   ]
  },
  {
   "attachments": {},
   "cell_type": "markdown",
   "metadata": {},
   "source": [
    "#### 10. What is the best way to use a Boolean array to mask another array?\n",
    "**Ans**: The `masked_where` function can be used to mask another array."
   ]
  },
  {
   "attachments": {},
   "cell_type": "markdown",
   "metadata": {},
   "source": [
    "#### 11. What are three different ways to get the standard deviation of a wide collection of data using both standard Python and its packages? Sort the three of them by how quickly they execute.\n",
    "**Ans**:\n",
    "- using numpy\n",
    "- using standard module statistics\n",
    "- manually program\n",
    "\n",
    "manual program is the fastest, followed by statistics module, then numpy module"
   ]
  },
  {
   "cell_type": "code",
   "execution_count": 6,
   "metadata": {},
   "outputs": [
    {
     "name": "stdout",
     "output_type": "stream",
     "text": [
      "numpy :  2.29128784747792 \n",
      "time :  0.20096879999618977\n",
      "\n",
      "statistics :  2.449489742783178 \n",
      "time :  0.1724209999665618\n",
      "\n",
      "sd function :  2.29128784747792 \n",
      "time :  0.015865199966356158\n"
     ]
    }
   ],
   "source": [
    "import math\n",
    "from timeit import timeit\n",
    "from numpy import std\n",
    "from statistics import stdev\n",
    "\n",
    "def sd(arr):\n",
    "    mean = sum(arr) / len(arr)\n",
    "    squared = [(x - mean) ** 2 for x in arr]\n",
    "    variance = sum(squared) / len(arr)\n",
    "    std = math.sqrt(variance)\n",
    "    return std\n",
    "\n",
    "\n",
    "data = [1,2,3,4,5,6,7,8]\n",
    "print('numpy : ',std(data),'\\ntime : ',timeit('std(data)',globals=globals(),number=10000))\n",
    "print('\\nstatistics : ',stdev(data),'\\ntime : ',timeit('stdev(data)',globals=globals(),number=10000))\n",
    "print('\\nsd function : ',sd(data),'\\ntime : ',timeit('sd(data)',globals=globals(),number=10000))"
   ]
  },
  {
   "attachments": {},
   "cell_type": "markdown",
   "metadata": {},
   "source": [
    "#### 12. What is the dimensionality of a Boolean mask-generated array?\n",
    "**Ans**: It has the same dimensionality as the original array."
   ]
  }
 ],
 "metadata": {
  "kernelspec": {
   "display_name": "py11env",
   "language": "python",
   "name": "python3"
  },
  "language_info": {
   "codemirror_mode": {
    "name": "ipython",
    "version": 3
   },
   "file_extension": ".py",
   "mimetype": "text/x-python",
   "name": "python",
   "nbconvert_exporter": "python",
   "pygments_lexer": "ipython3",
   "version": "3.11.0"
  },
  "orig_nbformat": 4
 },
 "nbformat": 4,
 "nbformat_minor": 2
}
