{
 "cells": [
  {
   "attachments": {},
   "cell_type": "markdown",
   "metadata": {},
   "source": [
    "#### 1. If you have any, what are your choices for increasing the comparison between different figures on the same graph?\n",
    "**Ans**:\n",
    "- One way of comparing figures is to plot them on the same graph with different colours or patterns. The `legend` function can be used to specify which is which.\n",
    "- **subplots** are another way of comparison if the scales of data are different. The plot different figures on the same graph"
   ]
  },
  {
   "attachments": {},
   "cell_type": "markdown",
   "metadata": {},
   "source": [
    "#### 2. Can you explain the benefit of compound interest over a higher rate of interest that does no compound after reading this chapter?\n",
    "**Ans**: Compound interest provide interest for the interest amount gained while simple interst, even though a higher rate, gives interest only on the principal. Compound interest is especially beneficial for long term investments."
   ]
  },
  {
   "attachments": {},
   "cell_type": "markdown",
   "metadata": {},
   "source": [
    "#### 3. What is a histogram, exactly? Name a numpy method for creating such a graph.\n",
    "**Ans**: A histogram represents data organized in ranges. The y axis of a histogram represents the frequency of the range.  \n",
    "`numpy.histogram` is the numpy method to create a histogram."
   ]
  },
  {
   "attachments": {},
   "cell_type": "markdown",
   "metadata": {},
   "source": [
    "#### 4. If necessary, how do you change the aspect ratios between the X and Y axes?\n",
    "**Ans**: The `figsize` parameter inside the `figure` function of `matplotlib.pyplot` can be used to set the aspect ratio."
   ]
  },
  {
   "attachments": {},
   "cell_type": "markdown",
   "metadata": {},
   "source": [
    "#### 5. Compare and contrast the three types of array multiplication between two numpy arrays: dot product, outer product, and regular multiplication of two numpy arrays.\n",
    "**Ans**:\n",
    "- The `numpy.dot()` function calculates the dot product between two arrays. This is equivalent to matrix multiplication for 1D and 2D arrays.\n",
    "- The `numpy.outer` calculates the outer product for two 1D arrays. Every element of the first array will be multiplied with every element of the second array resulting in a matrix of dimension len(array1) X len(array2).\n",
    "- regular multiplication multiplies each element of an array with the corresponding element of the second array."
   ]
  },
  {
   "attachments": {},
   "cell_type": "markdown",
   "metadata": {},
   "source": [
    "#### 6. Before you buy a home, which numpy function will you use to measure your monthly mortgage payment?\n",
    "**Ans**: `numpy.pmt` method can be used."
   ]
  },
  {
   "attachments": {},
   "cell_type": "markdown",
   "metadata": {},
   "source": [
    "#### 7. Can string data be stored in numpy arrays? If so, list at least one restriction that applies to this data.\n",
    "**Ans**: String data can be stored in an array, but the length of string that can be stored is limited to the maximum length of the existing strings in the array."
   ]
  }
 ],
 "metadata": {
  "kernelspec": {
   "display_name": "py11env",
   "language": "python",
   "name": "python3"
  },
  "language_info": {
   "codemirror_mode": {
    "name": "ipython",
    "version": 3
   },
   "file_extension": ".py",
   "mimetype": "text/x-python",
   "name": "python",
   "nbconvert_exporter": "python",
   "pygments_lexer": "ipython3",
   "version": "3.11.0"
  },
  "orig_nbformat": 4
 },
 "nbformat": 4,
 "nbformat_minor": 2
}
