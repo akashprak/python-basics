{
 "cells": [
  {
   "attachments": {},
   "cell_type": "markdown",
   "metadata": {},
   "source": [
    "#### 1. Is it permissible to use several import statements to import the same module? What would the goal be? Can you think of a situation where it would be beneficial?\n",
    "**Ans**: It is permissible to use multiple import statements to import the same module. This can be used to import the same module under different names to avoid naming conflicts."
   ]
  },
  {
   "attachments": {},
   "cell_type": "markdown",
   "metadata": {},
   "source": [
    "#### 2. What are some of a module's characteristics? (Name at least one.)\n",
    "**Ans**:\n",
    "- modules provide encapsulation and code reusability\n",
    "- `import` statements can be used to import modules in the code.\n",
    "- modules helps avoid naming conflicts"
   ]
  },
  {
   "attachments": {},
   "cell_type": "markdown",
   "metadata": {},
   "source": [
    "#### 3. Circular importing, such as when two modules import each other, can lead to dependencies and bugs that aren't visible. How can you go about creating a program that avoids mutual importing?\n",
    "**Ans**: packaging the modules by creating an `init.py` file which does the importing is one way of avoiding circular imports."
   ]
  },
  {
   "attachments": {},
   "cell_type": "markdown",
   "metadata": {},
   "source": [
    "#### 4. Why is `_ _all_ _` in Python?\n",
    "**Ans**: This method specifies which variables will be imported from the module when called by the `*` keyword."
   ]
  },
  {
   "attachments": {},
   "cell_type": "markdown",
   "metadata": {},
   "source": [
    "#### 5. In what situation is it useful to refer to the `_ _name_ _` attribute or the string `'_ _main_ _'`?\n",
    "**Ans**: The `__name__` attribute and string `'__main__'` is used when referring to the module it is present in, this is mainly used to execute a block of code when it is called from the module itself rather than from imports. "
   ]
  },
  {
   "attachments": {},
   "cell_type": "markdown",
   "metadata": {},
   "source": [
    "#### 6. What are some of the benefits of attaching a program counter to the RPN interpreter application, which interprets an RPN script line by line?\n",
    "**Ans**:\n",
    "- It helps identify the exact place of error during execution.\n",
    "- It enables the application to execute scripts sequentially."
   ]
  },
  {
   "attachments": {},
   "cell_type": "markdown",
   "metadata": {},
   "source": [
    "#### 7. What are the minimum expressions or statements (or both) that you'd need to render a basic programming language like RPN primitive but complete— that is, capable of carrying out any computerised task theoretically possible?\n",
    "**Ans**: The minimum requirement for a Turing complete language is:\n",
    "- an assignment operator\n",
    "- atleast one comparison operator (while, if-else,etc)"
   ]
  }
 ],
 "metadata": {
  "language_info": {
   "name": "python"
  },
  "orig_nbformat": 4
 },
 "nbformat": 4,
 "nbformat_minor": 2
}
