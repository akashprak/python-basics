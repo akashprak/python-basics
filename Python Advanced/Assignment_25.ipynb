{
 "cells": [
  {
   "attachments": {},
   "cell_type": "markdown",
   "metadata": {},
   "source": [
    "#### 1. What is the distinction between a numpy array and a pandas data frame? Is there a way to convert between the two if there is?\n",
    "**Ans**: A numpy array is an N dimensional array where pandas dataframe is a 2D object. Numpy arrays are faster than pandas dataframes, but pandas offer more flexibility and functionality.  \n",
    "- to convert numpy array to dataframe : `pandas.DataFrame(array)`\n",
    "- to convert dataframe to array : `pandas.DataFrame(<dataframe>).to_numpy()`"
   ]
  },
  {
   "attachments": {},
   "cell_type": "markdown",
   "metadata": {},
   "source": [
    "#### 2. Identify some of the plotting techniques that are used to produce a stock-market chart.\n",
    "**Ans**: lineplots, bar charts, etc.."
   ]
  },
  {
   "attachments": {},
   "cell_type": "markdown",
   "metadata": {},
   "source": [
    "#### 3. Why is it essential to print a legend on a stock market chart?\n",
    "**Ans**: legend helps to identify what the different plots in the chart represents."
   ]
  },
  {
   "attachments": {},
   "cell_type": "markdown",
   "metadata": {},
   "source": [
    "#### 4. What is the best way to limit the length of a pandas data frame to less than a year?\n",
    "**Ans**: Filtering the DataFrame by date allows to limit the length to what is required."
   ]
  },
  {
   "attachments": {},
   "cell_type": "markdown",
   "metadata": {},
   "source": [
    "#### 5. What is the definition of a 180-day moving average?\n",
    "**Ans**: 180-day moving average represents the average price of the last 180 days."
   ]
  }
 ],
 "metadata": {
  "language_info": {
   "name": "python"
  },
  "orig_nbformat": 4
 },
 "nbformat": 4,
 "nbformat_minor": 2
}
