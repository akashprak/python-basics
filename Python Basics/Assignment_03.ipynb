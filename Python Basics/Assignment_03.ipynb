{
 "cells": [
  {
   "cell_type": "markdown",
   "metadata": {},
   "source": [
    "\n",
    "#### 1.Why are the functions advantageous to have in our programs?  \n",
    "**Ans**: Functions helps us in reusability of the code for repetitive tasks.It reduces the need to write lengthy code multiple times."
   ]
  },
  {
   "cell_type": "markdown",
   "metadata": {},
   "source": [
    "#### 2.When does the code in a function run: when it's specified or when it's called?  \n",
    "**Ans**: The code in a function run when it is called."
   ]
  },
  {
   "cell_type": "markdown",
   "metadata": {},
   "source": [
    "#### 3.What statement creates a function?  \n",
    "**Ans**: A def statement creates a function."
   ]
  },
  {
   "cell_type": "markdown",
   "metadata": {},
   "source": [
    "        eg : def function_name():  \n",
    "                  pass"
   ]
  },
  {
   "cell_type": "markdown",
   "metadata": {},
   "source": [
    "#### 4.What is the difference between a function and a function call?  \n",
    "**Ans**: A function is a set of instructions or block of code which is used to achieve certain result. A function call is the use of that function to get the result."
   ]
  },
  {
   "cell_type": "markdown",
   "metadata": {},
   "source": [
    "#### 5.How many global scopes are there in a python program? How many local scopes?  \n",
    "**Ans**: There is one global scope per program in python. New local scope is created everytime a function is called."
   ]
  },
  {
   "cell_type": "markdown",
   "metadata": {},
   "source": [
    "#### 6.What happens to variables in a local scope when the function call returns?  \n",
    "**Ans**: When the function call is returned, variables in local scope are destroyed and forgotten."
   ]
  },
  {
   "cell_type": "markdown",
   "metadata": {},
   "source": [
    "#### 7.What is the concept of a return value? Is it possible to have a return value in an expression?  \n",
    "**Ans**: Return value is the value returned by a function after its execution. Return values can be used as normal in an expression."
   ]
  },
  {
   "cell_type": "markdown",
   "metadata": {},
   "source": [
    "#### 8.If a function does not have a return statement, what is the return value of a call to that function?  \n",
    "**Ans**: In the abscence of return statement, the return value is **None**."
   ]
  },
  {
   "cell_type": "markdown",
   "metadata": {},
   "source": [
    "#### 9.How do you make a function variable refer to the global variable?  \n",
    "**Ans**: The keyword **global** can be used to make a function variable refer to a global variable."
   ]
  },
  {
   "cell_type": "markdown",
   "metadata": {},
   "source": [
    "#### 10.What is the datatype of None?  \n",
    "**Ans**: The datatype of **None** is **NoneType**"
   ]
  },
  {
   "cell_type": "markdown",
   "metadata": {},
   "source": [
    "#### 11.What does the sentence import areallyourpetsnamederic do?  \n",
    "**Ans**: It imports a module named areallyourpetsnamederic"
   ]
  },
  {
   "cell_type": "markdown",
   "metadata": {},
   "source": [
    "#### 12.If you had a bacon() feature in spam module, what would you call it after importing spam?\n",
    "**Ans**: It can be called using **spam.bacon()**"
   ]
  },
  {
   "cell_type": "markdown",
   "metadata": {},
   "source": [
    "#### 13.What can you do to save a programme from crashing if it encounters an error?\n",
    "**Ans**: The **except** block can be used to run a code in the event of an error."
   ]
  },
  {
   "cell_type": "markdown",
   "metadata": {},
   "source": [
    "#### 14.What is the purpose of the try clause? What is the purpose of except clause?\n",
    "**Ans**: The **try** clause is used to run the code which could encounter an error.\n",
    " The **except** clause is executed when an error is encountered."
   ]
  }
 ],
 "metadata": {
  "kernelspec": {
   "display_name": "Python 3.9.12 ('base')",
   "language": "python",
   "name": "python3"
  },
  "language_info": {
   "name": "python",
   "version": "3.9.12"
  },
  "orig_nbformat": 4,
  "vscode": {
   "interpreter": {
    "hash": "20a9e06a1eee47c4abbed4ec8225ad91d78d9800d202b71b6b0a6e47016c6abd"
   }
  }
 },
 "nbformat": 4,
 "nbformat_minor": 2
}
