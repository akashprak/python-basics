{
 "cells": [
  {
   "cell_type": "markdown",
   "metadata": {},
   "source": [
    "#### 1. What are escape characters, and how do you use them?  \n",
    "**Ans**: Escape characters are special string values which contain alternate meaning when they are used. It contains a backslash (\\) followed by an escape sequence character.  \n",
    "    eg: \\n , \\t"
   ]
  },
  {
   "cell_type": "markdown",
   "metadata": {},
   "source": [
    "#### 2. What do the escape characters n and t stand for?  \n",
    "**Ans**: \n",
    "- \\n stands for newline\n",
    "- \\t stands for tab"
   ]
  },
  {
   "cell_type": "markdown",
   "metadata": {},
   "source": [
    "#### 3. What is the way to include backslash characters in a string?  \n",
    "**Ans**: The \\ \\ character will represent the backslash character."
   ]
  },
  {
   "cell_type": "markdown",
   "metadata": {},
   "source": [
    "#### 4. The string \"Howl's Moving Castle\" is a correct value. Why isn't the single quote character in the word Howl's not escaped a problem?  \n",
    "**Ans**: The single quote character isn't a problem because the string is enclosed in double quotes."
   ]
  },
  {
   "cell_type": "markdown",
   "metadata": {},
   "source": [
    "#### 5. How do you write a string of newlines if you don't want to use the n character?  \n",
    "**Ans**: Multiline strings can be used to write newline without using n character."
   ]
  },
  {
   "cell_type": "code",
   "execution_count": 1,
   "metadata": {},
   "outputs": [
    {
     "name": "stdout",
     "output_type": "stream",
     "text": [
      "This is the first line\n",
      "This is the second line\n",
      "This is the third line\n"
     ]
    }
   ],
   "source": [
    "#example\n",
    "print('''This is the first line\n",
    "This is the second line\n",
    "This is the third line''')"
   ]
  },
  {
   "cell_type": "markdown",
   "metadata": {},
   "source": [
    "#### 6. What are the values of the given expressions?  \n",
    "    'Hello,world!'[1]  \n",
    "    'Hello,world!'[0:5]  \n",
    "    'Hello,world!'[:5]  \n",
    "    'Hello,world!'[3:]  \n",
    "  \n",
    "  **Ans**:\n",
    "  - 'Hello,world!'[1] is 'e'\n",
    "  - 'Hello,world!'[0:5] is 'Hello'\n",
    "  - 'Hello,world!'[:5] is 'Hello'\n",
    "  - 'Hello,world!'[3:] is 'lo,world!'"
   ]
  },
  {
   "cell_type": "markdown",
   "metadata": {},
   "source": [
    "#### 7.What are the values of the following expressions?  \n",
    "    'Hello'.upper()  \n",
    "    'Hello'.upper().isupper()  \n",
    "    'Hello'.upper().lower()  \n",
    "  \n",
    "**Ans**:\n",
    "- 'Hello'.upper() returns **'HELLO'**\n",
    "- 'Hello'.upper().isupper() returns **True**\n",
    "- 'Hello'.upper().lower() returns **'hello'**"
   ]
  },
  {
   "cell_type": "markdown",
   "metadata": {},
   "source": [
    "#### 8. What are the values of the following expressions?  \n",
    "'Remember, remember, the fifth of July.'.split()  \n",
    "'-'.join(There can only one.'.split())  \n",
    "  \n",
    "**Ans**: The values of the given expressions are:\n",
    "- ['Remember,' , 'remember,' , 'the' , 'fifth' , 'of' , 'July.']\n",
    "- 'There-can-only-one.'"
   ]
  },
  {
   "cell_type": "markdown",
   "metadata": {},
   "source": [
    "#### 9. What are the methods for right-justifying, left-justifying, and centering a string?  \n",
    "**Ans**:\n",
    "- Right justifying - rjust()\n",
    "- Left justifying - ljust()\n",
    "- centering - center()"
   ]
  },
  {
   "cell_type": "markdown",
   "metadata": {},
   "source": [
    "#### 10. What is the best way to remove whitespace characters from the start or end?  \n",
    "**Ans**:\n",
    "- The **lstrip()** method removes whitespaces from the start and **rstrip()** method removes whitespaces from the end.\n",
    "- Additionally, **strip()** method removes whitespaces from both start and end."
   ]
  }
 ],
 "metadata": {
  "kernelspec": {
   "display_name": "Python 3.9.12 ('base')",
   "language": "python",
   "name": "python3"
  },
  "language_info": {
   "codemirror_mode": {
    "name": "ipython",
    "version": 3
   },
   "file_extension": ".py",
   "mimetype": "text/x-python",
   "name": "python",
   "nbconvert_exporter": "python",
   "pygments_lexer": "ipython3",
   "version": "3.9.12"
  },
  "orig_nbformat": 4,
  "vscode": {
   "interpreter": {
    "hash": "20a9e06a1eee47c4abbed4ec8225ad91d78d9800d202b71b6b0a6e47016c6abd"
   }
  }
 },
 "nbformat": 4,
 "nbformat_minor": 2
}
