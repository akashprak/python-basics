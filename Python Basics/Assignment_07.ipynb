{
 "cells": [
  {
   "attachments": {},
   "cell_type": "markdown",
   "metadata": {},
   "source": [
    "#### 1. What is the name of the feature responsible for generating Regex objects?  \n",
    "  \n",
    "**Ans**: The **re.compile()** function generates regex objects."
   ]
  },
  {
   "cell_type": "code",
   "execution_count": 1,
   "metadata": {},
   "outputs": [
    {
     "data": {
      "text/plain": [
       "'2023'"
      ]
     },
     "execution_count": 1,
     "metadata": {},
     "output_type": "execute_result"
    }
   ],
   "source": [
    "import re\n",
    "\n",
    "yearRegex = re.compile(r'\\d\\d\\d\\d')\n",
    "mo = yearRegex.search('The current year is 2023')\n",
    "mo.group()"
   ]
  },
  {
   "attachments": {},
   "cell_type": "markdown",
   "metadata": {},
   "source": [
    "#### 2. why do raw strings often appear in Regex objects?\n",
    "**Ans**: Raw strings often appear because it makes possible to use backslashes without having to be escaped."
   ]
  },
  {
   "attachments": {},
   "cell_type": "markdown",
   "metadata": {},
   "source": [
    "#### 3. What is the return value of the search() method?\n",
    "**Ans**: The search() method returns match object."
   ]
  },
  {
   "cell_type": "code",
   "execution_count": 2,
   "metadata": {},
   "outputs": [
    {
     "name": "stdout",
     "output_type": "stream",
     "text": [
      "<re.Match object; span=(0, 1), match='a'>\n"
     ]
    }
   ],
   "source": [
    "mo = re.search('a','abcd')\n",
    "print(mo)"
   ]
  },
  {
   "attachments": {},
   "cell_type": "markdown",
   "metadata": {},
   "source": [
    "#### 4. From a Match item, how do you get the actual strings that match the pattern?\n",
    "**Ans**: **group()** method returns the string from the match item."
   ]
  },
  {
   "cell_type": "code",
   "execution_count": 3,
   "metadata": {},
   "outputs": [
    {
     "data": {
      "text/plain": [
       "'a'"
      ]
     },
     "execution_count": 3,
     "metadata": {},
     "output_type": "execute_result"
    }
   ],
   "source": [
    "mo = re.search('a','abcd')\n",
    "mo.group()"
   ]
  },
  {
   "attachments": {},
   "cell_type": "markdown",
   "metadata": {},
   "source": [
    "#### 5. In the regex which created from the r'(\\d\\d\\d)-(\\d\\d\\d-\\d\\d\\d\\d)' ,what does group zero cover? Group 2? Group 1?\n",
    "**Ans**: \n",
    "- Group 0 covers the entire string from the match\n",
    "- Group 1 covers (\\d\\d\\d) string\n",
    "- Group 2 covers (\\d\\d\\d-\\d\\d\\d\\d) string"
   ]
  },
  {
   "cell_type": "code",
   "execution_count": 4,
   "metadata": {},
   "outputs": [
    {
     "name": "stdout",
     "output_type": "stream",
     "text": [
      "group 0 : 123-456-7890\n",
      "group 1 : 123\n",
      "group 2 : 456-7890\n"
     ]
    }
   ],
   "source": [
    "numRegex = re.compile(r'(\\d\\d\\d)-(\\d\\d\\d-\\d\\d\\d\\d)')\n",
    "mo = numRegex.search('the number is 123-456-7890')\n",
    "print(f'group 0 : {mo.group(0)}')\n",
    "print(f'group 1 : {mo.group(1)}')\n",
    "print(f'group 2 : {mo.group(2)}')"
   ]
  },
  {
   "attachments": {},
   "cell_type": "markdown",
   "metadata": {},
   "source": [
    "#### 6. In standard expression syntax, parentheses and intervals have distinct meanings. How can you tell a regex that you want it to fit real parentheses and periods?\n",
    "**Ans**: The escape characters `\\.` , `\\(`  and  `\\)`  can be used to fit real parentheses and periods."
   ]
  },
  {
   "cell_type": "code",
   "execution_count": 5,
   "metadata": {},
   "outputs": [
    {
     "data": {
      "text/plain": [
       "'(1001)'"
      ]
     },
     "execution_count": 5,
     "metadata": {},
     "output_type": "execute_result"
    }
   ],
   "source": [
    "mo = re.search(r'\\(1001\\)' , '(1000+1)=(1001)')\n",
    "mo.group()"
   ]
  },
  {
   "attachments": {},
   "cell_type": "markdown",
   "metadata": {},
   "source": [
    "#### 7. The **findall()** method returns a string list or a list of string tuples. What causes it to return one of the two options?\n",
    "**Ans**: The **findall()** method returns a string list if there are no groups in the regular expression and list of string tuples if there are groups."
   ]
  },
  {
   "cell_type": "code",
   "execution_count": 6,
   "metadata": {},
   "outputs": [
    {
     "name": "stdout",
     "output_type": "stream",
     "text": [
      "[('12', 'times'), ('02', 'is')]\n",
      "----------\n",
      "['12 times', '02 is']\n"
     ]
    }
   ],
   "source": [
    "group = re.findall(r'(\\d{2})\\s(\\w+)' , '12 times 02 is 24')\n",
    "nogroup = re.findall(r'\\d\\d\\s\\w+' , '12 times 02 is 24')\n",
    "\n",
    "print(group)\n",
    "print('-'*10)\n",
    "print(nogroup)"
   ]
  },
  {
   "attachments": {},
   "cell_type": "markdown",
   "metadata": {},
   "source": [
    "#### 8. In standard expressions, what does the | character mean?\n",
    "**Ans**: In standard expression | stands for the `bitwise or` operator or the `set union` operator."
   ]
  },
  {
   "attachments": {},
   "cell_type": "markdown",
   "metadata": {},
   "source": [
    "#### 9. In regular expression, what does the character stand for?\n",
    "**Ans**: In regular expression '|' is used for matching either one between groups."
   ]
  },
  {
   "cell_type": "code",
   "execution_count": 7,
   "metadata": {},
   "outputs": [
    {
     "name": "stdout",
     "output_type": "stream",
     "text": [
      "batman\n",
      "superman\n"
     ]
    }
   ],
   "source": [
    "heroRegex = re.compile(r'(b\\w+)|(s\\w*)')\n",
    "mo1 = heroRegex.search('batman : the dark knight')\n",
    "print(mo1.group())\n",
    "\n",
    "mo2 = heroRegex.search('superman : man of steel')\n",
    "print(mo2.group())"
   ]
  },
  {
   "attachments": {},
   "cell_type": "markdown",
   "metadata": {},
   "source": [
    "#### 10. In regular expressions, what is the difference between the + and * characters?\n",
    "**Ans**:\n",
    "- `+`  is used to match one or more\n",
    "- `*`  is used to match zero or more "
   ]
  },
  {
   "attachments": {},
   "cell_type": "markdown",
   "metadata": {},
   "source": [
    "#### 11. What is the difference between {4} and {4,5} in regular expression?\n",
    "**Ans**:\n",
    "- {4} matches exactly 4 occurences of the preceeding group\n",
    "- {4,5} matches occurences in the range 4-5"
   ]
  },
  {
   "cell_type": "code",
   "execution_count": 8,
   "metadata": {},
   "outputs": [
    {
     "name": "stdout",
     "output_type": "stream",
     "text": [
      "3432\n",
      "12345\n"
     ]
    }
   ],
   "source": [
    "fourOcc = re.search(r'\\d{4}' , 'number = 3432')\n",
    "print(fourOcc.group())\n",
    "fourtoEightOcc = re.search(r'\\d{4,8}' , 'number = 12345')\n",
    "print(fourtoEightOcc.group())"
   ]
  },
  {
   "attachments": {},
   "cell_type": "markdown",
   "metadata": {},
   "source": [
    "#### 12. what do you mean by the \\d, \\w and \\s shorthand character classes in regualr expressions?\n",
    "**Ans**:\n",
    "- \\d represents any digit\n",
    "- \\w represents any alphabet, digit or underscore\n",
    "- \\s represents any space, newline or tab character"
   ]
  },
  {
   "attachments": {},
   "cell_type": "markdown",
   "metadata": {},
   "source": [
    "#### 13. What does \\D , \\W and \\S shorthand classes signify in regular expressionss?\n",
    "**Ans**:\n",
    "- \\D matches any character that is not a digit\n",
    "- \\W matches any character that is not alphabet,digit or underscore\n",
    "- \\S matches any character that is not a space character"
   ]
  },
  {
   "attachments": {},
   "cell_type": "markdown",
   "metadata": {},
   "source": [
    "#### 14. What is the diffrernce between `.*?` and `.*`  ?\n",
    "**Ans**:\n",
    "- `.*?` matches the shortest string possible\n",
    "- `.*` matches the longest string possible"
   ]
  },
  {
   "attachments": {},
   "cell_type": "markdown",
   "metadata": {},
   "source": [
    "#### 15. What is the syntax for matching both numbers and lowercase letters with a character class?\n",
    "**Ans**: [a-z0-9]"
   ]
  },
  {
   "attachments": {},
   "cell_type": "markdown",
   "metadata": {},
   "source": [
    "#### 16. What is the procedure for making a normal expression in regex case insensitive?\n",
    "**Ans**: passing `re.I` or `re.IGNORECASE` as second argument to `re.compile` makes the regex expression case insensitive."
   ]
  },
  {
   "cell_type": "code",
   "execution_count": 9,
   "metadata": {},
   "outputs": [
    {
     "data": {
      "text/plain": [
       "['Python', 'python', 'PYTHON']"
      ]
     },
     "execution_count": 9,
     "metadata": {},
     "output_type": "execute_result"
    }
   ],
   "source": [
    "noCaseRegex = re.compile(r'py\\w+' , re.I)\n",
    "noCaseRegex.findall('Python or python or PYTHON')"
   ]
  },
  {
   "attachments": {},
   "cell_type": "markdown",
   "metadata": {},
   "source": [
    "#### 17. What does the `.` character normally match? What does it match if `re.DOTALL` is passed as 2nd argument in `re.compile()`?\n",
    "**Ans**: The `.` character normally matches any character except newline character. If `re.DOTALL` is passed as 2nd argument in `re.compile()` then it matches the newline character too."
   ]
  },
  {
   "attachments": {},
   "cell_type": "markdown",
   "metadata": {},
   "source": [
    "#### 18. If `numReg = re.compile(r'\\d+')`, what will `numRegex.sub('X','11 drummers, 10 pipers, five rings, 4 hen')` return?\n",
    "**Ans**: `'X drummers, X pipers, five rings, X hen`"
   ]
  },
  {
   "attachments": {},
   "cell_type": "markdown",
   "metadata": {},
   "source": [
    "#### 19. What does passing `re.VERBOSE` as the 2nd argument to `re.compile()` allow to do?\n",
    "**Ans**: `re.VERBOSE` allows to add whitespaces and comments to strings passed in `re.compile` and makes it possible to pass the string in multilines."
   ]
  },
  {
   "cell_type": "code",
   "execution_count": 10,
   "metadata": {},
   "outputs": [
    {
     "data": {
      "text/plain": [
       "'10xy'"
      ]
     },
     "execution_count": 10,
     "metadata": {},
     "output_type": "execute_result"
    }
   ],
   "source": [
    "Reg = re.compile(r'''\n",
    "\\d\\d # number pattern\n",
    "\\w\\w # word pattern''' , re.VERBOSE)\n",
    "\n",
    "Reg.search('1xy 2xy 10xy').group()"
   ]
  },
  {
   "attachments": {},
   "cell_type": "markdown",
   "metadata": {},
   "source": [
    "#### 20. How would you write a regex that match a number with comma for every three digits? It must match the following:\n",
    "'42'  \n",
    "'1,234'  \n",
    "'6'365,456'  \n",
    "  \n",
    "#### but not the following:\n",
    "'12,12,345' (which has only two digits between the comma)  \n",
    "'1234' (which lacks comma)  \n",
    "  \n",
    "\n",
    "**Ans**: `re.compile(r'^\\d{1,3}(,\\d{3})*$')`"
   ]
  },
  {
   "cell_type": "code",
   "execution_count": 11,
   "metadata": {},
   "outputs": [
    {
     "name": "stdout",
     "output_type": "stream",
     "text": [
      "1\n",
      "2\n",
      "12\n",
      "657,765\n"
     ]
    }
   ],
   "source": [
    "reg = re.compile(r'^\\d{1,3}(,\\d{3})*$')\n",
    "for i in ['1' , '2' , '12' , '23,23' , '657,765' , '7655,677']:\n",
    "    if reg.search(i):\n",
    "        print(reg.search(i).group())"
   ]
  },
  {
   "attachments": {},
   "cell_type": "markdown",
   "metadata": {},
   "source": [
    "#### 21. How would you write a regex that matches the full name of someone whose last name is Watanabe? You can assume that the first name that comes before it will always be one word that begins with a capital letter. The regex must match the following:\n",
    "\"Haruto Watanabe\"  \n",
    "\"Alice Watanabe\"  \n",
    "\"RoboCop Watanabe\"  \n",
    "  \n",
    "#### but not the following:  \n",
    "\"haruto Watanabe\" (where the first name is not capitalized)  \n",
    "\"Mr. Watanabe\" (where the preceding word has a nonletter character)  \n",
    "\"Watanabe\" (which has no first name)  \n",
    "\"Haruto watanabe\" (where Watanabe is not capitalized)\n",
    "  \n",
    "\n",
    "**Ans**: `re.compile(r'[A-Z][a-z]*\\sWatanabe')`"
   ]
  },
  {
   "attachments": {},
   "cell_type": "markdown",
   "metadata": {},
   "source": [
    "#### 22. How would you write a regex that matches a sentence where the first word is either Alice, Bob, or Carol; the second word is either eats, pets, or throws; the third word is apples, cats, or baseballs; and the sentence ends with a period? This regex should be case-insensitive. It must match the following:\n",
    "\"Alice eats apples.\"  \n",
    "\"Bob pets cats.\"  \n",
    "\"Carol throws baseballs.\"  \n",
    "\"Alice throws Apples.\"  \n",
    "\"BOB EATS CATS.\"  \n",
    "#### but not the following:  \n",
    "\"RoboCop eats apples.\"  \n",
    "\"ALICE THROWS FOOTBALLS.\"  \n",
    "\"Carol eats 7 cats.\"  \n",
    "  \n",
    "\n",
    "**Ans**: `re.compile(r'^(Alice|Bob|Carol)\\s(eats|pets|throws)\\s(apples|cats|baseballs)\\.',re.I)`"
   ]
  },
  {
   "cell_type": "code",
   "execution_count": 12,
   "metadata": {},
   "outputs": [
    {
     "data": {
      "text/plain": [
       "False"
      ]
     },
     "execution_count": 12,
     "metadata": {},
     "output_type": "execute_result"
    }
   ],
   "source": [
    "Reg = re.compile(r'^(Alice|Bob|Carol)\\s(eats|pets|throws)\\s(apples|cats|baseballs)\\.',re.I)\n",
    "Reg.search('Alice eats apples.')==None"
   ]
  }
 ],
 "metadata": {
  "kernelspec": {
   "display_name": "base",
   "language": "python",
   "name": "python3"
  },
  "language_info": {
   "codemirror_mode": {
    "name": "ipython",
    "version": 3
   },
   "file_extension": ".py",
   "mimetype": "text/x-python",
   "name": "python",
   "nbconvert_exporter": "python",
   "pygments_lexer": "ipython3",
   "version": "3.9.12"
  },
  "orig_nbformat": 4,
  "vscode": {
   "interpreter": {
    "hash": "20a9e06a1eee47c4abbed4ec8225ad91d78d9800d202b71b6b0a6e47016c6abd"
   }
  }
 },
 "nbformat": 4,
 "nbformat_minor": 2
}
