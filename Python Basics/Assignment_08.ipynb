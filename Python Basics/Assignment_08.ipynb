{
 "cells": [
  {
   "attachments": {},
   "cell_type": "markdown",
   "metadata": {},
   "source": [
    "#### 1. Is PyinputPlus included with Python Standard Library?\n",
    "**Ans**: Pyinputplus is a third party module not included in Python Standard Library."
   ]
  },
  {
   "attachments": {},
   "cell_type": "markdown",
   "metadata": {},
   "source": [
    "#### 2. Why is PyinputPlus commonly imported with pyinputplus as pyip?\n",
    "**Ans**: Pyinputplus is imported as pyip for convenience as pyip is easier to type."
   ]
  },
  {
   "attachments": {},
   "cell_type": "markdown",
   "metadata": {},
   "source": [
    "#### 3. How do you distinguish between **inputInt()** and **inputFloat()**?\n",
    "**Ans**: **inputInt()** returns an integer value while, **inputFloat()** returns a floating point number."
   ]
  },
  {
   "attachments": {},
   "cell_type": "markdown",
   "metadata": {},
   "source": [
    "#### 4. Using PyinputPlus, how do you ensure that the user enters a whole number between 0 and 99?\n",
    "**Ans**: By using the **inputInt()** function with parameters **min=0** and **max=99** ensures that the input is a whole number between 0 and 99.  \n",
    "`pyip.inputInt(min=0,max=99)`"
   ]
  },
  {
   "attachments": {},
   "cell_type": "markdown",
   "metadata": {},
   "source": [
    "#### 5. What is transferred to the keyword arguments allowRegexes and blockRegexes?\n",
    "**Ans**: Regex strings are passed into these arguments to allow or reject matching strings."
   ]
  },
  {
   "attachments": {},
   "cell_type": "markdown",
   "metadata": {},
   "source": [
    "#### 6. If a blank input is entered three times, what does inputStr(limit=3) do?\n",
    "**Ans**: The function raises a **RetryLimitException**"
   ]
  },
  {
   "attachments": {},
   "cell_type": "markdown",
   "metadata": {},
   "source": [
    "#### 7. If a blank input is entered three times, what does inputStr(limit=3 , default='hello') do?\n",
    "**Ans**: It returns **'hello'**"
   ]
  }
 ],
 "metadata": {
  "kernelspec": {
   "display_name": "base",
   "language": "python",
   "name": "python3"
  },
  "language_info": {
   "name": "python",
   "version": "3.9.12"
  },
  "orig_nbformat": 4,
  "vscode": {
   "interpreter": {
    "hash": "20a9e06a1eee47c4abbed4ec8225ad91d78d9800d202b71b6b0a6e47016c6abd"
   }
  }
 },
 "nbformat": 4,
 "nbformat_minor": 2
}
