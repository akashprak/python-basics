{
 "cells": [
  {
   "attachments": {},
   "cell_type": "markdown",
   "metadata": {},
   "source": [
    "#### 1. To what does a relative path refer?\n",
    "**Ans**: Relative path refers to the path relative to the current working directory."
   ]
  },
  {
   "attachments": {},
   "cell_type": "markdown",
   "metadata": {},
   "source": [
    "#### What does an absolute path start with in your operating system?\n",
    "**Ans**: Absolute path start with the root folder.\n",
    "- windows - C:\\\n",
    "- linux - /"
   ]
  },
  {
   "attachments": {},
   "cell_type": "markdown",
   "metadata": {},
   "source": [
    "#### 3. What do the functions os.getcwd() and os.chdir() do?\n",
    "**Ans**: \n",
    "-  os.getcwd() - returns the current working directory\n",
    "- os.chdir() - changes the present working directory"
   ]
  },
  {
   "attachments": {},
   "cell_type": "markdown",
   "metadata": {},
   "source": [
    "#### 4. What are the . and .. folders?\n",
    "**Ans**: \n",
    "- The . folder is the present directory\n",
    "- the .. folder is the parent folder"
   ]
  },
  {
   "attachments": {},
   "cell_type": "markdown",
   "metadata": {},
   "source": [
    "#### 5. In C:\\bacon\\eggs\\spam.txt, which part is the dir name, and which part is the base name?\n",
    "**Ans**: \n",
    "- C:\\bacon\\eggs is the directory name\n",
    "- spam.txt is the base name"
   ]
  },
  {
   "attachments": {},
   "cell_type": "markdown",
   "metadata": {},
   "source": [
    "#### 6. What are the three “mode” arguments that can be passed to the open() function?\n",
    "**Ans**: The three modes are:\n",
    "- r - read\n",
    "- w - write\n",
    "- a - append\n",
    "\n",
    "additionaly:\n",
    "- x - create"
   ]
  },
  {
   "attachments": {},
   "cell_type": "markdown",
   "metadata": {},
   "source": [
    "#### 7. What happens if an existing file is opened in write mode?\n",
    "**Ans**: The write mode overwrites the existing file"
   ]
  },
  {
   "attachments": {},
   "cell_type": "markdown",
   "metadata": {},
   "source": [
    "#### 8. How do you tell the difference between read() and readlines()?\n",
    "**Ans**: \n",
    "- read() method reads the file character by character\n",
    "- readlines() method reads the file line by line (using '\\n' character)"
   ]
  },
  {
   "attachments": {},
   "cell_type": "markdown",
   "metadata": {},
   "source": [
    "#### 9. What data structure does a shelf value resemble?\n",
    "**Ans**: shelf value resembles a dictionary in python."
   ]
  }
 ],
 "metadata": {
  "kernelspec": {
   "display_name": "py11env",
   "language": "python",
   "name": "python3"
  },
  "language_info": {
   "codemirror_mode": {
    "name": "ipython",
    "version": 3
   },
   "file_extension": ".py",
   "mimetype": "text/x-python",
   "name": "python",
   "nbconvert_exporter": "python",
   "pygments_lexer": "ipython3",
   "version": "3.11.0"
  },
  "orig_nbformat": 4
 },
 "nbformat": 4,
 "nbformat_minor": 2
}
