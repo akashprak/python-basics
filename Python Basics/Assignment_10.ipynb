{
 "cells": [
  {
   "attachments": {},
   "cell_type": "markdown",
   "metadata": {},
   "source": [
    "#### 1. How do you distinguish between shutil.copy() and shutil.copytree()?\n",
    "**Ans**: \n",
    "- shutil.copy() copies a single file\n",
    "- shutil.copytree() will copy the entire folder and its contents"
   ]
  },
  {
   "attachments": {},
   "cell_type": "markdown",
   "metadata": {},
   "source": [
    "#### 2. What function is used to rename files?\n",
    "**Ans**: `os.rename()` is used to rename files."
   ]
  },
  {
   "attachments": {},
   "cell_type": "markdown",
   "metadata": {},
   "source": [
    "#### 3. What is the difference between the delete functions in the send2trash and shutil module?\n",
    "**Ans**:\n",
    "- send2trash methods move the file into the bin\n",
    "- shutil methods delete files permanently"
   ]
  },
  {
   "attachments": {},
   "cell_type": "markdown",
   "metadata": {},
   "source": [
    "#### 4. ZipFile objects have a close() method just like File objects's close() method. What ZipFile method is equivalent to File objects's open() method?\n",
    "**Ans**: zipfile.ZipFile() function is equivalent to the open() function"
   ]
  },
  {
   "attachments": {},
   "cell_type": "markdown",
   "metadata": {},
   "source": [
    "#### 5. Create a programme that searches a folder tree for files with a certain file extension (such as .pdf or .jpg). Copy these files from whatever location they are in to a new folder."
   ]
  },
  {
   "cell_type": "code",
   "execution_count": 1,
   "metadata": {},
   "outputs": [],
   "source": [
    "import os,shutil\n",
    "\n",
    "def copyfile(src, dst):\n",
    "    for paths, folders, files in os.walk(src):\n",
    "        for filename in files:\n",
    "            if filename.endswith('.jpg'):\n",
    "                shutil.copy(paths+filename, dst)\n",
    "\n",
    "copyfile(\"C:/Users/Lenovo/Documents/\", \"D:/jpgFileDocuments/\")"
   ]
  }
 ],
 "metadata": {
  "kernelspec": {
   "display_name": "py11env",
   "language": "python",
   "name": "python3"
  },
  "language_info": {
   "codemirror_mode": {
    "name": "ipython",
    "version": 3
   },
   "file_extension": ".py",
   "mimetype": "text/x-python",
   "name": "python",
   "nbconvert_exporter": "python",
   "pygments_lexer": "ipython3",
   "version": "3.11.0"
  },
  "orig_nbformat": 4
 },
 "nbformat": 4,
 "nbformat_minor": 2
}
