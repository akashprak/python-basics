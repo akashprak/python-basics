{
 "cells": [
  {
   "attachments": {},
   "cell_type": "markdown",
   "metadata": {},
   "source": [
    "#### 1. What does RGBA stand for?\n",
    "**Ans**: Red, Green, Blue, Alpha (transparency).  \n",
    "Their values range from 0 to 255"
   ]
  },
  {
   "attachments": {},
   "cell_type": "markdown",
   "metadata": {},
   "source": [
    "#### 2. From the Pillow module, how do you get the RGBA value of any images?\n",
    "**Ans**:\n",
    "- ImageColor.getcolor('color', 'RGBA') will return the RGBA value of 'color'\n",
    "- the getpixel() method can be used to return RGB values of a coordinate"
   ]
  },
  {
   "cell_type": "code",
   "execution_count": 5,
   "metadata": {},
   "outputs": [
    {
     "name": "stdout",
     "output_type": "stream",
     "text": [
      "RGB\n",
      "(250, 250, 250)\n"
     ]
    },
    {
     "data": {
      "text/plain": [
       "(0, 0, 255, 255)"
      ]
     },
     "execution_count": 5,
     "metadata": {},
     "output_type": "execute_result"
    }
   ],
   "source": [
    "from PIL import Image,ImageColor\n",
    "\n",
    "with Image.open(\"D:/folder/image.jpg\") as im:\n",
    "    print(im.mode)\n",
    "    print(im.getpixel((50,45)))\n",
    "\n",
    "ImageColor.getcolor('blue','RGBA')"
   ]
  },
  {
   "attachments": {},
   "cell_type": "markdown",
   "metadata": {},
   "source": [
    "#### 3. What is a box tuple, and how does it work?\n",
    "**Ans**: Box tuple is a tuple of 4 integers. It represents a rectangular region in an image.  \n",
    "The integers are:\n",
    "- left - x-coordinate of leftmost edge\n",
    "- top - y-coordinate of top edge\n",
    "- right - x-coordinate of one pixel to the right of rightmost edge\n",
    "- bottom - y-coordinate of one pixel lower than the bottom edge"
   ]
  },
  {
   "attachments": {},
   "cell_type": "markdown",
   "metadata": {},
   "source": [
    "#### 4. Use your image and load in notebook then, How can you find out the width and height of an Image object?\n",
    "**Ans**: ImgObj.size gives the width and height"
   ]
  },
  {
   "cell_type": "code",
   "execution_count": 6,
   "metadata": {},
   "outputs": [
    {
     "name": "stdout",
     "output_type": "stream",
     "text": [
      "(637, 623)\n"
     ]
    }
   ],
   "source": [
    "with Image.open(\"D:/folder/image.jpg\") as im:\n",
    "    print(im.size)"
   ]
  },
  {
   "attachments": {},
   "cell_type": "markdown",
   "metadata": {},
   "source": [
    "#### 5. What method would you call to get Image object for a 100×100 image, excluding the lower-left quarter of it?\n",
    "**Ans**: ImgObj.crop((0,50,50,100))"
   ]
  },
  {
   "attachments": {},
   "cell_type": "markdown",
   "metadata": {},
   "source": [
    "#### 6. After making changes to an Image object, how could you save it as an image file?\n",
    "**Ans**: `ImgObj.save(\"filename.jpg\")`"
   ]
  },
  {
   "attachments": {},
   "cell_type": "markdown",
   "metadata": {},
   "source": [
    "#### 7. What module contains Pillow’s shape-drawing code?\n",
    "**Ans**: The ImageDraw module"
   ]
  },
  {
   "attachments": {},
   "cell_type": "markdown",
   "metadata": {},
   "source": [
    "#### 8. Image objects do not have drawing methods. What kind of object does? How do you get this kind of object?\n",
    "**Ans**: The ImageDraw object have drawing methods. This object is got by passing Image Object to ImageDraw.Draw() function."
   ]
  }
 ],
 "metadata": {
  "kernelspec": {
   "display_name": "py11env",
   "language": "python",
   "name": "python3"
  },
  "language_info": {
   "codemirror_mode": {
    "name": "ipython",
    "version": 3
   },
   "file_extension": ".py",
   "mimetype": "text/x-python",
   "name": "python",
   "nbconvert_exporter": "python",
   "pygments_lexer": "ipython3",
   "version": "3.11.0"
  },
  "orig_nbformat": 4
 },
 "nbformat": 4,
 "nbformat_minor": 2
}
