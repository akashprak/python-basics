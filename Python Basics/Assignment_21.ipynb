{
 "cells": [
  {
   "attachments": {},
   "cell_type": "markdown",
   "metadata": {},
   "source": [
    "#### 1. Add the current date to the text file today.txt as a string."
   ]
  },
  {
   "cell_type": "code",
   "execution_count": 2,
   "metadata": {},
   "outputs": [],
   "source": [
    "from datetime import date\n",
    "\n",
    "with open('today.txt','w') as f:\n",
    "    f.write(str(date.today()))"
   ]
  },
  {
   "attachments": {},
   "cell_type": "markdown",
   "metadata": {},
   "source": [
    "#### 2. Read the text file today.txt into the string today_string"
   ]
  },
  {
   "cell_type": "code",
   "execution_count": 3,
   "metadata": {},
   "outputs": [
    {
     "data": {
      "text/plain": [
       "'2023-05-04'"
      ]
     },
     "execution_count": 3,
     "metadata": {},
     "output_type": "execute_result"
    }
   ],
   "source": [
    "with open('today.txt') as f:\n",
    "    today_string = f.read()\n",
    "\n",
    "today_string"
   ]
  },
  {
   "attachments": {},
   "cell_type": "markdown",
   "metadata": {},
   "source": [
    "#### 3. Parse the date from today_string."
   ]
  },
  {
   "cell_type": "code",
   "execution_count": 4,
   "metadata": {},
   "outputs": [
    {
     "name": "stdout",
     "output_type": "stream",
     "text": [
      "2023-05-04\n"
     ]
    },
    {
     "data": {
      "text/plain": [
       "datetime.date(2023, 5, 4)"
      ]
     },
     "execution_count": 4,
     "metadata": {},
     "output_type": "execute_result"
    }
   ],
   "source": [
    "from datetime import datetime\n",
    "\n",
    "print(today_string)\n",
    "\n",
    "#or\n",
    "\n",
    "datetime.now().date()"
   ]
  },
  {
   "attachments": {},
   "cell_type": "markdown",
   "metadata": {},
   "source": [
    "#### 4. List the files in your current directory"
   ]
  },
  {
   "cell_type": "code",
   "execution_count": 10,
   "metadata": {},
   "outputs": [
    {
     "data": {
      "text/plain": [
       "['Assignment_03.ipynb',\n",
       " 'Assignment_04.ipynb',\n",
       " 'Assignment_05.ipynb',\n",
       " 'Assignment_06.ipynb',\n",
       " 'Assignment_07.ipynb',\n",
       " 'Assignment_08.ipynb',\n",
       " 'Assignment_09.ipynb',\n",
       " 'Assignment_1.docx',\n",
       " 'Assignment_10.ipynb',\n",
       " 'Assignment_11.ipynb',\n",
       " 'Assignment_12.ipynb',\n",
       " 'Assignment_13.ipynb',\n",
       " 'Assignment_14.ipynb',\n",
       " 'Assignment_15.ipynb',\n",
       " 'Assignment_16.ipynb',\n",
       " 'Assignment_17.ipynb',\n",
       " 'Assignment_18.ipynb',\n",
       " 'Assignment_19.ipynb',\n",
       " 'Assignment_2.pdf',\n",
       " 'Assignment_20.ipynb',\n",
       " 'Assignment_21.ipynb',\n",
       " 'Assignment_22.ipynb',\n",
       " 'Assignment_23.ipynb',\n",
       " 'Assignment_24.ipynb',\n",
       " 'Assignment_25.ipynb',\n",
       " 'books.csv',\n",
       " 'books.db',\n",
       " 'books.db-journal',\n",
       " 'Programming_Assignment_01.ipynb',\n",
       " 'Programming_Assignment_02.ipynb',\n",
       " 'Programming_Assignment_03.ipynb',\n",
       " 'Programming_Assignment_04.ipynb',\n",
       " 'Programming_Assignment_05.ipynb',\n",
       " 'Programming_Assignment_06.ipynb',\n",
       " 'Programming_Assignment_07.ipynb',\n",
       " 'Programming_Assignment_08.ipynb',\n",
       " 'Programming_Assignment_09.ipynb',\n",
       " 'Programming_Assignment_10.ipynb',\n",
       " 'Programming_Assignment_11.ipynb',\n",
       " 'Programming_Assignment_12.ipynb',\n",
       " 'Programming_Assignment_13.ipynb',\n",
       " 'Programming_Assignment_14.ipynb',\n",
       " 'Programming_Assignment_15.ipynb',\n",
       " 'Programming_Assignment_16.ipynb',\n",
       " 'Programming_Assignment_17.ipynb',\n",
       " 'Programming_Assignment_18.ipynb',\n",
       " 'Programming_Assignment_19.ipynb',\n",
       " 'Programming_Assignment_20.ipynb',\n",
       " 'Programming_Assignment_21.ipynb',\n",
       " 'Programming_Assignment_22.ipynb',\n",
       " 'Programming_Assignment_23.ipynb',\n",
       " 'Programming_Assignment_24.ipynb',\n",
       " 'Programming_Assignment_25.ipynb',\n",
       " 'test.txt',\n",
       " 'today.txt',\n",
       " 'zoo.py',\n",
       " '__pycache__']"
      ]
     },
     "execution_count": 10,
     "metadata": {},
     "output_type": "execute_result"
    }
   ],
   "source": [
    "import os\n",
    "\n",
    "os.listdir()"
   ]
  },
  {
   "attachments": {},
   "cell_type": "markdown",
   "metadata": {},
   "source": [
    "#### 5. Create a list of all of the files in your parent directory (minimum five files should be available)."
   ]
  },
  {
   "cell_type": "code",
   "execution_count": 15,
   "metadata": {},
   "outputs": [
    {
     "name": "stdout",
     "output_type": "stream",
     "text": [
      "('d:\\\\FSDS Assignment', ['Other Assignments', 'Python Basics'], [])\n",
      "('d:\\\\FSDS Assignment\\\\Other Assignments', ['flaskApi Assignment', 'tkinter assignment'], [])\n",
      "('d:\\\\FSDS Assignment\\\\Other Assignments\\\\flaskApi Assignment', ['templates'], ['app.py', 'flaskLog.log', 'items.json'])\n",
      "('d:\\\\FSDS Assignment\\\\Other Assignments\\\\flaskApi Assignment\\\\templates', [], ['base.html', 'cart.html', 'home.html'])\n",
      "('d:\\\\FSDS Assignment\\\\Other Assignments\\\\tkinter assignment', ['__pycache__'], ['modules&packages.ipynb', 'pdfmerger.py', 'primaryGUI.py', 'secondaryGUI.py'])\n",
      "('d:\\\\FSDS Assignment\\\\Other Assignments\\\\tkinter assignment\\\\__pycache__', [], ['GUI2.cpython-39.pyc', 'pdfmerger.cpython-39.pyc', 'secondaryGUI.cpython-39.pyc'])\n",
      "('d:\\\\FSDS Assignment\\\\Python Basics', ['__pycache__'], ['Assignment_03.ipynb', 'Assignment_04.ipynb', 'Assignment_05.ipynb', 'Assignment_06.ipynb', 'Assignment_07.ipynb', 'Assignment_08.ipynb', 'Assignment_09.ipynb', 'Assignment_1.docx', 'Assignment_10.ipynb', 'Assignment_11.ipynb', 'Assignment_12.ipynb', 'Assignment_13.ipynb', 'Assignment_14.ipynb', 'Assignment_15.ipynb', 'Assignment_16.ipynb', 'Assignment_17.ipynb', 'Assignment_18.ipynb', 'Assignment_19.ipynb', 'Assignment_2.pdf', 'Assignment_20.ipynb', 'Assignment_21.ipynb', 'Assignment_22.ipynb', 'Assignment_23.ipynb', 'Assignment_24.ipynb', 'Assignment_25.ipynb', 'books.csv', 'books.db', 'books.db-journal', 'Programming_Assignment_01.ipynb', 'Programming_Assignment_02.ipynb', 'Programming_Assignment_03.ipynb', 'Programming_Assignment_04.ipynb', 'Programming_Assignment_05.ipynb', 'Programming_Assignment_06.ipynb', 'Programming_Assignment_07.ipynb', 'Programming_Assignment_08.ipynb', 'Programming_Assignment_09.ipynb', 'Programming_Assignment_10.ipynb', 'Programming_Assignment_11.ipynb', 'Programming_Assignment_12.ipynb', 'Programming_Assignment_13.ipynb', 'Programming_Assignment_14.ipynb', 'Programming_Assignment_15.ipynb', 'Programming_Assignment_16.ipynb', 'Programming_Assignment_17.ipynb', 'Programming_Assignment_18.ipynb', 'Programming_Assignment_19.ipynb', 'Programming_Assignment_20.ipynb', 'Programming_Assignment_21.ipynb', 'Programming_Assignment_22.ipynb', 'Programming_Assignment_23.ipynb', 'Programming_Assignment_24.ipynb', 'Programming_Assignment_25.ipynb', 'test.txt', 'today.txt', 'zoo.py'])\n",
      "('d:\\\\FSDS Assignment\\\\Python Basics\\\\__pycache__', [], ['zoo.cpython-311.pyc'])\n"
     ]
    }
   ],
   "source": [
    "parent = os.path.dirname(os.getcwd())\n",
    "for i in os.walk(parent):\n",
    "    print(i)"
   ]
  },
  {
   "attachments": {},
   "cell_type": "markdown",
   "metadata": {},
   "source": [
    "#### 6. Use multiprocessing to create three separate processes. Make each one wait a random number of seconds between one and five, print the current time, and then exit."
   ]
  },
  {
   "cell_type": "code",
   "execution_count": 4,
   "metadata": {},
   "outputs": [],
   "source": [
    "import multiprocessing\n",
    "import time\n",
    "from random import randint\n",
    "from datetime import datetime\n",
    "\n",
    "def process1():\n",
    "    time.sleep(randint(1,5))\n",
    "    print(f'process 1 time: {datetime.now().time()}')\n",
    "\n",
    "def process2():\n",
    "    time.sleep(randint(1,5))\n",
    "    print(f'process 2 time: {datetime.now().time()}')\n",
    "\n",
    "def process3():\n",
    "    time.sleep(randint(1,5))\n",
    "    print(f'process 3 time: {datetime.now().time()}')\n",
    "\n",
    "p1 = multiprocessing.Process(target=process1)\n",
    "p2 = multiprocessing.Process(target=process2)\n",
    "p3 = multiprocessing.Process(target=process3)\n",
    "\n",
    "p1.start()\n",
    "p2.start()\n",
    "p3.start()\n",
    "\n",
    "p1.join()\n",
    "p2.join()\n",
    "p3.join()"
   ]
  },
  {
   "cell_type": "code",
   "execution_count": 9,
   "metadata": {},
   "outputs": [
    {
     "name": "stdout",
     "output_type": "stream",
     "text": [
      "process 1 time: 13:35:51.524524\n",
      "process 2 time: 13:35:51.525571\n",
      "process 3 time: 13:35:51.529650\n"
     ]
    }
   ],
   "source": [
    "# output cannot be shown by running the above script\n",
    "!python Assignment21.py"
   ]
  },
  {
   "attachments": {},
   "cell_type": "markdown",
   "metadata": {},
   "source": [
    "#### 7. Create a date object of your day of birth."
   ]
  },
  {
   "cell_type": "code",
   "execution_count": 1,
   "metadata": {},
   "outputs": [
    {
     "name": "stdout",
     "output_type": "stream",
     "text": [
      "<class 'datetime.date'>\n"
     ]
    }
   ],
   "source": [
    "import datetime\n",
    "dob = datetime.date(1999,12,31)\n",
    "print(type(dob))"
   ]
  },
  {
   "attachments": {},
   "cell_type": "markdown",
   "metadata": {},
   "source": [
    "#### 8. What day of the week was your day of birth?"
   ]
  },
  {
   "cell_type": "code",
   "execution_count": 2,
   "metadata": {},
   "outputs": [
    {
     "data": {
      "text/plain": [
       "'Friday'"
      ]
     },
     "execution_count": 2,
     "metadata": {},
     "output_type": "execute_result"
    }
   ],
   "source": [
    "dob.strftime('%A')"
   ]
  },
  {
   "attachments": {},
   "cell_type": "markdown",
   "metadata": {},
   "source": [
    "#### 9. When will you be (or when were you) 10,000 days old?"
   ]
  },
  {
   "cell_type": "code",
   "execution_count": 3,
   "metadata": {},
   "outputs": [
    {
     "data": {
      "text/plain": [
       "'18-May-2027'"
      ]
     },
     "execution_count": 3,
     "metadata": {},
     "output_type": "execute_result"
    }
   ],
   "source": [
    "from datetime import timedelta\n",
    "\n",
    "d10k = dob+timedelta(10000)\n",
    "d10k.strftime('%d-%B-%Y')"
   ]
  }
 ],
 "metadata": {
  "kernelspec": {
   "display_name": "py11env",
   "language": "python",
   "name": "python3"
  },
  "language_info": {
   "codemirror_mode": {
    "name": "ipython",
    "version": 3
   },
   "file_extension": ".py",
   "mimetype": "text/x-python",
   "name": "python",
   "nbconvert_exporter": "python",
   "pygments_lexer": "ipython3",
   "version": "3.11.0"
  },
  "orig_nbformat": 4
 },
 "nbformat": 4,
 "nbformat_minor": 2
}
