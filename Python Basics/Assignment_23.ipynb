{
 "cells": [
  {
   "attachments": {},
   "cell_type": "markdown",
   "metadata": {},
   "source": [
    "#### 1. What is the result of the code, and why?\n",
    "```\n",
    ">>> def func(a, b=6, c=8):\n",
    "print(a, b, c)\n",
    ">>> func(1, 2)\n",
    "```\n",
    "**Ans**: The code prints `1 2 8`  \n",
    "The arguments for the function is passed as positional arguments, so 'a' is assigned 1 and 'b' is assigned 2.  \n",
    "Since third argument is not passed, c takes the default value 8."
   ]
  },
  {
   "attachments": {},
   "cell_type": "markdown",
   "metadata": {},
   "source": [
    "#### 2. What is the result of this code, and why?\n",
    "```\n",
    ">>> def func(a, b, c=5):\n",
    "print(a, b, c)\n",
    ">>> func(1, c=3, b=2)\n",
    "```\n",
    "**Ans**: The code prints `1 2 3`  \n",
    "Only one positional argument is passed which is assigned to the first keyword a.  \n",
    "The keyword arguments are assigned to their respective keywords and hence the output."
   ]
  },
  {
   "attachments": {},
   "cell_type": "markdown",
   "metadata": {},
   "source": [
    "#### 3. How about this code: what is its result, and why?\n",
    "```\n",
    ">>> def func(a, *pargs):\n",
    "print(a, pargs)\n",
    ">>> func(1, 2, 3)\n",
    "```\n",
    "**Ans**: The code prints `1 (2,3)`  \n",
    "The code has one fixed argument, so it is assigned the first value 1.  \n",
    "The variable arguments are collected in pargs as a tuple, hence the output."
   ]
  },
  {
   "attachments": {},
   "cell_type": "markdown",
   "metadata": {},
   "source": [
    "#### 4. What does this code print, and why?\n",
    "```\n",
    ">>> def func(a, **kargs):\n",
    "print(a, kargs)\n",
    ">>> func(a=1, c=3, b=2)\n",
    "```\n",
    "**Ans**: The code prints `1 {'b':2, 'c':3}`  \n",
    "The keyword a is assigned 1 through the keyword argument of the same and the rest of the keyword arguments is stored in 'kargs' as a dictionary.  \n",
    "since the dictionary is not unpacked, the code prints the value of 'a' and the dictionary 'kargs'."
   ]
  },
  {
   "attachments": {},
   "cell_type": "markdown",
   "metadata": {},
   "source": [
    "#### 5. What gets printed by this, and explain?\n",
    "```\n",
    ">>> def func(a, b, c=8, d=5): print(a, b, c, d)\n",
    ">>> func(1, *(5, 6))\n",
    "```  \n",
    "**Ans**: The code prints `1 5 6 5`  \n",
    "The first positional argument is assigned to 'a'.  \n",
    "The tuple is unpacked to assign 5 and 6 to 'b' and 'c' respectively and d follows its default value."
   ]
  },
  {
   "attachments": {},
   "cell_type": "markdown",
   "metadata": {},
   "source": [
    "#### 6. what is the result of this, and explain?\n",
    "```\n",
    ">>> def func(a, b, c): a = 2; b[0] = 'x'; c['a'] = 'y'\n",
    ">>> l=1; m=[1]; n={'a':0}\n",
    ">>> func(l, m, n)\n",
    "\n",
    ">>> l, m, n\n",
    "```\n",
    "**Ans**: The code prints `1, ['x'], {'a': 'y'}`  \n",
    "Collections in python stores elements by their references, so changing reference changes the element whilst the collection(collection ID) staying the same.\n",
    "- The value of l stays the same because the assignment, `a=2`, inside the function makes the variable a to have a local scope\n",
    "- The variable 'b' also has a local scope, however, since 'b' is a collection (list), changing its elements changes their references, thereby changing the global list variable 'm'.\n",
    "- The variable 'c' also has a local scope, however, since 'c' is a collection (dict), changing its elements changes their references, thereby changing the global dictionary variable 'n'."
   ]
  }
 ],
 "metadata": {
  "kernelspec": {
   "display_name": "py11env",
   "language": "python",
   "name": "python3"
  },
  "language_info": {
   "codemirror_mode": {
    "name": "ipython",
    "version": 3
   },
   "file_extension": ".py",
   "mimetype": "text/x-python",
   "name": "python",
   "nbconvert_exporter": "python",
   "pygments_lexer": "ipython3",
   "version": "3.11.0"
  },
  "orig_nbformat": 4
 },
 "nbformat": 4,
 "nbformat_minor": 2
}
