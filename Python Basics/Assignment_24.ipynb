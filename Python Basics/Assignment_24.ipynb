{
 "cells": [
  {
   "attachments": {},
   "cell_type": "markdown",
   "metadata": {},
   "source": [
    "#### 1. What is the relationship between def statements and lambda expressions ?\n",
    "**Ans**:\n",
    "- **def** statements are used to create functions.\n",
    "- **lambda expressions** are one-liners, also used to create functions, but are limited in their capabilities than **def**."
   ]
  },
  {
   "attachments": {},
   "cell_type": "markdown",
   "metadata": {},
   "source": [
    "#### 2. What is the benefit of lambda?\n",
    "**Ans**: **lambda** lets us create functions in one line.  \n",
    "lambda expressions can be used where simple functions needs to be used or provided."
   ]
  },
  {
   "attachments": {},
   "cell_type": "markdown",
   "metadata": {},
   "source": [
    "#### 3. Compare and contrast map, filter, and reduce.\n",
    "**Ans**:\n",
    "- **map** - returns an iterator over the given iterables with the funtion applied to each element of the iterable(s).\n",
    "- **filter** - returns an iterator of elements where the function computes to True. If function is None, returns elements which are True \n",
    "- **reduce** - apply function of two arguments cumulatively to the iterable and return a single value"
   ]
  },
  {
   "cell_type": "code",
   "execution_count": 1,
   "metadata": {},
   "outputs": [
    {
     "name": "stdout",
     "output_type": "stream",
     "text": [
      "[1, 0, 1, 1, 4, 0, 0, 25, 49, 81, 0]\n",
      "[1, 1, 1, 2, 5, 7, 9]\n",
      "26\n"
     ]
    }
   ],
   "source": [
    "from functools import reduce\n",
    "\n",
    "L = [1,0,1,1,2,0,0,5,7,9,0]\n",
    "\n",
    "# applying map, filter and reduce to L\n",
    "m = map(lambda x:x**2, L)\n",
    "f = filter(None, L)\n",
    "r = reduce(lambda x,y: x+y, L)\n",
    "\n",
    "print(list(m))\n",
    "print(list(f))\n",
    "print(r)"
   ]
  },
  {
   "attachments": {},
   "cell_type": "markdown",
   "metadata": {},
   "source": [
    "#### 4. What are function annotations, and how are they used?\n",
    "**Ans**:\n",
    "- function annotations are used to denote the type a variable will be using inside the function.  \n",
    "- This helps in better readability of the code and external libraries and code editors use these to increase the efficiency in writing programs.  \n",
    "- These annotations are evaluated at compile time and has no effect on the program at runtime."
   ]
  },
  {
   "cell_type": "code",
   "execution_count": 2,
   "metadata": {},
   "outputs": [
    {
     "data": {
      "text/plain": [
       "10"
      ]
     },
     "execution_count": 2,
     "metadata": {},
     "output_type": "execute_result"
    }
   ],
   "source": [
    "# from python 3.10 '|' can be used to hint multiple types withot any additional libraries\n",
    "def addition(*args:int|float):\n",
    "    return sum(args)\n",
    "\n",
    "addition(1,2,3,4)"
   ]
  },
  {
   "attachments": {},
   "cell_type": "markdown",
   "metadata": {},
   "source": [
    "#### 5. What are recursive functions, and how are they used?\n",
    "**Ans**:\n",
    "- Recursive functions are functions that call itself. They call themselves repeatedly until they reach the base case.\n",
    "- Recursive functions have their function call somewhere within the function definition itself."
   ]
  },
  {
   "cell_type": "code",
   "execution_count": 3,
   "metadata": {},
   "outputs": [
    {
     "data": {
      "text/plain": [
       "120"
      ]
     },
     "execution_count": 3,
     "metadata": {},
     "output_type": "execute_result"
    }
   ],
   "source": [
    "def factorial(n:int):\n",
    "    if n==1:    # base case\n",
    "        return 1\n",
    "    return n*factorial(n-1)\n",
    "\n",
    "factorial(5)"
   ]
  },
  {
   "attachments": {},
   "cell_type": "markdown",
   "metadata": {},
   "source": [
    "#### 6. What are some general design guidelines for coding functions?\n",
    "**Ans**: The things to consider while coding functions are:\n",
    "- function annotations must be included\n",
    "- docstring is important for every function\n",
    "- commenting is to be included if necessary\n",
    "- CONSTANTS should always be in capital letters\n",
    "- Indentation is recommended at 4 spaces per indentation\n",
    "- function names should be lowercase, with words separated by underscores"
   ]
  },
  {
   "attachments": {},
   "cell_type": "markdown",
   "metadata": {},
   "source": [
    "#### 7. Name three or more ways that functions can communicate results to a caller.\n",
    "**Ans**:\n",
    "- return\n",
    "- yield\n",
    "- print\n",
    "- logging"
   ]
  }
 ],
 "metadata": {
  "kernelspec": {
   "display_name": "py11env",
   "language": "python",
   "name": "python3"
  },
  "language_info": {
   "codemirror_mode": {
    "name": "ipython",
    "version": 3
   },
   "file_extension": ".py",
   "mimetype": "text/x-python",
   "name": "python",
   "nbconvert_exporter": "python",
   "pygments_lexer": "ipython3",
   "version": "3.11.0"
  },
  "orig_nbformat": 4
 },
 "nbformat": 4,
 "nbformat_minor": 2
}
