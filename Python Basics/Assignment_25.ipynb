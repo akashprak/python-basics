{
 "cells": [
  {
   "attachments": {},
   "cell_type": "markdown",
   "metadata": {},
   "source": [
    "#### 1 . What is the difference between enclosing a list comprehension in square brackets and parentheses?\n",
    "**Ans**:\n",
    "- list comprehension enclosed in square brackets returns a nested list of one element with the list comprhension inside.\n",
    "- list comprehension enclosed in parenthesis returns a list with elements returned from the list comprehension."
   ]
  },
  {
   "cell_type": "code",
   "execution_count": 8,
   "metadata": {},
   "outputs": [
    {
     "name": "stdout",
     "output_type": "stream",
     "text": [
      "[['a', 'b', 'c']]\n",
      "['a', 'b', 'c']\n"
     ]
    }
   ],
   "source": [
    "list_sq = [[i for i in 'abc']]\n",
    "list_pr = ([i for i in 'abc'])\n",
    "print(list_sq)\n",
    "print(list_pr)"
   ]
  },
  {
   "attachments": {},
   "cell_type": "markdown",
   "metadata": {},
   "source": [
    "#### 2 What is the relationship between generators and iterators?\n",
    "**Ans**:\n",
    "- **iterators** and **generators** return iterables, from iteration over a collection or a generator function.   \n",
    "- Iterators holds the evaluation expression ro reduce memory usage and generators holds the function until next element need to be evaluated.  \n",
    "- Iterators and generators are an efficient form of iterables because the entire sequence need not be stored to get the data."
   ]
  },
  {
   "attachments": {},
   "cell_type": "markdown",
   "metadata": {},
   "source": [
    "#### 3 What are the signs that a function is a generator function?\n",
    "**Ans**: A generator function will have a **yield** statement and it will return a generator object."
   ]
  },
  {
   "attachments": {},
   "cell_type": "markdown",
   "metadata": {},
   "source": [
    "#### 4 What is the purpose of a yield statement?\n",
    "**Ans**: **yield** statement is used to create generator functions."
   ]
  },
  {
   "attachments": {},
   "cell_type": "markdown",
   "metadata": {},
   "source": [
    "#### 5 What is the relationship between map calls and list comprehensions? Make a comparison and contrast between the two.\n",
    "**Ans**:\n",
    "- **list comprehensions** are used to create lists (iterables) while **map** calls returns an iterator after performing a function on another iterable.\n",
    "- we can mimic map using functions and list comprehension to return a list\n",
    "- since map returns an iterator, it is more memory efficient than list comprehension which returns the entire collection."
   ]
  }
 ],
 "metadata": {
  "kernelspec": {
   "display_name": "py11env",
   "language": "python",
   "name": "python3"
  },
  "language_info": {
   "codemirror_mode": {
    "name": "ipython",
    "version": 3
   },
   "file_extension": ".py",
   "mimetype": "text/x-python",
   "name": "python",
   "nbconvert_exporter": "python",
   "pygments_lexer": "ipython3",
   "version": "3.11.0"
  },
  "orig_nbformat": 4
 },
 "nbformat": 4,
 "nbformat_minor": 2
}
