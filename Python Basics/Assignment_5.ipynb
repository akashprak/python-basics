{
 "cells": [
  {
   "cell_type": "markdown",
   "metadata": {},
   "source": [
    "#### 1. What does an empty dictionary's code look like?  \n",
    "**Ans**: {} or curly brackets."
   ]
  },
  {
   "cell_type": "markdown",
   "metadata": {},
   "source": [
    "#### 2. What is the value of a dictionary value with the key 'foo' and the value 42?  \n",
    "**Ans**: {'foo' : 42}"
   ]
  },
  {
   "cell_type": "markdown",
   "metadata": {},
   "source": [
    "#### 3. What is the most significant distinction between a dictionary and a list?  \n",
    "**Ans**: The dictionary is unordered and the elements of a dictionary is accessed by their respective keys, while list is an ordered collection with its elements accessed by their indices."
   ]
  },
  {
   "cell_type": "markdown",
   "metadata": {},
   "source": [
    "#### 4. What happens if you try to access spam['foo'] if spam is {'bar':100}?\n",
    "**Ans**: It results in a KeyError."
   ]
  },
  {
   "cell_type": "markdown",
   "metadata": {},
   "source": [
    "#### 5. If a dictionary is stored in spam, what is the difference between the expressions 'cat' in spam and 'cat' in spam.keys()?  \n",
    "**Ans**:  Both checks if a key 'cat' is present in the dictionary or not."
   ]
  },
  {
   "cell_type": "markdown",
   "metadata": {},
   "source": [
    "#### 6. If a dictionary is stored in spam, what is the difference between the expressions 'cat' in spam and 'cat' in spam.values()?  \n",
    "**Ans**: \n",
    "- 'cat' in spam checks if the key 'cat' is present in the dictionary spam or not.\n",
    "- 'cat' in spam.values() checks if 'cat' is present as a value in spam."
   ]
  },
  {
   "cell_type": "markdown",
   "metadata": {},
   "source": [
    "#### 7. What is a shortcut for the following code?  \n",
    "        if 'color' not in spam:  \n",
    "            spam['color']='black'  \n",
    "  \n",
    "**Ans**: spam.setdefault('color' : 'black')"
   ]
  },
  {
   "cell_type": "markdown",
   "metadata": {},
   "source": [
    "#### 8. How do you \"pretty print\" dictionary values using which module and which function?  \n",
    "**Ans**: \n",
    "- The pprint() function in pprint module can be used.\n",
    "- The dump function from yaml module is a fine tuned alternative."
   ]
  },
  {
   "cell_type": "code",
   "execution_count": 11,
   "metadata": {},
   "outputs": [
    {
     "name": "stdout",
     "output_type": "stream",
     "text": [
      "pretty print using pprint :\n",
      "\n",
      "{1: 'One',\n",
      " 2: 'Two',\n",
      " 3: 'Three',\n",
      " 'Colors': ['Blue', 'Red'],\n",
      " 'capitals': {'France': 'Paris', 'India': 'New Delhi'}}\n",
      "\n",
      "\n",
      "\n",
      "pretty print using dump :\n",
      "\n",
      "1: One\n",
      "2: Two\n",
      "3: Three\n",
      "Colors:\n",
      "- Blue\n",
      "- Red\n",
      "capitals:\n",
      "  France: Paris\n",
      "  India: New Delhi\n",
      "\n"
     ]
    }
   ],
   "source": [
    "from pprint import pprint\n",
    "from yaml import dump\n",
    "dict1={1:\"One\", 2: \"Two\", 3:\"Three\",\"Colors\":[\"Blue\", \"Red\"],'capitals':{\"India\":\"New Delhi\",\"France\":\"Paris\"}}\n",
    "print('pretty print using pprint :',end='\\n\\n')\n",
    "pprint(dict1)\n",
    "print('\\n\\n')\n",
    "print('pretty print using dump :',end='\\n\\n')\n",
    "print(dump(dict1))\n"
   ]
  }
 ],
 "metadata": {
  "kernelspec": {
   "display_name": "Python 3.9.12 ('base')",
   "language": "python",
   "name": "python3"
  },
  "language_info": {
   "codemirror_mode": {
    "name": "ipython",
    "version": 3
   },
   "file_extension": ".py",
   "mimetype": "text/x-python",
   "name": "python",
   "nbconvert_exporter": "python",
   "pygments_lexer": "ipython3",
   "version": "3.9.12"
  },
  "orig_nbformat": 4,
  "vscode": {
   "interpreter": {
    "hash": "20a9e06a1eee47c4abbed4ec8225ad91d78d9800d202b71b6b0a6e47016c6abd"
   }
  }
 },
 "nbformat": 4,
 "nbformat_minor": 2
}
