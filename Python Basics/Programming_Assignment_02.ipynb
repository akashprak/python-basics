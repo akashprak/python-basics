{
 "cells": [
  {
   "attachments": {},
   "cell_type": "markdown",
   "metadata": {},
   "source": [
    "#### 1. Write a Python program to convert kilometers to miles?"
   ]
  },
  {
   "cell_type": "code",
   "execution_count": 1,
   "metadata": {},
   "outputs": [
    {
     "name": "stdout",
     "output_type": "stream",
     "text": [
      "65.0 kilometers is equal to 40.365 miles\n"
     ]
    }
   ],
   "source": [
    "def Km_to_mile(kms :float) -> float:\n",
    "    '''converts kilometers into miles'''\n",
    "    \n",
    "    return 0.621*kms\n",
    "\n",
    "while True:\n",
    "    km=float(input('Enter kilometers :'))\n",
    "    \n",
    "    if km<0:\n",
    "        print('Enter positive value')\n",
    "\n",
    "    else:\n",
    "        print(f'{km} kilometers is equal to {Km_to_mile(km)} miles')\n",
    "        break"
   ]
  },
  {
   "attachments": {},
   "cell_type": "markdown",
   "metadata": {},
   "source": [
    "#### 2. Write a Python program to convert Celsius to Fahrenheit?"
   ]
  },
  {
   "cell_type": "code",
   "execution_count": 3,
   "metadata": {},
   "outputs": [
    {
     "name": "stdout",
     "output_type": "stream",
     "text": [
      "45.0 degree Celsius is 113.0 degree Fahrenheit\n"
     ]
    }
   ],
   "source": [
    "def C_to_F(celsius:float):\n",
    "    '''converts celsius into fahrenheit'''\n",
    "\n",
    "    fahrenheit=celsius*(9/5)+32\n",
    "    return fahrenheit\n",
    "\n",
    "while True:\n",
    "    celsius = float(input('Enter degrees in Celsius :'))\n",
    "\n",
    "    if celsius<-273.15:\n",
    "        print('Temperature in Celsius should be greater than -273.15 degrees')\n",
    "\n",
    "    else:\n",
    "        print(f'{celsius} degree Celsius is {C_to_F(celsius)} degree Fahrenheit')\n",
    "        break"
   ]
  },
  {
   "attachments": {},
   "cell_type": "markdown",
   "metadata": {},
   "source": [
    "#### 3. Write a Python program to display calendar?"
   ]
  },
  {
   "cell_type": "code",
   "execution_count": 2,
   "metadata": {},
   "outputs": [
    {
     "name": "stdout",
     "output_type": "stream",
     "text": [
      "                                  2023\n",
      "\n",
      "      January                   February                   March\n",
      "Mo Tu We Th Fr Sa Su      Mo Tu We Th Fr Sa Su      Mo Tu We Th Fr Sa Su\n",
      "                   1             1  2  3  4  5             1  2  3  4  5\n",
      " 2  3  4  5  6  7  8       6  7  8  9 10 11 12       6  7  8  9 10 11 12\n",
      " 9 10 11 12 13 14 15      13 14 15 16 17 18 19      13 14 15 16 17 18 19\n",
      "16 17 18 19 20 21 22      20 21 22 23 24 25 26      20 21 22 23 24 25 26\n",
      "23 24 25 26 27 28 29      27 28                     27 28 29 30 31\n",
      "30 31\n",
      "\n",
      "       April                      May                       June\n",
      "Mo Tu We Th Fr Sa Su      Mo Tu We Th Fr Sa Su      Mo Tu We Th Fr Sa Su\n",
      "                1  2       1  2  3  4  5  6  7                1  2  3  4\n",
      " 3  4  5  6  7  8  9       8  9 10 11 12 13 14       5  6  7  8  9 10 11\n",
      "10 11 12 13 14 15 16      15 16 17 18 19 20 21      12 13 14 15 16 17 18\n",
      "17 18 19 20 21 22 23      22 23 24 25 26 27 28      19 20 21 22 23 24 25\n",
      "24 25 26 27 28 29 30      29 30 31                  26 27 28 29 30\n",
      "\n",
      "        July                     August                  September\n",
      "Mo Tu We Th Fr Sa Su      Mo Tu We Th Fr Sa Su      Mo Tu We Th Fr Sa Su\n",
      "                1  2          1  2  3  4  5  6                   1  2  3\n",
      " 3  4  5  6  7  8  9       7  8  9 10 11 12 13       4  5  6  7  8  9 10\n",
      "10 11 12 13 14 15 16      14 15 16 17 18 19 20      11 12 13 14 15 16 17\n",
      "17 18 19 20 21 22 23      21 22 23 24 25 26 27      18 19 20 21 22 23 24\n",
      "24 25 26 27 28 29 30      28 29 30 31               25 26 27 28 29 30\n",
      "31\n",
      "\n",
      "      October                   November                  December\n",
      "Mo Tu We Th Fr Sa Su      Mo Tu We Th Fr Sa Su      Mo Tu We Th Fr Sa Su\n",
      "                   1             1  2  3  4  5                   1  2  3\n",
      " 2  3  4  5  6  7  8       6  7  8  9 10 11 12       4  5  6  7  8  9 10\n",
      " 9 10 11 12 13 14 15      13 14 15 16 17 18 19      11 12 13 14 15 16 17\n",
      "16 17 18 19 20 21 22      20 21 22 23 24 25 26      18 19 20 21 22 23 24\n",
      "23 24 25 26 27 28 29      27 28 29 30               25 26 27 28 29 30 31\n",
      "30 31\n",
      "\n"
     ]
    }
   ],
   "source": [
    "import calendar\n",
    "\n",
    "def display_calendar(year:int):\n",
    "    '''This function prints the calendar for the year given as parameter'''\n",
    "    print(calendar.calendar(year))\n",
    "\n",
    "display_calendar(2023)"
   ]
  },
  {
   "attachments": {},
   "cell_type": "markdown",
   "metadata": {},
   "source": [
    "#### 4. Write a Python program to solve quadratic equation?"
   ]
  },
  {
   "cell_type": "code",
   "execution_count": 23,
   "metadata": {},
   "outputs": [],
   "source": [
    "from math import sqrt\n",
    "from cmath import sqrt as csqrt\n",
    "\n",
    "def Quadratic_roots(a :float, b :float, c :float):\n",
    "    '''prints roots of a quadratic equation'''\n",
    "\n",
    "    if a==0:\n",
    "        print('a must be a non zero number')\n",
    "\n",
    "    else:\n",
    "        discriminant=(b*b)-(4*a*c)\n",
    "\n",
    "        if discriminant>0:\n",
    "            print('The roots are real and different')\n",
    "            root1 = (-b+sqrt(discriminant))/(2*a)\n",
    "            root2 = (-b-sqrt(discriminant))/(2*a)\n",
    "\n",
    "            print(f'The roots are {root1} and {root2}')\n",
    "\n",
    "        elif discriminant==0:\n",
    "            print('The roots are real and equal')\n",
    "            root=-b/(2*a)\n",
    "            print(f'The root is {root}')\n",
    "\n",
    "        else:\n",
    "            print('The roots are complex and imaginary')\n",
    "            root1 = (-b+csqrt(discriminant))/(2*a)\n",
    "            root2 = (-b-csqrt(discriminant))/(2*a)\n",
    "\n",
    "            print(f'The roots are {root1} and {root2}')\n",
    "            "
   ]
  },
  {
   "cell_type": "code",
   "execution_count": 28,
   "metadata": {},
   "outputs": [
    {
     "name": "stdout",
     "output_type": "stream",
     "text": [
      "The roots are complex and imaginary\n",
      "The roots are (-1+1j) and (-1-1j)\n"
     ]
    }
   ],
   "source": [
    "Quadratic_roots(1,2,2)"
   ]
  },
  {
   "attachments": {},
   "cell_type": "markdown",
   "metadata": {},
   "source": [
    "#### 5. Write a Python program to swap two variables without temp variable?"
   ]
  },
  {
   "cell_type": "code",
   "execution_count": 2,
   "metadata": {},
   "outputs": [
    {
     "name": "stdout",
     "output_type": "stream",
     "text": [
      "Before swap:\n",
      "a=ash and b=100\n",
      "\n",
      "After swap:\n",
      "a=100 and b=ash\n"
     ]
    }
   ],
   "source": [
    "a='ash'\n",
    "b=100\n",
    "\n",
    "print('Before swap:')\n",
    "print(f'a={a} and b={b}\\n')\n",
    "\n",
    "a,b=b,a\n",
    "\n",
    "print('After swap:')\n",
    "print(f'a={a} and b={b}')"
   ]
  }
 ],
 "metadata": {
  "kernelspec": {
   "display_name": "base",
   "language": "python",
   "name": "python3"
  },
  "language_info": {
   "codemirror_mode": {
    "name": "ipython",
    "version": 3
   },
   "file_extension": ".py",
   "mimetype": "text/x-python",
   "name": "python",
   "nbconvert_exporter": "python",
   "pygments_lexer": "ipython3",
   "version": "3.9.12 (main, Apr  4 2022, 05:22:27) [MSC v.1916 64 bit (AMD64)]"
  },
  "orig_nbformat": 4,
  "vscode": {
   "interpreter": {
    "hash": "20a9e06a1eee47c4abbed4ec8225ad91d78d9800d202b71b6b0a6e47016c6abd"
   }
  }
 },
 "nbformat": 4,
 "nbformat_minor": 2
}
