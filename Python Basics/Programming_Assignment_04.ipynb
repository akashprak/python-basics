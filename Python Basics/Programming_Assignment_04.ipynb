{
 "cells": [
  {
   "attachments": {},
   "cell_type": "markdown",
   "metadata": {},
   "source": [
    "#### 1. Write a python program to find the Factorial of a number?"
   ]
  },
  {
   "cell_type": "code",
   "execution_count": 1,
   "metadata": {},
   "outputs": [
    {
     "name": "stdout",
     "output_type": "stream",
     "text": [
      "factorial of 5 is 120\n"
     ]
    }
   ],
   "source": [
    "def factorial(n :int) ->int:\n",
    "    '''returns the factorial of the entered number'''\n",
    "\n",
    "    if n==0:\n",
    "        return 1\n",
    "\n",
    "    elif n>0:\n",
    "        return n*factorial(n-1)\n",
    "\n",
    "    else:\n",
    "        return 'Enter Non Negative value'\n",
    "\n",
    "print(f'factorial of 5 is {factorial(5)}')"
   ]
  },
  {
   "attachments": {},
   "cell_type": "markdown",
   "metadata": {},
   "source": [
    "#### 2. Write a python program to display multiplication table?"
   ]
  },
  {
   "cell_type": "code",
   "execution_count": 2,
   "metadata": {},
   "outputs": [
    {
     "name": "stdout",
     "output_type": "stream",
     "text": [
      "Multiplication table for 7:\n",
      "\n",
      "7 x 1 = 7\n",
      "7 x 2 = 14\n",
      "7 x 3 = 21\n",
      "7 x 4 = 28\n",
      "7 x 5 = 35\n",
      "7 x 6 = 42\n",
      "7 x 7 = 49\n",
      "7 x 8 = 56\n",
      "7 x 9 = 63\n",
      "7 x 10 = 70\n"
     ]
    }
   ],
   "source": [
    "def multiplication_table(num):\n",
    "    \"\"\"prints the multiplication table of given number\"\"\"\n",
    "\n",
    "    print(f'Multiplication table for {num}:\\n')\n",
    "    for i in range(1,11):\n",
    "        print(f'{num} x {i} = {i*num}')\n",
    "\n",
    "multiplication_table(7)"
   ]
  },
  {
   "attachments": {},
   "cell_type": "markdown",
   "metadata": {},
   "source": [
    "#### 3. Write a python program to print Fibonacci sequence?"
   ]
  },
  {
   "cell_type": "code",
   "execution_count": 3,
   "metadata": {},
   "outputs": [
    {
     "name": "stdout",
     "output_type": "stream",
     "text": [
      "First 10 numbers of Fibonacci sequence:\n",
      "0  1  1  2  3  5  8  13  21  34  "
     ]
    }
   ],
   "source": [
    "def fibonacci(num :int):\n",
    "    '''prints Fibonacci series to the given number'''\n",
    "\n",
    "    n1=0\n",
    "    n2=1\n",
    "\n",
    "    if num<=0:\n",
    "        print('Enter positive value')\n",
    "\n",
    "    else:\n",
    "        print(f'First {num} numbers of Fibonacci sequence:')\n",
    "        for i in range(num):\n",
    "            print(n1  , end='  ')\n",
    "            n1,n2=n2,n1+n2\n",
    "\n",
    "fibonacci(10)"
   ]
  },
  {
   "attachments": {},
   "cell_type": "markdown",
   "metadata": {},
   "source": [
    "#### 4. Write a python program to check Armstrong number?"
   ]
  },
  {
   "cell_type": "code",
   "execution_count": 4,
   "metadata": {},
   "outputs": [
    {
     "name": "stdout",
     "output_type": "stream",
     "text": [
      "153 is an Armstrong number\n"
     ]
    }
   ],
   "source": [
    "def is_armstrong(num):\n",
    "    '''checks if a number is Armstrong or not'''\n",
    "\n",
    "    if num<0:\n",
    "        return 'Enter Non Negative values'\n",
    "\n",
    "    else:\n",
    "        digits = map(int,str(num))\n",
    "\n",
    "        sum_of_cubes=sum(map(lambda x:x**3, digits))\n",
    "\n",
    "        if num == sum_of_cubes:\n",
    "            print(f\"{num} is an Armstrong number\")\n",
    "\n",
    "        else:\n",
    "            print(f'{num} is not an Armstrong number')\n",
    "\n",
    "is_armstrong(153)"
   ]
  },
  {
   "attachments": {},
   "cell_type": "markdown",
   "metadata": {},
   "source": [
    "#### 5. Write a program to find Armstrong number in an interval?"
   ]
  },
  {
   "cell_type": "code",
   "execution_count": 5,
   "metadata": {},
   "outputs": [],
   "source": [
    "def armstrong(num):\n",
    "    '''retutns number if the number is Armstrong'''\n",
    "    digits = map(int,str(num))\n",
    "    sum_=sum(map(lambda x:x**3 , digits))\n",
    "\n",
    "    if num==sum_:\n",
    "        return num\n",
    "\n",
    "\n",
    "def armstrong_numbers(n1,n2):\n",
    "    '''prints Armstrong numbers in the entered interval'''\n",
    "    \n",
    "    if n1<0 or n2<0:\n",
    "        print('values must be Non negative')\n",
    "\n",
    "    elif n2 <= n1:\n",
    "        print('Enter valid interval')\n",
    "\n",
    "    else:\n",
    "        l=list()\n",
    "        for i in range(n1,n2+1):\n",
    "            if armstrong(i):\n",
    "                l.append(i)\n",
    "\n",
    "        if l:\n",
    "            print(f'The Armstrong numbers between {n1} and {n2} are : {l}')\n",
    "        else:\n",
    "            print(f'There are no Armstrong numbers between {n1} and {n2}')\n"
   ]
  },
  {
   "cell_type": "code",
   "execution_count": 6,
   "metadata": {},
   "outputs": [
    {
     "name": "stdout",
     "output_type": "stream",
     "text": [
      "The Armstrong numbers between 1 and 1000 are : [1, 153, 370, 371, 407]\n"
     ]
    }
   ],
   "source": [
    "armstrong_numbers(1,1000)"
   ]
  },
  {
   "attachments": {},
   "cell_type": "markdown",
   "metadata": {},
   "source": [
    "#### 6. Write a python program to find the sum of Natural numbers?"
   ]
  },
  {
   "cell_type": "code",
   "execution_count": 7,
   "metadata": {},
   "outputs": [
    {
     "name": "stdout",
     "output_type": "stream",
     "text": [
      "The sum of first 15 natural numbers is 120.0\n"
     ]
    }
   ],
   "source": [
    "def sum_of_N(num):\n",
    "    '''prints the sum of natural numbers upto the given number'''\n",
    "\n",
    "    if num<0:\n",
    "        print('Enter Non negative value')\n",
    "\n",
    "    else:\n",
    "        s=num*(num+1)/2\n",
    "        print(f'The sum of first {num} natural numbers is {s}')\n",
    "\n",
    "sum_of_N(15)"
   ]
  }
 ],
 "metadata": {
  "kernelspec": {
   "display_name": "base",
   "language": "python",
   "name": "python3"
  },
  "language_info": {
   "codemirror_mode": {
    "name": "ipython",
    "version": 3
   },
   "file_extension": ".py",
   "mimetype": "text/x-python",
   "name": "python",
   "nbconvert_exporter": "python",
   "pygments_lexer": "ipython3",
   "version": "3.9.12 (main, Apr  4 2022, 05:22:27) [MSC v.1916 64 bit (AMD64)]"
  },
  "orig_nbformat": 4,
  "vscode": {
   "interpreter": {
    "hash": "20a9e06a1eee47c4abbed4ec8225ad91d78d9800d202b71b6b0a6e47016c6abd"
   }
  }
 },
 "nbformat": 4,
 "nbformat_minor": 2
}
