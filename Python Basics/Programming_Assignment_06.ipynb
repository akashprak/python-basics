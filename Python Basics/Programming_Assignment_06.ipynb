{
 "cells": [
  {
   "attachments": {},
   "cell_type": "markdown",
   "metadata": {},
   "source": [
    "#### 1. Write a Python program to display Fibonacci sequence using Recursion?"
   ]
  },
  {
   "cell_type": "code",
   "execution_count": 2,
   "metadata": {},
   "outputs": [
    {
     "data": {
      "text/plain": [
       "'Fibonacci sequence for 15 elements : [0, 1, 1, 2, 3, 5, 8, 13, 21, 34, 55, 89, 144, 233, 377]'"
      ]
     },
     "execution_count": 2,
     "metadata": {},
     "output_type": "execute_result"
    }
   ],
   "source": [
    "def fibonacci(num :int):\n",
    "    '''returns the fibonacci sequence upto the entered number'''\n",
    "\n",
    "    def fibo(n):\n",
    "\n",
    "        if n<=0:\n",
    "            return 'Invalid input'\n",
    "\n",
    "        elif n==1:\n",
    "            return 0\n",
    "\n",
    "        elif n==2:\n",
    "            return 1\n",
    "\n",
    "        else:\n",
    "            f=fibo(n-2)+fibo(n-1)\n",
    "            return f\n",
    "\n",
    "    l=list()\n",
    "    for i in range(num):\n",
    "        l.append(fibo(i+1))\n",
    "\n",
    "    return f'Fibonacci sequence for {num} elements : {l}'\n",
    "\n",
    "fibonacci(15)"
   ]
  },
  {
   "attachments": {},
   "cell_type": "markdown",
   "metadata": {},
   "source": [
    "#### 2. Write a Python program to find Factorial of a number using Recursion?"
   ]
  },
  {
   "cell_type": "code",
   "execution_count": 3,
   "metadata": {},
   "outputs": [
    {
     "name": "stdout",
     "output_type": "stream",
     "text": [
      "factorial of 10 = 3628800\n"
     ]
    }
   ],
   "source": [
    "def factorial(n :int) ->int:\n",
    "    '''returns the factorial of the entered number'''\n",
    "\n",
    "    if n==0:\n",
    "        return 1\n",
    "\n",
    "    elif n>0:\n",
    "        return n*factorial(n-1)\n",
    "\n",
    "    else:\n",
    "        return 'Invalid'\n",
    "\n",
    "print(f'factorial of 10 = {factorial(10)}')"
   ]
  },
  {
   "attachments": {},
   "cell_type": "markdown",
   "metadata": {},
   "source": [
    "#### 3. Write a Python program to calculate your Body Mass Index?"
   ]
  },
  {
   "cell_type": "code",
   "execution_count": 4,
   "metadata": {},
   "outputs": [
    {
     "name": "stdout",
     "output_type": "stream",
     "text": [
      "BMI = 21.97 and BMI category = Normal Weight \n"
     ]
    }
   ],
   "source": [
    "def BMI(w,h):\n",
    "    '''returns the current BMI'''\n",
    "\n",
    "    bmi=w/(h**2)\n",
    "    if bmi<18.5:\n",
    "        return f'BMI = {round(bmi,2)} and BMI category = Underweight '\n",
    "\n",
    "    elif 18.5<= bmi < 25:\n",
    "        return f'BMI = {round(bmi,2)} and BMI category = Normal Weight '\n",
    "\n",
    "    elif 25<= bmi <30:\n",
    "        return f'BMI = {round(bmi,2)} and BMI category = Overweight '\n",
    "\n",
    "    elif bmi>=30:\n",
    "        return f'BMI = {round(bmi,2)} and BMI category = Obese '\n",
    "\n",
    "weight = float(input('Enter Weight in Kg'))\n",
    "height = float(input('Enter Height in Metre'))\n",
    "print(BMI(weight,height))"
   ]
  },
  {
   "attachments": {},
   "cell_type": "markdown",
   "metadata": {},
   "source": [
    "#### 4. Write a Python program to calculate the natural logarithm of any number?"
   ]
  },
  {
   "cell_type": "code",
   "execution_count": 5,
   "metadata": {},
   "outputs": [
    {
     "name": "stdout",
     "output_type": "stream",
     "text": [
      "Natural log of 25 = 3.2188758248682006\n"
     ]
    }
   ],
   "source": [
    "from math import log\n",
    "\n",
    "def N_log(num):\n",
    "    '''returns the Natural log of the input value'''\n",
    "\n",
    "    if num<=0:\n",
    "        return 'Not Defined'\n",
    "\n",
    "    else:\n",
    "        return f'Natural log of {num} = {log(num)}'\n",
    "\n",
    "print(N_log(25))"
   ]
  },
  {
   "attachments": {},
   "cell_type": "markdown",
   "metadata": {},
   "source": [
    "#### 5. Write a Python program for cube sum of first n natural numbers?"
   ]
  },
  {
   "cell_type": "code",
   "execution_count": 6,
   "metadata": {},
   "outputs": [
    {
     "name": "stdout",
     "output_type": "stream",
     "text": [
      "sum of cubes of first 10 natural numbers is 3025\n"
     ]
    }
   ],
   "source": [
    "def cube_sum(n):\n",
    "    '''returns the sum of cubes of n'''\n",
    "\n",
    "    s=(n*(n+1)/2)**2\n",
    "    return int(s)\n",
    "\n",
    "while True:\n",
    "    n=int(input('Enter value for n:'))\n",
    "    if n<0:\n",
    "        print('Enter Non negative integer value')\n",
    "    \n",
    "    else:\n",
    "        print(f'sum of cubes of first {n} natural numbers is {cube_sum(n)}')\n",
    "        break"
   ]
  }
 ],
 "metadata": {
  "kernelspec": {
   "display_name": "base",
   "language": "python",
   "name": "python3"
  },
  "language_info": {
   "codemirror_mode": {
    "name": "ipython",
    "version": 3
   },
   "file_extension": ".py",
   "mimetype": "text/x-python",
   "name": "python",
   "nbconvert_exporter": "python",
   "pygments_lexer": "ipython3",
   "version": "3.9.12"
  },
  "orig_nbformat": 4,
  "vscode": {
   "interpreter": {
    "hash": "20a9e06a1eee47c4abbed4ec8225ad91d78d9800d202b71b6b0a6e47016c6abd"
   }
  }
 },
 "nbformat": 4,
 "nbformat_minor": 2
}
