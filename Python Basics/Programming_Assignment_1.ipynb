{
 "cells": [
  {
   "attachments": {},
   "cell_type": "markdown",
   "metadata": {},
   "source": [
    "#### 1. Write a Python program to print \"Hello Python\"? "
   ]
  },
  {
   "cell_type": "code",
   "execution_count": 1,
   "metadata": {},
   "outputs": [
    {
     "name": "stdout",
     "output_type": "stream",
     "text": [
      "Hello Python\n"
     ]
    }
   ],
   "source": [
    "print(\"Hello Python\")"
   ]
  },
  {
   "attachments": {},
   "cell_type": "markdown",
   "metadata": {},
   "source": [
    "#### 2. Write a Python program to do arithmetical operations addition and division?"
   ]
  },
  {
   "cell_type": "code",
   "execution_count": 13,
   "metadata": {},
   "outputs": [
    {
     "name": "stdout",
     "output_type": "stream",
     "text": [
      "15+3 = 18\n",
      "15/3 = 5.0\n"
     ]
    }
   ],
   "source": [
    "def Add(x,y):\n",
    "    if isinstance(x,(int,float)) and isinstance(y,(int,float)):\n",
    "        return x+y\n",
    "\n",
    "def Divide(x,y):\n",
    "    if isinstance(x,(int,float)) and isinstance(y,(int,float)):\n",
    "        if y==0:\n",
    "            return 'Not Defined'\n",
    "        else :\n",
    "            return x/y\n",
    "\n",
    "\n",
    "a,b=15,3\n",
    "print(f'{a}+{b} = {Add(a,b)}')\n",
    "print(f'{a}/{b} = {Divide(a,b)}')"
   ]
  },
  {
   "attachments": {},
   "cell_type": "markdown",
   "metadata": {},
   "source": [
    "#### 3. Write a Python program to find the area of a triangle?"
   ]
  },
  {
   "cell_type": "code",
   "execution_count": 14,
   "metadata": {},
   "outputs": [
    {
     "name": "stdout",
     "output_type": "stream",
     "text": [
      "Area of Triangle is 25.0\n"
     ]
    }
   ],
   "source": [
    "def triangle_area(base,height):\n",
    "    if isinstance(base,(int,float)) and isinstance(height,(int,float)):\n",
    "        return 0.5*base*height\n",
    "\n",
    "\n",
    "base =5\n",
    "height=10\n",
    "print(f'Area of Triangle is {triangle_area(base,height)}')"
   ]
  },
  {
   "attachments": {},
   "cell_type": "markdown",
   "metadata": {},
   "source": [
    "#### 4. Write a Python program to swap two variables?"
   ]
  },
  {
   "cell_type": "code",
   "execution_count": 15,
   "metadata": {},
   "outputs": [
    {
     "name": "stdout",
     "output_type": "stream",
     "text": [
      "x after swap = 20\n",
      "y after swap = 10\n"
     ]
    }
   ],
   "source": [
    "x = 10\n",
    "y = 20\n",
    "\n",
    "x,y = y,x\n",
    "\n",
    "print(f'x after swap = {x}')\n",
    "print(f'y after swap = {y}')\n"
   ]
  },
  {
   "attachments": {},
   "cell_type": "markdown",
   "metadata": {},
   "source": [
    "#### 5. Write a  Python program to generate a random number?"
   ]
  },
  {
   "cell_type": "code",
   "execution_count": 104,
   "metadata": {},
   "outputs": [
    {
     "name": "stdout",
     "output_type": "stream",
     "text": [
      "Random number between 0 and 100 : 57\n"
     ]
    }
   ],
   "source": [
    "from random import randint\n",
    "\n",
    "r = randint(0,100)\n",
    "print(f'Random number between 0 and 100 : {r}') "
   ]
  }
 ],
 "metadata": {
  "kernelspec": {
   "display_name": "base",
   "language": "python",
   "name": "python3"
  },
  "language_info": {
   "codemirror_mode": {
    "name": "ipython",
    "version": 3
   },
   "file_extension": ".py",
   "mimetype": "text/x-python",
   "name": "python",
   "nbconvert_exporter": "python",
   "pygments_lexer": "ipython3",
   "version": "3.9.12 (main, Apr  4 2022, 05:22:27) [MSC v.1916 64 bit (AMD64)]"
  },
  "orig_nbformat": 4,
  "vscode": {
   "interpreter": {
    "hash": "20a9e06a1eee47c4abbed4ec8225ad91d78d9800d202b71b6b0a6e47016c6abd"
   }
  }
 },
 "nbformat": 4,
 "nbformat_minor": 2
}
