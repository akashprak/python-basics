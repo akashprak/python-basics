{
 "cells": [
  {
   "attachments": {},
   "cell_type": "markdown",
   "metadata": {},
   "source": [
    "#### 1. Write a Python program to find the sum of elements in list?"
   ]
  },
  {
   "cell_type": "code",
   "execution_count": 1,
   "metadata": {},
   "outputs": [
    {
     "data": {
      "text/plain": [
       "'sum of elements : 222.5'"
      ]
     },
     "execution_count": 1,
     "metadata": {},
     "output_type": "execute_result"
    }
   ],
   "source": [
    "def list_sum(l):\n",
    "    '''returns the sum of numeric list'''\n",
    "\n",
    "    try:\n",
    "        check = all( type(i) in (int,float,complex) for i in l )\n",
    "        if check:\n",
    "            return f'sum of elements : {sum(l)}'\n",
    "        else:\n",
    "            return 'input must be numeric list'\n",
    "    except TypeError:\n",
    "        return 'input must be a list'\n",
    "\n",
    "list_sum([1,2,10,121.5,88])"
   ]
  },
  {
   "attachments": {},
   "cell_type": "markdown",
   "metadata": {},
   "source": [
    "#### 2. Write a Python program to multiply numbers in the list?"
   ]
  },
  {
   "cell_type": "code",
   "execution_count": 2,
   "metadata": {},
   "outputs": [
    {
     "data": {
      "text/plain": [
       "840"
      ]
     },
     "execution_count": 2,
     "metadata": {},
     "output_type": "execute_result"
    }
   ],
   "source": [
    "from functools import reduce\n",
    "\n",
    "def list_mul(l):\n",
    "    '''returns the multiplied value of elements in the list'''\n",
    "\n",
    "    try:\n",
    "        check = all(type(i) in (int,float,complex) for i in l)\n",
    "        if check:\n",
    "            return reduce(lambda a,b : a*b , l,1)\n",
    "\n",
    "        else:\n",
    "            return 'input must be numeric list'\n",
    "\n",
    "    except TypeError:\n",
    "        return 'input must be a list'\n",
    "\n",
    "list_mul([4,5,6,7])"
   ]
  },
  {
   "attachments": {},
   "cell_type": "markdown",
   "metadata": {},
   "source": [
    "#### 3. Write a Python program to find smallest number in a list?"
   ]
  },
  {
   "cell_type": "code",
   "execution_count": 3,
   "metadata": {},
   "outputs": [
    {
     "data": {
      "text/plain": [
       "-9187"
      ]
     },
     "execution_count": 3,
     "metadata": {},
     "output_type": "execute_result"
    }
   ],
   "source": [
    "def list_min(l):\n",
    "    '''returns the smallest number in the list'''\n",
    "    try:\n",
    "        check = all(type(i) in (int,float,complex) for i in l)\n",
    "        if check:\n",
    "            return min(l)\n",
    "\n",
    "        else:\n",
    "            return 'input must be a numeric list'\n",
    "\n",
    "    except TypeError:\n",
    "        return 'input must be a list'\n",
    "\n",
    "list_min([100,199,171,1,-9187])"
   ]
  },
  {
   "attachments": {},
   "cell_type": "markdown",
   "metadata": {},
   "source": [
    "#### 4. Write a Python program to find largest number in a list?"
   ]
  },
  {
   "cell_type": "code",
   "execution_count": 4,
   "metadata": {},
   "outputs": [
    {
     "data": {
      "text/plain": [
       "18"
      ]
     },
     "execution_count": 4,
     "metadata": {},
     "output_type": "execute_result"
    }
   ],
   "source": [
    "def list_max(l):\n",
    "    '''returns the largest number in the list'''\n",
    "    try:\n",
    "        check = all(type(i) in (int,float,complex) for i in l)\n",
    "        if check:\n",
    "            return max(l)\n",
    "\n",
    "        else:\n",
    "            return 'input must be a numeric list'\n",
    "\n",
    "    except TypeError:\n",
    "        return 'input must be a list'\n",
    "\n",
    "list_max([18,13,3,4,-8])"
   ]
  },
  {
   "attachments": {},
   "cell_type": "markdown",
   "metadata": {},
   "source": [
    "#### 5. Write a Python program to find second largest number in a list?"
   ]
  },
  {
   "cell_type": "code",
   "execution_count": 5,
   "metadata": {},
   "outputs": [
    {
     "data": {
      "text/plain": [
       "9"
      ]
     },
     "execution_count": 5,
     "metadata": {},
     "output_type": "execute_result"
    }
   ],
   "source": [
    "def list_Sec_Lar(l):\n",
    "    '''returns the second largest number in the list'''\n",
    "    try:\n",
    "        check = all(type(i) in (int,float,complex) for i in l)\n",
    "        \n",
    "        if check:\n",
    "            M = max(l)\n",
    "            S = filter(lambda x:x!=M , l)\n",
    "            return max(S)\n",
    "\n",
    "        else:\n",
    "            return 'input must be a numeric list'\n",
    "\n",
    "    except TypeError:\n",
    "        return 'input must be a list'\n",
    "\n",
    "list_Sec_Lar([1,2,3,4,5,6,7,8,9,10])"
   ]
  },
  {
   "attachments": {},
   "cell_type": "markdown",
   "metadata": {},
   "source": [
    "#### 6. Write a Python program to find N largest elements from a list?"
   ]
  },
  {
   "cell_type": "code",
   "execution_count": 6,
   "metadata": {},
   "outputs": [
    {
     "name": "stdout",
     "output_type": "stream",
     "text": [
      "[34, 8, 7]\n"
     ]
    }
   ],
   "source": [
    "def list_N_largest(l :list , N:int = 1) -> list:\n",
    "    '''returns N number of largest elements in the list'''\n",
    "\n",
    "    try:\n",
    "        check = all(type(i) in (int,float,complex) for i in l)\n",
    "        int(N)\n",
    "\n",
    "        if check:\n",
    "            S=l\n",
    "            M = list()\n",
    "\n",
    "            for i in range(N):\n",
    "                M.append(max(S))\n",
    "                S = list(filter(lambda x:x!=max(S), S))\n",
    "\n",
    "            return M\n",
    "                            \n",
    "\n",
    "        else:\n",
    "            return 'input must be a numeric list'\n",
    "\n",
    "    except (TypeError,ValueError):\n",
    "        return '''argument 1 must be a list\n",
    "argument 2 must be a positive integer less than or equal to length of list'''\n",
    "\n",
    "print(list_N_largest([1,2,34,5,6,7,7,8],3))"
   ]
  },
  {
   "attachments": {},
   "cell_type": "markdown",
   "metadata": {},
   "source": [
    "#### 7. Write a Python program to print even numbers in a list?"
   ]
  },
  {
   "cell_type": "code",
   "execution_count": 7,
   "metadata": {},
   "outputs": [
    {
     "data": {
      "text/plain": [
       "[2, 4, 6]"
      ]
     },
     "execution_count": 7,
     "metadata": {},
     "output_type": "execute_result"
    }
   ],
   "source": [
    "def list_even(l :list) ->list:\n",
    "    '''prints even numbers in a list'''\n",
    "    try:\n",
    "        Ints = [ i for i in l if type(i) in (int,float,complex) ]\n",
    "        even = [i for i in Ints if i%2==0]\n",
    "        return even\n",
    "\n",
    "    except TypeError:\n",
    "        return 'input must be a list'\n",
    "\n",
    "list_even([1,2,3,4,5,6])"
   ]
  },
  {
   "attachments": {},
   "cell_type": "markdown",
   "metadata": {},
   "source": [
    "#### 8. Write a Python program to print odd numbers in a list?"
   ]
  },
  {
   "cell_type": "code",
   "execution_count": 8,
   "metadata": {},
   "outputs": [
    {
     "data": {
      "text/plain": [
       "[3, 3, 5, 7]"
      ]
     },
     "execution_count": 8,
     "metadata": {},
     "output_type": "execute_result"
    }
   ],
   "source": [
    "def list_odd(l :list) ->list:\n",
    "    '''prints odd numbers in a list'''\n",
    "    try:\n",
    "        Ints = [ i for i in l if type(i) in (int,float,complex) ]\n",
    "        odd = [i for i in Ints if i%2==1]\n",
    "        return odd\n",
    "\n",
    "    except TypeError:\n",
    "        return 'input must be a list'\n",
    "\n",
    "list_odd([3,6.7,2,3,5,56,7,'a'])"
   ]
  },
  {
   "attachments": {},
   "cell_type": "markdown",
   "metadata": {},
   "source": [
    "#### 9. Write a Python program to remove empty list from list?"
   ]
  },
  {
   "cell_type": "code",
   "execution_count": 9,
   "metadata": {},
   "outputs": [
    {
     "data": {
      "text/plain": [
       "['a', 'b', 'c', 'd', 'e']"
      ]
     },
     "execution_count": 9,
     "metadata": {},
     "output_type": "execute_result"
    }
   ],
   "source": [
    "def remove_empty(l):\n",
    "    '''removes empty list from the list'''\n",
    "\n",
    "    try:\n",
    "        l = [i for i in l if i]\n",
    "        return l\n",
    "\n",
    "    except TypeError:\n",
    "        return 'input must be a list'\n",
    "\n",
    "l = ['a','b','c','d',[],[],'e']\n",
    "remove_empty(l)"
   ]
  },
  {
   "attachments": {},
   "cell_type": "markdown",
   "metadata": {},
   "source": [
    "#### 10. Write a Python program to cloning or copying a list?"
   ]
  },
  {
   "cell_type": "code",
   "execution_count": 10,
   "metadata": {},
   "outputs": [
    {
     "name": "stdout",
     "output_type": "stream",
     "text": [
      "[11, 55, 99] 2645082108224\n",
      "[11, 55, 99] 2645081946304\n"
     ]
    }
   ],
   "source": [
    "def list_copy(l):\n",
    "    '''returns a copied list'''\n",
    "\n",
    "    if isinstance(l,list):\n",
    "        return l.copy()\n",
    "    else:\n",
    "        return 'enter list as input'\n",
    "\n",
    "a=[11,55,99]\n",
    "b=list_copy(a)\n",
    "print(a,id(a))\n",
    "print(b,id(b))"
   ]
  },
  {
   "attachments": {},
   "cell_type": "markdown",
   "metadata": {},
   "source": [
    "#### 11. Write a Python program to count occurences of an element in a list?"
   ]
  },
  {
   "cell_type": "code",
   "execution_count": 11,
   "metadata": {},
   "outputs": [
    {
     "data": {
      "text/plain": [
       "4"
      ]
     },
     "execution_count": 11,
     "metadata": {},
     "output_type": "execute_result"
    }
   ],
   "source": [
    "def list_count(l :list , ele):\n",
    "    '''returns the number of occurences of the element'''\n",
    "    try:\n",
    "        count = 0\n",
    "        for i in l:\n",
    "            if i == ele:\n",
    "                count+=1\n",
    "        return count\n",
    "\n",
    "    except TypeError:\n",
    "        return 'input is not iterable'\n",
    "\n",
    "l = [1,2,3,4,1,1,'a','b',1,5.0057]\n",
    "list_count(l,1)"
   ]
  }
 ],
 "metadata": {
  "kernelspec": {
   "display_name": "base",
   "language": "python",
   "name": "python3"
  },
  "language_info": {
   "codemirror_mode": {
    "name": "ipython",
    "version": 3
   },
   "file_extension": ".py",
   "mimetype": "text/x-python",
   "name": "python",
   "nbconvert_exporter": "python",
   "pygments_lexer": "ipython3",
   "version": "3.9.12"
  },
  "orig_nbformat": 4,
  "vscode": {
   "interpreter": {
    "hash": "20a9e06a1eee47c4abbed4ec8225ad91d78d9800d202b71b6b0a6e47016c6abd"
   }
  }
 },
 "nbformat": 4,
 "nbformat_minor": 2
}
