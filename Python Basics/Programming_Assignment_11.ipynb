{
 "cells": [
  {
   "attachments": {},
   "cell_type": "markdown",
   "metadata": {},
   "source": [
    "#### 1. Write a Python program to find words which are greater than given length k?"
   ]
  },
  {
   "cell_type": "code",
   "execution_count": 1,
   "metadata": {},
   "outputs": [
    {
     "data": {
      "text/plain": [
       "['yourself', 'yourself', 'something', 'entirely.']"
      ]
     },
     "execution_count": 1,
     "metadata": {},
     "output_type": "execute_result"
    }
   ],
   "source": [
    "def find_words(s :str , k :int):\n",
    "    '''returns words which are greater in length than given integer'''\n",
    "    try:\n",
    "        l = [i for i in s.split() if len(i)>k]\n",
    "        return l\n",
    "    except (AttributeError,TypeError):\n",
    "        return 'enter string and integer value only'\n",
    "        \n",
    "\n",
    "find_words('''If you make yourself more than just a man, \n",
    "if you devote yourself to an ideal, and if they can’t stop you, \n",
    "then you become something else entirely.''',7)"
   ]
  },
  {
   "attachments": {},
   "cell_type": "markdown",
   "metadata": {},
   "source": [
    "#### 2. Write a Python program for removing i-th character from a string?"
   ]
  },
  {
   "cell_type": "code",
   "execution_count": 2,
   "metadata": {},
   "outputs": [
    {
     "data": {
      "text/plain": [
       "'bcdefgh'"
      ]
     },
     "execution_count": 2,
     "metadata": {},
     "output_type": "execute_result"
    }
   ],
   "source": [
    "def remove_i(s:str ,i:int):\n",
    "    try:\n",
    "        return s[:i-1]+s[i:]\n",
    "    except TypeError:\n",
    "        return 'enter string and integer as values'\n",
    "\n",
    "remove_i('abcdefgh',1)"
   ]
  },
  {
   "attachments": {},
   "cell_type": "markdown",
   "metadata": {},
   "source": [
    "#### 3. Write a Python program to split and join a string?"
   ]
  },
  {
   "cell_type": "code",
   "execution_count": 3,
   "metadata": {},
   "outputs": [
    {
     "name": "stdout",
     "output_type": "stream",
     "text": [
      "splitted string : ['why', 'do', 'we', 'fall?']\n",
      "joined string : whydowefall? \n"
     ]
    }
   ],
   "source": [
    "def split_join(s:str):\n",
    "    '''splits and joins the entered string'''\n",
    "    try:\n",
    "        print(f'splitted string : {s.split()}')\n",
    "        print(f\"joined string : {''.join(s.split())} \")\n",
    "\n",
    "    except AttributeError:\n",
    "        return 'enter string value'\n",
    "\n",
    "split_join('why do we fall?')"
   ]
  },
  {
   "attachments": {},
   "cell_type": "markdown",
   "metadata": {},
   "source": [
    "#### 4. Write a Python program to check if a string is binary string or not?"
   ]
  },
  {
   "cell_type": "code",
   "execution_count": 4,
   "metadata": {},
   "outputs": [
    {
     "name": "stdout",
     "output_type": "stream",
     "text": [
      "010011101010111 is a binary string\n"
     ]
    }
   ],
   "source": [
    "def isBinary(s:str):\n",
    "    '''returns if the string is a binary string or not'''\n",
    "\n",
    "    if isinstance(s,str):\n",
    "        b = ['0','1']\n",
    "\n",
    "        if all(i in b for i in s):\n",
    "            return f'{s} is a binary string'\n",
    "        else:\n",
    "            return f'{s} is not a binary string'\n",
    "\n",
    "    else:\n",
    "        return 'enter string as input'\n",
    "\n",
    "print(isBinary('010011101010111'))"
   ]
  },
  {
   "attachments": {},
   "cell_type": "markdown",
   "metadata": {},
   "source": [
    "#### 5. Write a Python program to find uncommon words from two strings?"
   ]
  },
  {
   "cell_type": "code",
   "execution_count": 5,
   "metadata": {},
   "outputs": [
    {
     "name": "stdout",
     "output_type": "stream",
     "text": [
      "{'before', 'stars', 'without', 'just', 'dawn.'}\n"
     ]
    }
   ],
   "source": [
    "def uncommon(s1 :str , s2 :str):\n",
    "    '''returns the list of uncommon words from the two strings'''\n",
    "    try:\n",
    "        s1 = set(s1.split())\n",
    "        s2 = set(s2.split())\n",
    "        return s1.symmetric_difference(s2)\n",
    "\n",
    "    except AttributeError:\n",
    "        return 'enter string values'\n",
    "\n",
    "print(uncommon('the night is darkest just before the dawn.',\n",
    "'the darkest night is without stars'))"
   ]
  },
  {
   "attachments": {},
   "cell_type": "markdown",
   "metadata": {},
   "source": [
    "#### 6. Write a Python program to find all duplicate characters in a string?"
   ]
  },
  {
   "cell_type": "code",
   "execution_count": 6,
   "metadata": {},
   "outputs": [
    {
     "data": {
      "text/plain": [
       "{'a', 'l', 'r'}"
      ]
     },
     "execution_count": 6,
     "metadata": {},
     "output_type": "execute_result"
    }
   ],
   "source": [
    "def duplicate(s:str):\n",
    "    '''returns the duplicate characters in the string'''\n",
    "\n",
    "    try:\n",
    "        s = {i for i in s if s.count(i)>1}\n",
    "        return s\n",
    "\n",
    "    except (AttributeError,TypeError):\n",
    "        return 'enter string as input'\n",
    "\n",
    "duplicate('Valar morghulis')"
   ]
  },
  {
   "attachments": {},
   "cell_type": "markdown",
   "metadata": {},
   "source": [
    "#### 7. Write a Python program to check if a string contains any special character?"
   ]
  },
  {
   "cell_type": "code",
   "execution_count": 7,
   "metadata": {},
   "outputs": [
    {
     "data": {
      "text/plain": [
       "['@', '+', '=']"
      ]
     },
     "execution_count": 7,
     "metadata": {},
     "output_type": "execute_result"
    }
   ],
   "source": [
    "def has_splchar(s:str):\n",
    "    '''returns the special characters in the string'''\n",
    "\n",
    "    ch = 'abcdefghijklmnopqrstuvwxyzABCDEFGHIJKLMNOPQRSTUVWXYZ1234567890'\n",
    "    sp = [i for i in s if i not in ch]\n",
    "    return sp\n",
    "\n",
    "has_splchar('ABCD@12+34=46')"
   ]
  }
 ],
 "metadata": {
  "kernelspec": {
   "display_name": "base",
   "language": "python",
   "name": "python3"
  },
  "language_info": {
   "codemirror_mode": {
    "name": "ipython",
    "version": 3
   },
   "file_extension": ".py",
   "mimetype": "text/x-python",
   "name": "python",
   "nbconvert_exporter": "python",
   "pygments_lexer": "ipython3",
   "version": "3.9.12"
  },
  "orig_nbformat": 4,
  "vscode": {
   "interpreter": {
    "hash": "20a9e06a1eee47c4abbed4ec8225ad91d78d9800d202b71b6b0a6e47016c6abd"
   }
  }
 },
 "nbformat": 4,
 "nbformat_minor": 2
}
