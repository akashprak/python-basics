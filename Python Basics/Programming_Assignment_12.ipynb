{
 "cells": [
  {
   "attachments": {},
   "cell_type": "markdown",
   "metadata": {},
   "source": [
    "#### 1. Write a Python program to extract unique Dictonary values? "
   ]
  },
  {
   "cell_type": "code",
   "execution_count": 1,
   "metadata": {},
   "outputs": [
    {
     "data": {
      "text/plain": [
       "['rust', 'c++']"
      ]
     },
     "execution_count": 1,
     "metadata": {},
     "output_type": "execute_result"
    }
   ],
   "source": [
    "def dict_unique(D:dict):\n",
    "    '''returns unique values from the dictonary'''\n",
    "\n",
    "    try:\n",
    "        v = list(D.values())\n",
    "        u = [i for i in v if v.count(i)==1]\n",
    "        return u\n",
    "\n",
    "    except AttributeError:\n",
    "        return 'enter only dictionary as parameter'\n",
    "\n",
    "D = {'key1':'python' , 'key2':'rust' , 'key3':'c++' , 'key4':'python'}\n",
    "dict_unique(D)"
   ]
  },
  {
   "attachments": {},
   "cell_type": "markdown",
   "metadata": {},
   "source": [
    "#### 2. Write a Python program to find the sum of all items in a dictionary?"
   ]
  },
  {
   "cell_type": "code",
   "execution_count": 2,
   "metadata": {},
   "outputs": [
    {
     "data": {
      "text/plain": [
       "1335"
      ]
     },
     "execution_count": 2,
     "metadata": {},
     "output_type": "execute_result"
    }
   ],
   "source": [
    "def dict_sum(D:dict):\n",
    "    '''returns the sum of numeric values in a dictionary'''\n",
    "\n",
    "    try:\n",
    "        val = D.values()\n",
    "        S = [i for i in val if isinstance(i,(int,float,complex))]\n",
    "        return sum(S)\n",
    "\n",
    "    except AttributeError:\n",
    "        return 'enter dictionary as parameter'\n",
    "\n",
    "d = {'key1':1000, 'key2':250,'key3':85}\n",
    "dict_sum(d)"
   ]
  },
  {
   "attachments": {},
   "cell_type": "markdown",
   "metadata": {},
   "source": [
    "#### 3. Write a Python program to merge two Dictionaries?"
   ]
  },
  {
   "cell_type": "code",
   "execution_count": 3,
   "metadata": {},
   "outputs": [
    {
     "name": "stdout",
     "output_type": "stream",
     "text": [
      "A =  {'a': 10, 'b': 100, 'c': 1000}\n",
      "B =  {'x': 'ten', 'y': 'hundred', 'z': 'thousand'}\n",
      "A and B merged : {'a': 10, 'b': 100, 'c': 1000, 'x': 'ten', 'y': 'hundred', 'z': 'thousand'}\n"
     ]
    }
   ],
   "source": [
    "def merge_dict(D1:dict , D2:dict):\n",
    "    '''returns the merged dictionary'''\n",
    "\n",
    "    try:\n",
    "        Mrg = D1\n",
    "        Mrg.update(D2)\n",
    "        return Mrg\n",
    "\n",
    "    except AttributeError:\n",
    "        return 'enter dictionary values'\n",
    "\n",
    "A = {'a':10 , 'b':100 , 'c':1000}\n",
    "B = {'x':'ten' , 'y':'hundred' , 'z':'thousand'}\n",
    "print('A = ',A)\n",
    "print('B = ',B)\n",
    "print('A and B merged :',merge_dict(A,B))"
   ]
  },
  {
   "attachments": {},
   "cell_type": "markdown",
   "metadata": {},
   "source": [
    "#### 4. Write a Python program to convert key-values list to flat dictionary?"
   ]
  },
  {
   "cell_type": "code",
   "execution_count": 4,
   "metadata": {},
   "outputs": [
    {
     "data": {
      "text/plain": [
       "{'a': 100, 'b': 200, 'c': 300}"
      ]
     },
     "execution_count": 4,
     "metadata": {},
     "output_type": "execute_result"
    }
   ],
   "source": [
    "def to_dict(L:list) -> dict:\n",
    "    try:\n",
    "        return dict(L)\n",
    "\n",
    "    except TypeError:\n",
    "        return 'value should be a list with key-value pairs of the dictionary'\n",
    "\n",
    "l = [('a',100),('b',200),('c',300)]\n",
    "to_dict(l)"
   ]
  },
  {
   "attachments": {},
   "cell_type": "markdown",
   "metadata": {},
   "source": [
    "#### 5. Write a Python program for insertion at the beginning in OrderedDict?"
   ]
  },
  {
   "cell_type": "code",
   "execution_count": 5,
   "metadata": {},
   "outputs": [
    {
     "data": {
      "text/plain": [
       "OrderedDict([('key0', 'Antartica'),\n",
       "             ('key1', 'Asia'),\n",
       "             ('key2', 'Europe'),\n",
       "             ('key3', 'Africa')])"
      ]
     },
     "execution_count": 5,
     "metadata": {},
     "output_type": "execute_result"
    }
   ],
   "source": [
    "from collections import OrderedDict\n",
    "\n",
    "def beginning_insert(ODict :OrderedDict , arg :OrderedDict):\n",
    "    '''inserts the second OrderedDict argument at the beginning of the first OrderedDict argument'''\n",
    "    ODict = OrderedDict( list(arg.items()) + list(ODict.items()) )\n",
    "    return ODict\n",
    "\n",
    "\n",
    "D = OrderedDict({'key1':'Asia','key2':'Europe','key3':'Africa'})\n",
    "F = {'key0':'Antartica'}\n",
    "beginning_insert(D,F)"
   ]
  },
  {
   "attachments": {},
   "cell_type": "markdown",
   "metadata": {},
   "source": [
    "#### 6. Write a Python program to check order of character in string using OrderedDict()?"
   ]
  },
  {
   "cell_type": "code",
   "execution_count": 6,
   "metadata": {},
   "outputs": [
    {
     "data": {
      "text/plain": [
       "'merry christmas follows the order ry'"
      ]
     },
     "execution_count": 6,
     "metadata": {},
     "output_type": "execute_result"
    }
   ],
   "source": [
    "from collections import OrderedDict\n",
    "\n",
    "def check_order(string :str , order :str):\n",
    "    '''returns the index of first occurence of character in the string'''\n",
    "\n",
    "    if len(order)<=1 or not isinstance(string,str):\n",
    "        return 'Enter valid input'\n",
    "\n",
    "    else:\n",
    "        oDict = OrderedDict(enumerate(string))\n",
    "        for k in range(len(order)-1):\n",
    "            first_occ = 0\n",
    "            last_occ = len(oDict)\n",
    "\n",
    "            for i,val1 in reversed(oDict.items()):\n",
    "                if order[k] == val1:\n",
    "                    last_occ = i\n",
    "            \n",
    "            for j,val2 in oDict.items():\n",
    "                if order[k+1] == val2:\n",
    "                    first_occ = j\n",
    "\n",
    "            if first_occ <= last_occ:\n",
    "                return 'The string does not follow the given order'\n",
    "\n",
    "        return f'{string} follows the order {order}'\n",
    "\n",
    "check_order('merry christmas','ry')                \n"
   ]
  },
  {
   "attachments": {},
   "cell_type": "markdown",
   "metadata": {},
   "source": [
    "#### 7. Write a Python program to sort Python Dictionaries by Key or Value?"
   ]
  },
  {
   "cell_type": "code",
   "execution_count": 7,
   "metadata": {},
   "outputs": [
    {
     "data": {
      "text/plain": [
       "{'j': 7, 'm': 10, 'b': 50, 'a': 100, 'x': 1550}"
      ]
     },
     "execution_count": 7,
     "metadata": {},
     "output_type": "execute_result"
    }
   ],
   "source": [
    "def dict_sort(Dictonary :dict , sort_key = 'key'):\n",
    "    '''sort the dictonary by key or value'''\n",
    "\n",
    "    if sort_key == 'key':\n",
    "        Dictonary = sorted(Dictonary.items())\n",
    "        return dict(Dictonary)\n",
    "\n",
    "    else:\n",
    "        Dictonary = sorted(Dictonary.items(),key=lambda x:x[1])\n",
    "        return dict(Dictonary)\n",
    "\n",
    "D = {'a':100,'b':50,'x':1550,'m':10,'j':7}\n",
    "dict_sort(D,'value')"
   ]
  }
 ],
 "metadata": {
  "kernelspec": {
   "display_name": "base",
   "language": "python",
   "name": "python3"
  },
  "language_info": {
   "codemirror_mode": {
    "name": "ipython",
    "version": 3
   },
   "file_extension": ".py",
   "mimetype": "text/x-python",
   "name": "python",
   "nbconvert_exporter": "python",
   "pygments_lexer": "ipython3",
   "version": "3.9.12"
  },
  "orig_nbformat": 4,
  "vscode": {
   "interpreter": {
    "hash": "20a9e06a1eee47c4abbed4ec8225ad91d78d9800d202b71b6b0a6e47016c6abd"
   }
  }
 },
 "nbformat": 4,
 "nbformat_minor": 2
}
