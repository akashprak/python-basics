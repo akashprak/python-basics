{
 "cells": [
  {
   "attachments": {},
   "cell_type": "markdown",
   "metadata": {},
   "source": [
    "#### 1. Write a program that calculates and prints the value according to the given formula:  \n",
    "**Q** = Square root of [**(2 * C * D)/H**]  \n",
    "\n",
    "Following are the fixed values of **C** and **H**:  \n",
    "C is 50. H is 30.  \n",
    "\n",
    "D is the variable whose values should be input to your program in a comma-separated sequence.\n",
    "  \n",
    "**Example**:  \n",
    "Let us assume the following comma separated input sequence is given to the program:  \n",
    "100,150,180\n",
    "\n",
    "The output of the program should be :\n",
    "18,22,24"
   ]
  },
  {
   "cell_type": "code",
   "execution_count": 1,
   "metadata": {},
   "outputs": [
    {
     "data": {
      "text/plain": [
       "[17, 25, 64, 5]"
      ]
     },
     "execution_count": 1,
     "metadata": {},
     "output_type": "execute_result"
    }
   ],
   "source": [
    "from math import sqrt\n",
    "\n",
    "def Q(*args :int) ->list:\n",
    "    '''takes comma separated input for the D value and \n",
    "    returns comma separated Q values'''\n",
    "\n",
    "    q = list()\n",
    "    try:\n",
    "        for i in args:\n",
    "            q.append(int(sqrt( (2*50*i)/30 )))\n",
    "\n",
    "        return q\n",
    "\n",
    "    except TypeError:\n",
    "        return 'values entered must be integers'\n",
    "\n",
    "Q(90,200,1250,10)"
   ]
  },
  {
   "attachments": {},
   "cell_type": "markdown",
   "metadata": {},
   "source": [
    "#### 2. Write a program which takes 2 digits, X and Y as input and generates a 2-dimensional array. The element value in the i-th row and j-th column of the array should be i*j.  \n",
    "\n",
    "Note: i = 0,1,.....,X-1; j = 0,1,.....,Y-1  \n",
    "\n",
    "**Example**:\n",
    "Suppose the following inputs are given to the program:  \n",
    "3,5  \n",
    "Then, the output of the program should be:  \n",
    "[[0,0,0,0,0] , [0,1,2,3,4] , [0,2,4,6,8]]"
   ]
  },
  {
   "cell_type": "code",
   "execution_count": 2,
   "metadata": {},
   "outputs": [
    {
     "data": {
      "text/plain": [
       "[[0, 0, 0, 0, 0], [0, 1, 2, 3, 4], [0, 2, 4, 6, 8], [0, 3, 6, 9, 12]]"
      ]
     },
     "execution_count": 2,
     "metadata": {},
     "output_type": "execute_result"
    }
   ],
   "source": [
    "def array2D(x :int ,y :int) ->list:\n",
    "    '''takes number of rows and columns as input and\n",
    "    returns returns array with elements as ixj'''\n",
    "\n",
    "    if type(x)==type(y)==int:\n",
    "        if x>0 and y>0:\n",
    "            arr =[]\n",
    "            for i in range(x):\n",
    "                arr.append([])\n",
    "\n",
    "                for j in range(y):\n",
    "                    arr[i].append(i*j)\n",
    "\n",
    "            return arr\n",
    "\n",
    "        else:\n",
    "            return 'enter positive values'\n",
    "\n",
    "    else:\n",
    "        return 'enter integer values'\n",
    "\n",
    "array2D(4,5)"
   ]
  },
  {
   "attachments": {},
   "cell_type": "markdown",
   "metadata": {},
   "source": [
    "#### 3. Write a program that accepts a comma separated sequence of words as input and prints the words in a comma-separated sequence after sorting them alphabetically.  \n",
    "\n",
    "Suppose the following input is supplied to the program:  \n",
    "**without,hello,bag,world**  \n",
    "Then, the output should be:  \n",
    "**bag,hello,without,world**"
   ]
  },
  {
   "cell_type": "code",
   "execution_count": 3,
   "metadata": {},
   "outputs": [
    {
     "data": {
      "text/plain": [
       "['apple', 'banana', 'mango', 'pear']"
      ]
     },
     "execution_count": 3,
     "metadata": {},
     "output_type": "execute_result"
    }
   ],
   "source": [
    "def string_sort(*args :str) ->list:\n",
    "    '''takes comma separated strings as arguments and\n",
    "    returns the alphabetically sorted sequence'''\n",
    "\n",
    "    try:\n",
    "        return sorted(args)\n",
    "\n",
    "    except TypeError:\n",
    "        return 'only enter strings as arguments'\n",
    "\n",
    "string_sort('apple','pear','mango','banana')"
   ]
  },
  {
   "attachments": {},
   "cell_type": "markdown",
   "metadata": {},
   "source": [
    "#### 4. Write a program that accepts a sequence of whitespace separated words as input and prints the words after removing all duplicate words and sorting them alphanumerically.  \n",
    "\n",
    "Suppose the following input is supplied to the program:  \n",
    "**hello world and practice makes perfect and hello again**  \n",
    "Then, the output should be:  \n",
    "**again and hello makes perfect practice world**"
   ]
  },
  {
   "cell_type": "code",
   "execution_count": 4,
   "metadata": {},
   "outputs": [
    {
     "data": {
      "text/plain": [
       "['hello', 'multiverse', 'universe', 'world']"
      ]
     },
     "execution_count": 4,
     "metadata": {},
     "output_type": "execute_result"
    }
   ],
   "source": [
    "def str_sort(string :str) -> str:\n",
    "    '''takes whitespace separated words as input and sorts them after removing duplicate'''\n",
    "\n",
    "    try:\n",
    "        S = set(string.split())\n",
    "        return sorted(S)\n",
    "\n",
    "    except AttributeError:\n",
    "        return 'the input must be a string'\n",
    "\n",
    "str_sort('hello world hello universe hello multiverse')"
   ]
  },
  {
   "attachments": {},
   "cell_type": "markdown",
   "metadata": {},
   "source": [
    "#### 5. Write a program that accepts a sentence and calculate the number of letters and digits.\n",
    "Supppose the following is supplied to the program:  \n",
    "**hello world 123**  \n",
    "Then, the output should be:  \n",
    "**LETTERS 10**  \n",
    "**DIGITS 3**"
   ]
  },
  {
   "cell_type": "code",
   "execution_count": 5,
   "metadata": {},
   "outputs": [
    {
     "name": "stdout",
     "output_type": "stream",
     "text": [
      "LETTERS : 15\n",
      "DIGITS  : 4\n"
     ]
    }
   ],
   "source": [
    "def numbers_and_letters(string :str) ->None:\n",
    "    '''prints the number of letters and digits in the input string'''\n",
    "\n",
    "    try:\n",
    "        l=int()\n",
    "        d=int()\n",
    "        for i in string:\n",
    "            if i.isalpha():\n",
    "                l+=1\n",
    "\n",
    "            elif i.isdigit():\n",
    "                d+=1\n",
    "\n",
    "        print(f'LETTERS : {l}')\n",
    "        print(f'DIGITS  : {d}')\n",
    "\n",
    "    except AttributeError:\n",
    "        return 'enter only string values'\n",
    "    \n",
    "numbers_and_letters('my phone number is : 2255')"
   ]
  },
  {
   "attachments": {},
   "cell_type": "markdown",
   "metadata": {},
   "source": [
    "#### 6. A website requires the users to input username and password to register. Write a program to check the validity of password input by users.\n",
    "Following are the criteria for checking the password:  \n",
    "1. Atleast 1 letter between [a-z]\n",
    "2. Atleast 1 number between [0-9]\n",
    "3. Atleast 1 letter between [A-Z]\n",
    "4. Atleast 1 character from [$#@]\n",
    "5. Minimum length of transaction password: 6\n",
    "6. Maximum length of transaction password: 12\n",
    "\n",
    "Your program should accept a sequence of comma separated passwords and will check them according to the above criteria. Passwords that match the criteria are to be printed, each separated by a comma.  \n",
    "\n",
    "**Example**  \n",
    "If the following passwords are given as input to the program:  \n",
    "`ABd1234@1,a F1#,2w3E*,2We3345`  \n",
    "Then, the output of the program should be:  \n",
    "`ABd1234@1`"
   ]
  },
  {
   "cell_type": "code",
   "execution_count": 6,
   "metadata": {},
   "outputs": [
    {
     "name": "stdout",
     "output_type": "stream",
     "text": [
      "Matching passwords:\n",
      "ABd1234@1,AAbb12@+,1@2 XyZ\n"
     ]
    }
   ],
   "source": [
    "def password_check(*args :str):\n",
    "    '''returns the passwords which matches the criteria'''\n",
    "\n",
    "    try:\n",
    "        passwords =list()\n",
    "        for i in args:\n",
    "            if 6<=len(i)<=12:\n",
    "                lower = False\n",
    "                upper = False\n",
    "                num = False\n",
    "                char = False\n",
    "\n",
    "                for j in i:\n",
    "                    if j.islower():\n",
    "                        lower=True\n",
    "\n",
    "                    elif j.isupper():\n",
    "                        upper=True\n",
    "\n",
    "                    elif j.isdigit():\n",
    "                        num=True\n",
    "\n",
    "                    elif j in '$#@':\n",
    "                        char=True\n",
    "\n",
    "                if lower and upper and num and char:\n",
    "                    passwords.append(i)\n",
    "\n",
    "        if passwords:\n",
    "            print('Matching passwords:')\n",
    "            print(*passwords,sep=',')\n",
    "        else:\n",
    "            print('no passwords match the criteria')\n",
    "\n",
    "    except (AttributeError,TypeError):\n",
    "        print('enter only string value as input')\n",
    "\n",
    "password_check('ABd1234@1','a F1#','2w3E*','2We3345','','1234','AaBb12!!','AAbb12@+','1@2 XyZ')"
   ]
  }
 ],
 "metadata": {
  "kernelspec": {
   "display_name": "base",
   "language": "python",
   "name": "python3"
  },
  "language_info": {
   "codemirror_mode": {
    "name": "ipython",
    "version": 3
   },
   "file_extension": ".py",
   "mimetype": "text/x-python",
   "name": "python",
   "nbconvert_exporter": "python",
   "pygments_lexer": "ipython3",
   "version": "3.9.12"
  },
  "orig_nbformat": 4,
  "vscode": {
   "interpreter": {
    "hash": "20a9e06a1eee47c4abbed4ec8225ad91d78d9800d202b71b6b0a6e47016c6abd"
   }
  }
 },
 "nbformat": 4,
 "nbformat_minor": 2
}
