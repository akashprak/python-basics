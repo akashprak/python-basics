{
 "cells": [
  {
   "attachments": {},
   "cell_type": "markdown",
   "metadata": {},
   "source": [
    "#### 1. Define a class with a generator which can iterate the numbers, which are divisible by 7, between a given range 0 and n."
   ]
  },
  {
   "cell_type": "code",
   "execution_count": 1,
   "metadata": {},
   "outputs": [
    {
     "name": "stdout",
     "output_type": "stream",
     "text": [
      "0 7 14 21 28 35 42 49 56 63 70 77 84 91 98 105 112 119 126 133 140 147 154 161 168 175 182 189 196 "
     ]
    }
   ],
   "source": [
    "class DivisibleBy7:\n",
    "    '''class to check divisibility by 7 in a range of numbers'''\n",
    "\n",
    "    def __init__(self,N) -> None:\n",
    "        '''\n",
    "        constructor for DivisibleBy7 class\n",
    "        parameter: N (range)\n",
    "        '''\n",
    "        self.N = N\n",
    "\n",
    "    def generate(self):\n",
    "        '''generates numbers divisible by 7'''\n",
    "\n",
    "        for i in range(self.N):\n",
    "            if i%7 == 0:\n",
    "                yield i\n",
    "\n",
    "numbers = DivisibleBy7(200)\n",
    "\n",
    "for i in numbers.generate():\n",
    "    print(i,end=' ')"
   ]
  },
  {
   "attachments": {},
   "cell_type": "markdown",
   "metadata": {},
   "source": [
    "#### 2. Write a program to compute the frequency of the words from the input. The output should output after sorting the key alphanumerically.\n",
    "Suppose the following input is supplied to the program:  \n",
    "`New to Python or choosing between Python 2 and Python 3? Read Python 2 or Python 3.`  \n",
    "Then, the output should be:  \n",
    "\n",
    "        2 : 2\n",
    "        3. : 1\n",
    "        3? : 1\n",
    "        New : 1\n",
    "        Python : 5\n",
    "        Read : 1\n",
    "        and : 1\n",
    "        between : 1\n",
    "        choosing : 1\n",
    "        or : 2\n",
    "        to : 1"
   ]
  },
  {
   "cell_type": "code",
   "execution_count": 2,
   "metadata": {},
   "outputs": [
    {
     "name": "stdout",
     "output_type": "stream",
     "text": [
      "entered string : New to Python or choosing between Python 2 and Python 3? Read Python 2 or Python 3.\n",
      "\n",
      "The frequency of each words:\n",
      "2 : 2\n",
      "3. : 1\n",
      "3? : 1\n",
      "New : 1\n",
      "Python : 5\n",
      "Read : 1\n",
      "and : 1\n",
      "between : 1\n",
      "choosing : 1\n",
      "or : 2\n",
      "to : 1\n"
     ]
    }
   ],
   "source": [
    "def frequency_Of_String():\n",
    "    '''prints the frequency of each string in the input'''\n",
    "\n",
    "    string = input('enter value:')\n",
    "    print(f'entered string : {string}')\n",
    " \n",
    "    freq = dict()\n",
    "    S = string.split()\n",
    "\n",
    "    for i in S:\n",
    "        freq[i] = S.count(i)\n",
    "\n",
    "    print('\\nThe frequency of each words:')\n",
    "    for i in sorted(freq):\n",
    "        print(f'{i} : {freq[i]}') \n",
    "\n",
    "frequency_Of_String()"
   ]
  },
  {
   "attachments": {},
   "cell_type": "markdown",
   "metadata": {},
   "source": [
    "#### 3. Define a class Person and its two child classes: Male and Female. All classes have a method 'getGender' which can print 'Male' for Male class and 'Female' for Female class."
   ]
  },
  {
   "cell_type": "code",
   "execution_count": 3,
   "metadata": {},
   "outputs": [
    {
     "name": "stdout",
     "output_type": "stream",
     "text": [
      "Male\n",
      "Female\n"
     ]
    }
   ],
   "source": [
    "class Person:\n",
    "    @staticmethod\n",
    "    def getGender():\n",
    "        print('Person')\n",
    "\n",
    "class Male(Person):\n",
    "    @staticmethod\n",
    "    def getGender():\n",
    "        print('Male')\n",
    "\n",
    "class Female(Person):\n",
    "    @staticmethod\n",
    "    def getGender():\n",
    "        print('Female')\n",
    "\n",
    "man=Male()\n",
    "woman=Female()\n",
    "\n",
    "man.getGender()\n",
    "woman.getGender()"
   ]
  },
  {
   "attachments": {},
   "cell_type": "markdown",
   "metadata": {},
   "source": [
    "#### 4. Write a program to generate all sentences where subject is in ['I' , 'You'] and verb is in ['Play' , 'Love'] and the object is in ['Hockey' , 'Football']."
   ]
  },
  {
   "cell_type": "code",
   "execution_count": 4,
   "metadata": {},
   "outputs": [
    {
     "name": "stdout",
     "output_type": "stream",
     "text": [
      "I Play Hockey\n",
      "I Play Football\n",
      "I Love Hockey\n",
      "I Love Football\n",
      "You Play Hockey\n",
      "You Play Football\n",
      "You Love Hockey\n",
      "You Love Football\n"
     ]
    }
   ],
   "source": [
    "def sentence_generate():\n",
    "    subject = ['I' , 'You']\n",
    "    verb = ['Play' , 'Love']\n",
    "    obj = ['Hockey' , 'Football']\n",
    "\n",
    "    for i in subject:\n",
    "        for j in verb:\n",
    "            for k in obj:\n",
    "                print(f'{i} {j} {k}')\n",
    "\n",
    "sentence_generate()"
   ]
  },
  {
   "attachments": {},
   "cell_type": "markdown",
   "metadata": {},
   "source": [
    "#### 5. Write a program to compress and decompress the string 'hello world!hello world!hello world!hello world!'."
   ]
  },
  {
   "cell_type": "code",
   "execution_count": 5,
   "metadata": {},
   "outputs": [
    {
     "name": "stdout",
     "output_type": "stream",
     "text": [
      "hel2o world!hel2o world!hel2o world!hel2o world!\n",
      "--------------------\n",
      "hello world!hello world!hello world!hello world!\n"
     ]
    }
   ],
   "source": [
    "class stringCD:\n",
    "    def __init__(self,string :str) -> None:\n",
    "        self.string = string\n",
    "\n",
    "\n",
    "    #function to compress a string\n",
    "    def compress(self) ->str:\n",
    "        '''returns the compressed string'''\n",
    "\n",
    "        compressed =str()\n",
    "        count = 1\n",
    "\n",
    "        for i in range(len(self.string)-1):\n",
    "            if self.string[i]==self.string[i+1]:\n",
    "                count +=1\n",
    "\n",
    "            else:\n",
    "                c = '' if count==1 else str(count)\n",
    "                compressed += self.string[i]+c\n",
    "                count=1\n",
    "        else:\n",
    "            c = '' if count==1 else str(count)\n",
    "            compressed += self.string[-1]+c\n",
    "\n",
    "        return compressed\n",
    "\n",
    "\n",
    "    #function to decompress a string\n",
    "    def decompress(self) ->str:\n",
    "        '''returns the decompressed string'''\n",
    "\n",
    "        decompressed = str()\n",
    "        i=0\n",
    "\n",
    "        while i < len(self.string):\n",
    "\n",
    "            if not self.string[i].isdigit():\n",
    "                decompressed += self.string[i]\n",
    "                i+=1\n",
    "\n",
    "            else:\n",
    "                n=str()\n",
    "                for k in self.string[i:]:\n",
    "                    if k.isdigit():\n",
    "                        n += k\n",
    "                        i+=1\n",
    "\n",
    "                    else:\n",
    "                        break\n",
    "                \n",
    "                decompressed += decompressed[-1]*(int(n)-1)    \n",
    "        return decompressed\n",
    "\n",
    "\n",
    "c= stringCD('hello world!hello world!hello world!hello world!').compress()\n",
    "print(c)\n",
    "print('-'*20)\n",
    "\n",
    "d=stringCD(c).decompress()\n",
    "print(d)\n"
   ]
  },
  {
   "attachments": {},
   "cell_type": "markdown",
   "metadata": {},
   "source": [
    "#### 6. Write a binary search function which searches an item in a sorted list. The function should return the index of element to be searched in the list."
   ]
  },
  {
   "cell_type": "code",
   "execution_count": 6,
   "metadata": {},
   "outputs": [
    {
     "data": {
      "text/plain": [
       "6"
      ]
     },
     "execution_count": 6,
     "metadata": {},
     "output_type": "execute_result"
    }
   ],
   "source": [
    "def binary_search(L :list, item) ->int:\n",
    "    '''returns the index of the search item'''\n",
    "\n",
    "    first = 0\n",
    "    last = len(L)-1\n",
    "\n",
    "    while first<=last:\n",
    "        mid = (first+last)//2\n",
    "\n",
    "        if L[mid] == item:\n",
    "            return mid\n",
    "        \n",
    "        elif L[mid]<item:\n",
    "            first = mid+1\n",
    "        \n",
    "        else:\n",
    "            last = mid-1\n",
    "\n",
    "    else:\n",
    "        return 'item is not in the list'\n",
    "    \n",
    "l=[1,5,30,73,88,156,453,655,656,989]\n",
    "binary_search(l,453)   "
   ]
  }
 ],
 "metadata": {
  "kernelspec": {
   "display_name": "base",
   "language": "python",
   "name": "python3"
  },
  "language_info": {
   "codemirror_mode": {
    "name": "ipython",
    "version": 3
   },
   "file_extension": ".py",
   "mimetype": "text/x-python",
   "name": "python",
   "nbconvert_exporter": "python",
   "pygments_lexer": "ipython3",
   "version": "3.9.12"
  },
  "orig_nbformat": 4,
  "vscode": {
   "interpreter": {
    "hash": "20a9e06a1eee47c4abbed4ec8225ad91d78d9800d202b71b6b0a6e47016c6abd"
   }
  }
 },
 "nbformat": 4,
 "nbformat_minor": 2
}
