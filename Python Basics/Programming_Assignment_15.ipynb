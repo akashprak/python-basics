{
 "cells": [
  {
   "attachments": {},
   "cell_type": "markdown",
   "metadata": {},
   "source": [
    "#### 1. Write a program using generator to print the numbers which can be divisible by 5 and 7 between 0 and n in comma separated form while n is input by console.\n",
    "Example:  \n",
    "If the following n is given as input to the program:  \n",
    "100  \n",
    "Then, the output of the program should be:  \n",
    "0,35,70"
   ]
  },
  {
   "cell_type": "code",
   "execution_count": 7,
   "metadata": {},
   "outputs": [
    {
     "name": "stdout",
     "output_type": "stream",
     "text": [
      "0 , 35 , 70 , 105 , 140 , 175 , 210 , 245 , 280\n"
     ]
    }
   ],
   "source": [
    "def divisible_by_5and7(n :int):\n",
    "    '''generates numbers from 0 to n divisible by 7 and 5'''\n",
    "    i = 0\n",
    "    while i <=n:\n",
    "        yield i\n",
    "        i+=35\n",
    "\n",
    "\n",
    "n = int(input('enter limit for the generator'))\n",
    "print(*divisible_by_5and7(n) , sep =' , ')"
   ]
  },
  {
   "attachments": {},
   "cell_type": "markdown",
   "metadata": {},
   "source": [
    "#### 2. Write a program using generator to print even numbers between 0 and n in comma separated form while n is input by console.  \n",
    "Example:  \n",
    "If the following n is given as input to the program:  \n",
    "10  \n",
    "Then, the output of the program should be:  \n",
    "0,2,4,6,8,10"
   ]
  },
  {
   "cell_type": "code",
   "execution_count": 4,
   "metadata": {},
   "outputs": [
    {
     "name": "stdout",
     "output_type": "stream",
     "text": [
      "enter integer value\n",
      "0 2 4 6 8 10 12 14 16 18 20\n"
     ]
    }
   ],
   "source": [
    "def even_generator():\n",
    "    '''generates even numbers from 0 to n'''\n",
    "\n",
    "    while True:\n",
    "        try:\n",
    "            n=int(input('enter upper limit for the generator'))\n",
    "            break\n",
    "        except ValueError:\n",
    "            print('enter integer value')\n",
    "    i=0\n",
    "    while i<=n:\n",
    "        yield i\n",
    "        i+=2\n",
    "\n",
    "print(*even_generator())"
   ]
  },
  {
   "attachments": {},
   "cell_type": "markdown",
   "metadata": {},
   "source": [
    "#### 3. The Fibonacci Sequence is computed based on the following formula:  \n",
    "f(n) = 0 if n=0  \n",
    "f(n) = 1 if n=1  \n",
    "f(n) = f(n-1)+f(n-2) if n>1  \n",
    "\n",
    "#### write a program using list comprehension to print the Fibonacci Sequence in comma separated form with a given n input by console."
   ]
  },
  {
   "cell_type": "code",
   "execution_count": 5,
   "metadata": {},
   "outputs": [
    {
     "name": "stdout",
     "output_type": "stream",
     "text": [
      "0 , 1 , 1 , 2 , 3 , 5 , 8 , 13 , 21 , 34 , 55 , 89 , 144 , 233 , 377\n"
     ]
    }
   ],
   "source": [
    "def fibonacci(n :int):\n",
    "    '''returns n terms of fibonacci sequence'''\n",
    "    \n",
    "    if n==1:\n",
    "        return 0\n",
    "    elif n==2:\n",
    "        return 1\n",
    "    else:\n",
    "        return fibonacci(n-2)+fibonacci(n-1)\n",
    "    \n",
    "while True:\n",
    "    try:\n",
    "        n=int(input('enter value for n'))\n",
    "        break\n",
    "    except ValueError:\n",
    "        print('enter positive integer')\n",
    "\n",
    "F = [fibonacci(i+1) for i in range(n)]\n",
    "print(*F,sep=' , ')"
   ]
  },
  {
   "attachments": {},
   "cell_type": "markdown",
   "metadata": {},
   "source": [
    "#### 4. Assuming that we have some email addresses in the `username@companyname.com` format. Write a program to print the username of a given email address. Both user names and company names are composed of letters only.  \n",
    "\n",
    "Example:  \n",
    "If the following email address is given as input to the program:  \n",
    "`john@google.com`  \n",
    "Then, the output of the program should be:  \n",
    "`john`"
   ]
  },
  {
   "cell_type": "code",
   "execution_count": 12,
   "metadata": {},
   "outputs": [
    {
     "name": "stdout",
     "output_type": "stream",
     "text": [
      "ash\n"
     ]
    }
   ],
   "source": [
    "def getUsername(mailID :str) ->str:\n",
    "    '''returns username from the email id'''\n",
    "\n",
    "    i = mailID.find('@')\n",
    "    if i>=0:\n",
    "        return mailID[:i]\n",
    "    else:\n",
    "        return 'enter valid Email ID'\n",
    "    \n",
    "print(getUsername('ash@google.com'))"
   ]
  },
  {
   "attachments": {},
   "cell_type": "markdown",
   "metadata": {},
   "source": [
    "#### 5. Define a class named Shape and its subclass Square. The Square class has an init function which takes a length as argument. Both classes have a area function which can print the area of the shape where Shape's area is 0 by default."
   ]
  },
  {
   "cell_type": "code",
   "execution_count": 15,
   "metadata": {},
   "outputs": [
    {
     "name": "stdout",
     "output_type": "stream",
     "text": [
      "Area = 225\n"
     ]
    }
   ],
   "source": [
    "class Shape:\n",
    "    @staticmethod\n",
    "    def area():\n",
    "        return 'Area = 0'\n",
    "    \n",
    "class Square(Shape):\n",
    "    def __init__(self,length) -> None:\n",
    "        self.length = length\n",
    "\n",
    "    def area(self):\n",
    "        '''returns the area of square'''\n",
    "        return f'Area = {self.length**2}'\n",
    "    \n",
    "sq = Square(15)\n",
    "print(sq.area())"
   ]
  }
 ],
 "metadata": {
  "kernelspec": {
   "display_name": "base",
   "language": "python",
   "name": "python3"
  },
  "language_info": {
   "codemirror_mode": {
    "name": "ipython",
    "version": 3
   },
   "file_extension": ".py",
   "mimetype": "text/x-python",
   "name": "python",
   "nbconvert_exporter": "python",
   "pygments_lexer": "ipython3",
   "version": "3.9.12"
  },
  "orig_nbformat": 4,
  "vscode": {
   "interpreter": {
    "hash": "20a9e06a1eee47c4abbed4ec8225ad91d78d9800d202b71b6b0a6e47016c6abd"
   }
  }
 },
 "nbformat": 4,
 "nbformat_minor": 2
}
