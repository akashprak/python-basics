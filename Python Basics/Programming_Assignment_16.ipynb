{
 "cells": [
  {
   "attachments": {},
   "cell_type": "markdown",
   "metadata": {},
   "source": [
    "#### 1. Write a function that stutters a word as if someone is struggling to read it. The first two letters are repeated twice with an ellipsis ... and space after each, and then the word is pronounced with a question mark ?.\n",
    "Example:  \n",
    "`stutter('incredible') -> 'in... in... incredible?'`  \n",
    "Assume all input is in lower case and at least two characters long."
   ]
  },
  {
   "cell_type": "code",
   "execution_count": 1,
   "metadata": {},
   "outputs": [
    {
     "data": {
      "text/plain": [
       "'ma... ma... marvelous?'"
      ]
     },
     "execution_count": 1,
     "metadata": {},
     "output_type": "execute_result"
    }
   ],
   "source": [
    "def stutter(word :str) ->str:\n",
    "    '''returns the stuttered version of the word'''\n",
    "\n",
    "    st = word[:2]+'... '+word[:2]+'... '+word+'?'\n",
    "    return st\n",
    "\n",
    "stutter('marvelous')"
   ]
  },
  {
   "attachments": {},
   "cell_type": "markdown",
   "metadata": {},
   "source": [
    "#### 2. Create a function that takes an angle in radians and returns the corresponding angle in degrees rounded to one decimal place.\n",
    "Example:  \n",
    "radians_to_degrees(1) -> 57.3"
   ]
  },
  {
   "cell_type": "code",
   "execution_count": 22,
   "metadata": {},
   "outputs": [
    {
     "data": {
      "text/plain": [
       "180.0"
      ]
     },
     "execution_count": 22,
     "metadata": {},
     "output_type": "execute_result"
    }
   ],
   "source": [
    "def radians_to_degrees(angle :float) -> float:\n",
    "    '''returns the angle in degrees'''\n",
    "\n",
    "    try:\n",
    "        return round(angle*57.2958,1)\n",
    "\n",
    "    except TypeError:\n",
    "        return 'enter numeric value'\n",
    "    \n",
    "radians_to_degrees(3.141)"
   ]
  },
  {
   "attachments": {},
   "cell_type": "markdown",
   "metadata": {},
   "source": [
    "#### 3. In this challenge, establish if a given integer num is a Curzon number. If 1 plus 2 elevated to num is exactly divisible by 1 plus 2 multiplied by num, then num is a Curzon number.\n",
    "#### Given a non-negative integer num, implement a function that returns True if num is a Curzon number, or False otherwise.  \n",
    "Example:  \n",
    "is_curzon(5) -> True  \n",
    "- 2**5 + 1 = 33\n",
    "- 2*5 + 1 = 11\n",
    "- 33 is a multiple of 11"
   ]
  },
  {
   "cell_type": "code",
   "execution_count": 23,
   "metadata": {},
   "outputs": [
    {
     "data": {
      "text/plain": [
       "True"
      ]
     },
     "execution_count": 23,
     "metadata": {},
     "output_type": "execute_result"
    }
   ],
   "source": [
    "def is_curzon(num :int) -> bool:\n",
    "    '''returns if the number is a curzon number or not'''\n",
    "\n",
    "    p = 1 + 2**num\n",
    "    m = 1 + 2*num\n",
    "    return True if p%m == 0 else False\n",
    "\n",
    "is_curzon(14)"
   ]
  },
  {
   "attachments": {},
   "cell_type": "markdown",
   "metadata": {},
   "source": [
    "#### 4. Given the side length x find the area of the hexagon.\n",
    "formula:  \n",
    "  \n",
    "Area = $\\dfrac{3 \\sqrt{3} x^2}{2}$  \n",
    "  \n",
    "Example:  \n",
    "area_of_hexagon(1) ➞ 2.6  \n",
    "area_of_hexagon(2) ➞ 10.4  \n",
    "area_of_hexagon(3) ➞ 23.4  "
   ]
  },
  {
   "cell_type": "code",
   "execution_count": 28,
   "metadata": {},
   "outputs": [
    {
     "data": {
      "text/plain": [
       "31.8"
      ]
     },
     "execution_count": 28,
     "metadata": {},
     "output_type": "execute_result"
    }
   ],
   "source": [
    "from math import sqrt\n",
    "\n",
    "def area_of_hexagon(x):\n",
    "    '''returns the area of hexagon'''\n",
    "\n",
    "    try:\n",
    "        area = 3 * sqrt(3) * x**2 /2\n",
    "        return round(area,1)\n",
    "    except TypeError:\n",
    "        return 'invalid input'\n",
    "    \n",
    "area_of_hexagon(3.5)"
   ]
  },
  {
   "attachments": {},
   "cell_type": "markdown",
   "metadata": {},
   "source": [
    "#### 5. Create a function that returns a base-2 (binary) representation of a base-10 (decimal) string number. To convert is simple: ((2) means base-2 and (10) means base-10)\n",
    "`010101001(2) = 1 + 8 + 32 + 128.`  \n",
    "  \n",
    "Going from right to left, the value of the most right bit is 1, now from that every bit to the left\n",
    "will be x2 the value, value of an 8 bit binary numbers are (256, 128, 64, 32, 16, 8, 4, 2, 1).  \n",
    "  \n",
    "Examples:  \n",
    "binary(5) ➞ '101'  \n",
    "`1*1 + 1*4 = 5`"
   ]
  },
  {
   "cell_type": "code",
   "execution_count": 53,
   "metadata": {},
   "outputs": [
    {
     "name": "stdout",
     "output_type": "stream",
     "text": [
      "Binary form of 71(10) is 1000111(2)\n"
     ]
    }
   ],
   "source": [
    "def binary(num :int):\n",
    "    '''returns binary form of the given integer'''\n",
    "    try:\n",
    "        b = bin(num).replace('0b','') + '(2)'\n",
    "        return f'Binary form of {num}(10) is {b}'\n",
    "    \n",
    "    except TypeError:\n",
    "        return 'enter integer value'\n",
    "print(binary(71))"
   ]
  }
 ],
 "metadata": {
  "kernelspec": {
   "display_name": "base",
   "language": "python",
   "name": "python3"
  },
  "language_info": {
   "codemirror_mode": {
    "name": "ipython",
    "version": 3
   },
   "file_extension": ".py",
   "mimetype": "text/x-python",
   "name": "python",
   "nbconvert_exporter": "python",
   "pygments_lexer": "ipython3",
   "version": "3.9.12"
  },
  "orig_nbformat": 4,
  "vscode": {
   "interpreter": {
    "hash": "20a9e06a1eee47c4abbed4ec8225ad91d78d9800d202b71b6b0a6e47016c6abd"
   }
  }
 },
 "nbformat": 4,
 "nbformat_minor": 2
}
