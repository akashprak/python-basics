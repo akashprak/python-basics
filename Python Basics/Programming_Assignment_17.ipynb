{
 "cells": [
  {
   "attachments": {},
   "cell_type": "markdown",
   "metadata": {},
   "source": [
    "#### 1. Create a function that takes three arguments a,b,c and returns the sum of the numbers that are evenly divided by c from the range a,b inclusive.\n",
    "Examples:  \n",
    "evenly_divisible(1, 10, 20) ➞ 0  \n",
    "*No number between 1 and 10 can be evenly divided by 20.*  \n",
    "  \n",
    "evenly_divisible(1, 10, 2) ➞ 30  \n",
    "*2 + 4 + 6 + 8 + 10 = 30*"
   ]
  },
  {
   "cell_type": "code",
   "execution_count": 1,
   "metadata": {},
   "outputs": [
    {
     "name": "stdout",
     "output_type": "stream",
     "text": [
      "23688\n",
      "-----\n",
      "0\n"
     ]
    }
   ],
   "source": [
    "def evenly_divisible(a :int , b :int , c :int) ->int:\n",
    "    '''returns the sum of evenly divisible numbers by c in the range a and b '''\n",
    "\n",
    "    s = int()\n",
    "    for i in range(a,b+1):\n",
    "        if i%c == 0:\n",
    "            s+=i\n",
    "\n",
    "    return s\n",
    "\n",
    "print(evenly_divisible(1,1000,21))\n",
    "print('-'*5)\n",
    "print(evenly_divisible(5,10,17))"
   ]
  },
  {
   "attachments": {},
   "cell_type": "markdown",
   "metadata": {},
   "source": [
    "#### 2. Create a function that returns True if a given inequality expression is correct and False otherwise.\n",
    "Examples:  \n",
    "correct_signs('3 < 7 < 11') ➞ True  \n",
    "correct_signs('13 > 44 > 33 > 1') ➞ False  \n",
    "correct_signs('1 < 2 < 6 < 9 > 3') ➞ True  "
   ]
  },
  {
   "cell_type": "code",
   "execution_count": 2,
   "metadata": {},
   "outputs": [
    {
     "data": {
      "text/plain": [
       "'1 < 2 < 3 >= 3 ➞ True'"
      ]
     },
     "execution_count": 2,
     "metadata": {},
     "output_type": "execute_result"
    }
   ],
   "source": [
    "def check_inequality(exp :str) -> bool:\n",
    "    '''evaluates the expression given as input'''\n",
    "\n",
    "    return f'{exp} ➞ {eval(exp)}'\n",
    "\n",
    "check_inequality('1 < 2 < 3 >= 3')"
   ]
  },
  {
   "attachments": {},
   "cell_type": "markdown",
   "metadata": {},
   "source": [
    "#### 3. Create a function that replaces all the vowels in a string with a specified character.\n",
    "Example:  \n",
    "replace_vowels('the aardvark', '#') ➞ 'th# ##rdv#rk"
   ]
  },
  {
   "cell_type": "code",
   "execution_count": 3,
   "metadata": {},
   "outputs": [
    {
     "data": {
      "text/plain": [
       "'sh*rl*ck h*lm*s'"
      ]
     },
     "execution_count": 3,
     "metadata": {},
     "output_type": "execute_result"
    }
   ],
   "source": [
    "def replace_vowels(string :str ,repl :str) ->str:\n",
    "    '''replaces the vowels in the first argument with the second argument'''\n",
    "\n",
    "    vowels = 'aeiouAEIOU'\n",
    "    for i in string:\n",
    "        if i in vowels:\n",
    "            string = string.replace(i,repl)\n",
    "    return string\n",
    "\n",
    "replace_vowels('sherlock holmes', '*')"
   ]
  },
  {
   "attachments": {},
   "cell_type": "markdown",
   "metadata": {},
   "source": [
    "#### 4. Write a function that calculates the factorial of a number recursively."
   ]
  },
  {
   "cell_type": "code",
   "execution_count": 4,
   "metadata": {},
   "outputs": [
    {
     "data": {
      "text/plain": [
       "120"
      ]
     },
     "execution_count": 4,
     "metadata": {},
     "output_type": "execute_result"
    }
   ],
   "source": [
    "def factorial(n :int):\n",
    "    '''returns the factorial of the given number'''\n",
    "\n",
    "    if n==0:\n",
    "        return 1\n",
    "    else:\n",
    "        return n * factorial(n-1)\n",
    "    \n",
    "factorial(5)"
   ]
  },
  {
   "attachments": {},
   "cell_type": "markdown",
   "metadata": {},
   "source": [
    "#### 5. Hamming distance is the number of characters that differ between two strings.\n",
    "To illustrate:  \n",
    "string1: 'abcbba'  \n",
    "string2: 'abcbda'  \n",
    "Hamming Distance : 1 - \"b\" vs \"d\" is the only difference.  \n",
    "#### Create a function that computes the hamming distance between two strings.  \n",
    "  \n",
    "Example:  \n",
    "hamming_distance(\"abcde\" , \"bcdef\") -> 5  \n",
    "hamming_distance(\"strong\" , \"strung\") -> 1"
   ]
  },
  {
   "cell_type": "code",
   "execution_count": 5,
   "metadata": {},
   "outputs": [
    {
     "data": {
      "text/plain": [
       "1"
      ]
     },
     "execution_count": 5,
     "metadata": {},
     "output_type": "execute_result"
    }
   ],
   "source": [
    "def hamming_distance(str1 :str , str2 :str) -> int:\n",
    "    '''returns the hamming distance between the two strings'''\n",
    "\n",
    "    n = int()\n",
    "    if len(str1)==len(str2):\n",
    "        for i,j in zip(str1,str2):\n",
    "            if i!=j:\n",
    "                n+=1\n",
    "        return n\n",
    "    else:\n",
    "        return 'the strings must be of equal length'\n",
    "    \n",
    "hamming_distance('parrot' , 'carrot')"
   ]
  }
 ],
 "metadata": {
  "kernelspec": {
   "display_name": "base",
   "language": "python",
   "name": "python3"
  },
  "language_info": {
   "codemirror_mode": {
    "name": "ipython",
    "version": 3
   },
   "file_extension": ".py",
   "mimetype": "text/x-python",
   "name": "python",
   "nbconvert_exporter": "python",
   "pygments_lexer": "ipython3",
   "version": "3.9.12"
  },
  "orig_nbformat": 4,
  "vscode": {
   "interpreter": {
    "hash": "20a9e06a1eee47c4abbed4ec8225ad91d78d9800d202b71b6b0a6e47016c6abd"
   }
  }
 },
 "nbformat": 4,
 "nbformat_minor": 2
}
