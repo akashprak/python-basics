{
 "cells": [
  {
   "attachments": {},
   "cell_type": "markdown",
   "metadata": {},
   "source": [
    "#### 1. Create a function that takes a list of non negative integers and strings and return a new list without the strings.\n",
    "Example:  \n",
    "filter_list([1,2,'a','b']) -> [1,2]"
   ]
  },
  {
   "cell_type": "code",
   "execution_count": 1,
   "metadata": {},
   "outputs": [
    {
     "name": "stdout",
     "output_type": "stream",
     "text": [
      "list elements must be strings or positive integers\n",
      "[1, 2, 100, 200]\n"
     ]
    }
   ],
   "source": [
    "def filter_list(L :list) ->list:\n",
    "    '''returns the list of numbers in the input list'''\n",
    "\n",
    "    def checkFunction(x):\n",
    "        if type(x)==str or (type(x)==int and x>=0):\n",
    "            return True\n",
    "        else:\n",
    "            return False\n",
    "\n",
    "    check = all(checkFunction(i) for i in L)\n",
    "\n",
    "    if check:\n",
    "        L = [x for x in L if type(x)==int]\n",
    "        return L\n",
    "    else:\n",
    "        return 'list elements must be strings or positive integers'\n",
    "    \n",
    "print(filter_list([1,2,-3,'a']))\n",
    "print(filter_list([1,2,100,200,'abcd']))"
   ]
  },
  {
   "attachments": {},
   "cell_type": "markdown",
   "metadata": {},
   "source": [
    "#### 2. The \"Reverser\" takes a string as input and returns that string in reverse order, with the opposite case.\n",
    "Example:  \n",
    "reverse('Hello World') -> 'DLROw OLLEh'"
   ]
  },
  {
   "cell_type": "code",
   "execution_count": 2,
   "metadata": {},
   "outputs": [
    {
     "data": {
      "text/plain": [
       "'DLROw OLLEh'"
      ]
     },
     "execution_count": 2,
     "metadata": {},
     "output_type": "execute_result"
    }
   ],
   "source": [
    "def reverseString(string :str) ->str:\n",
    "    '''returns the string in reverse order with case swapped'''\n",
    "\n",
    "    return string[::-1].swapcase()\n",
    "\n",
    "reverseString('Hello World')"
   ]
  },
  {
   "attachments": {},
   "cell_type": "markdown",
   "metadata": {},
   "source": [
    "#### 3. You can assign variables from lists like this:\n",
    "lst = [1, 2, 3, 4, 5, 6]  \n",
    "first = lst[0]  \n",
    "middle = lst[1:-1]  \n",
    "last = lst[-1]  \n",
    "print(first) ➞ outputs 1  \n",
    "print(middle) ➞ outputs [2, 3, 4, 5]  \n",
    "print(last) ➞ outputs 6  \n",
    "#### With Python 3, you can assign variables from lists in a much more succinct way. Create variables first, middle and last from the given list using destructuring assignment. Where:\n",
    "first ➞ 1  \n",
    "middle ➞ [2, 3, 4, 5]  \n",
    "last ➞ 6  \n",
    "#### Your task is to unpack the list into three variables, being first, middle, and last, with middle being everything in between the first and last element. Then print all three variables."
   ]
  },
  {
   "cell_type": "code",
   "execution_count": 3,
   "metadata": {},
   "outputs": [
    {
     "name": "stdout",
     "output_type": "stream",
     "text": [
      "first : 1\n",
      "middle : [2, 3, 4, 5, 6, 7, 8, 9]\n",
      "last : 10\n"
     ]
    }
   ],
   "source": [
    "first , *middle , last =[1,2,3,4,5,6,7,8,9,10]\n",
    "print(f'first : {first}')\n",
    "print(f'middle : {middle}')\n",
    "print(f'last : {last}')"
   ]
  },
  {
   "attachments": {},
   "cell_type": "markdown",
   "metadata": {},
   "source": [
    "#### 4. Write a function that calculates the factorial of a number recursively."
   ]
  },
  {
   "cell_type": "code",
   "execution_count": 4,
   "metadata": {},
   "outputs": [
    {
     "data": {
      "text/plain": [
       "3628800"
      ]
     },
     "execution_count": 4,
     "metadata": {},
     "output_type": "execute_result"
    }
   ],
   "source": [
    "def factorial(n :int):\n",
    "    '''returns the factorial of the number'''\n",
    "\n",
    "    if n==0:\n",
    "        return 1\n",
    "    return n*factorial(n-1)\n",
    "\n",
    "factorial(10)"
   ]
  },
  {
   "attachments": {},
   "cell_type": "markdown",
   "metadata": {},
   "source": [
    "#### 5. Write a function that moves all elements of one type to the end of the list.\n",
    "Example:  \n",
    "`move_to_end([1, 3, 2, 4, 4, 1], 1) ➞ [3, 2, 4, 4, 1, 1]`  \n",
    "Move all the 1s to the end of the array."
   ]
  },
  {
   "cell_type": "code",
   "execution_count": 5,
   "metadata": {},
   "outputs": [
    {
     "data": {
      "text/plain": [
       "[2, 3, 4, 5, 6, 1, 1, 1]"
      ]
     },
     "execution_count": 5,
     "metadata": {},
     "output_type": "execute_result"
    }
   ],
   "source": [
    "def MoveToEnd(l :list,element) -> list:\n",
    "    '''moves all the element given to the end of the list'''\n",
    "\n",
    "    if element in l:\n",
    "        c=l.count(element)\n",
    "        l = [i for i in l if i!=element] + [element for i in range(c)]\n",
    "        return l\n",
    "    else:\n",
    "        return 'given element not in list'\n",
    "MoveToEnd([1,1,1,2,3,4,5,6] , 1)"
   ]
  }
 ],
 "metadata": {
  "kernelspec": {
   "display_name": "base",
   "language": "python",
   "name": "python3"
  },
  "language_info": {
   "codemirror_mode": {
    "name": "ipython",
    "version": 3
   },
   "file_extension": ".py",
   "mimetype": "text/x-python",
   "name": "python",
   "nbconvert_exporter": "python",
   "pygments_lexer": "ipython3",
   "version": "3.9.12"
  },
  "orig_nbformat": 4,
  "vscode": {
   "interpreter": {
    "hash": "20a9e06a1eee47c4abbed4ec8225ad91d78d9800d202b71b6b0a6e47016c6abd"
   }
  }
 },
 "nbformat": 4,
 "nbformat_minor": 2
}
