{
 "cells": [
  {
   "attachments": {},
   "cell_type": "markdown",
   "metadata": {},
   "source": [
    "#### 1. Create a function that takes a string and returns a string in which each character is repeated once.\n",
    "Example:  \n",
    "double_char('string') -> 'ssttrriinngg'"
   ]
  },
  {
   "cell_type": "code",
   "execution_count": 4,
   "metadata": {},
   "outputs": [
    {
     "data": {
      "text/plain": [
       "'HHeelllloo  WWoorrlldd'"
      ]
     },
     "execution_count": 4,
     "metadata": {},
     "output_type": "execute_result"
    }
   ],
   "source": [
    "def doubleString(string :str) ->str:\n",
    "    '''returns the doubled string'''\n",
    "\n",
    "    st = str()\n",
    "    for i in string:\n",
    "        st+=i+i\n",
    "    return st\n",
    "\n",
    "doubleString('Hello World')"
   ]
  },
  {
   "attachments": {},
   "cell_type": "markdown",
   "metadata": {},
   "source": [
    "#### 2. Create a function that reverses a boolean value and returns the string \"boolean expected\" if another variable is given.\n",
    "Example:  \n",
    "reverse(True) -> False  \n",
    "reverse(0) -> \"boolean expected\""
   ]
  },
  {
   "cell_type": "code",
   "execution_count": 1,
   "metadata": {},
   "outputs": [
    {
     "name": "stdout",
     "output_type": "stream",
     "text": [
      "False\n",
      "boolean expected\n"
     ]
    }
   ],
   "source": [
    "def booleanReverse(val :bool) -> bool:\n",
    "    '''returns the reversed boolean value'''\n",
    "\n",
    "    if isinstance(val,bool):\n",
    "        return not val\n",
    "    else:\n",
    "        return 'boolean expected'\n",
    "\n",
    "print(booleanReverse(True))\n",
    "print(booleanReverse('a'))"
   ]
  },
  {
   "attachments": {},
   "cell_type": "markdown",
   "metadata": {},
   "source": [
    "#### 3. Create a function that returns the thickness (in metres) of a piece of paper after folding it n number of times. The paper starts off with a thickness of 0.5mm.\n",
    "Example:  \n",
    "num_layers(1) ➞ \"0.001m\"  \n",
    "*Paper folded once is 1mm (equal to 0.001m)*  \n",
    "num_layers(4) ➞ \"0.008m\"  \n",
    "*Paper folded 4 times is 8mm (equal to 0.008m)*    \n",
    "num_layers(21) ➞ \"1048.576m\"  \n",
    "*Paper folded 21 times is 1048576mm (equal to 1048.576m)*"
   ]
  },
  {
   "cell_type": "code",
   "execution_count": 2,
   "metadata": {},
   "outputs": [
    {
     "data": {
      "text/plain": [
       "'thickness of paper folded 6 times = 0.0035m'"
      ]
     },
     "execution_count": 2,
     "metadata": {},
     "output_type": "execute_result"
    }
   ],
   "source": [
    "def thicknessOfPaper(n :int) ->float:\n",
    "    '''returns the thickness of paper folded n number of times'''\n",
    "\n",
    "    if isinstance(n,int) and n>=0:\n",
    "        return f'thickness of paper folded {n} times = {(n+1)*0.0005}m'\n",
    "    else:\n",
    "        return 'non negative integer value expected'\n",
    "    \n",
    "thicknessOfPaper(6)"
   ]
  },
  {
   "attachments": {},
   "cell_type": "markdown",
   "metadata": {},
   "source": [
    "#### 4. Create a function that takes a single string as argument and returns an ordered list containing the indices of all capital letters in the string.\n",
    "Example:  \n",
    "index_of_caps(\"eDaBiT\") ➞ [1, 3, 5]  \n",
    "index_of_caps(\"eQuINoX\") ➞ [1, 3, 4, 6]  \n",
    "index_of_caps(\"determine\") ➞ []"
   ]
  },
  {
   "cell_type": "code",
   "execution_count": 3,
   "metadata": {},
   "outputs": [
    {
     "data": {
      "text/plain": [
       "[0, 5, 12]"
      ]
     },
     "execution_count": 3,
     "metadata": {},
     "output_type": "execute_result"
    }
   ],
   "source": [
    "def capitalIndex(string :str) ->str:\n",
    "    '''returns the indices of capital letters in the string'''\n",
    "\n",
    "    if isinstance(string,str):\n",
    "        indx = [i for i,j in enumerate(string) if j.isupper()]\n",
    "        return indx\n",
    "    else:\n",
    "        return 'string value expected'\n",
    "    \n",
    "capitalIndex('Test String X')"
   ]
  },
  {
   "attachments": {},
   "cell_type": "markdown",
   "metadata": {},
   "source": [
    "#### 5. Using list comprehension, create a function that finds all even numbers from 1 to the given number.\n",
    "Example:  \n",
    "find_even_nums(8) -> [2,4,6,8]"
   ]
  },
  {
   "cell_type": "code",
   "execution_count": 6,
   "metadata": {},
   "outputs": [
    {
     "data": {
      "text/plain": [
       "[2, 4, 6, 8, 10, 12, 14, 16, 18, 20, 22, 24, 26, 28, 30, 32, 34]"
      ]
     },
     "execution_count": 6,
     "metadata": {},
     "output_type": "execute_result"
    }
   ],
   "source": [
    "def find_even(n :int) -> list:\n",
    "    if isinstance(n,int):\n",
    "        even = [i for i in range(1,n+1) if i%2==0]\n",
    "        return even\n",
    "    else:\n",
    "        return 'integer value expected'\n",
    "    \n",
    "find_even(35)"
   ]
  }
 ],
 "metadata": {
  "kernelspec": {
   "display_name": "base",
   "language": "python",
   "name": "python3"
  },
  "language_info": {
   "codemirror_mode": {
    "name": "ipython",
    "version": 3
   },
   "file_extension": ".py",
   "mimetype": "text/x-python",
   "name": "python",
   "nbconvert_exporter": "python",
   "pygments_lexer": "ipython3",
   "version": "3.9.12"
  },
  "orig_nbformat": 4,
  "vscode": {
   "interpreter": {
    "hash": "20a9e06a1eee47c4abbed4ec8225ad91d78d9800d202b71b6b0a6e47016c6abd"
   }
  }
 },
 "nbformat": 4,
 "nbformat_minor": 2
}
