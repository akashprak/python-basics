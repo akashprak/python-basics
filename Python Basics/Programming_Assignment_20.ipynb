{
 "cells": [
  {
   "attachments": {},
   "cell_type": "markdown",
   "metadata": {},
   "source": [
    "#### 1. Create a function that takes a list of strings and integers, and filters out the list so that it returns a list of integers only."
   ]
  },
  {
   "cell_type": "code",
   "execution_count": 1,
   "metadata": {},
   "outputs": [
    {
     "name": "stdout",
     "output_type": "stream",
     "text": [
      "[-1, 2, -3, 4]\n",
      "list elements must be strings or positive integers\n"
     ]
    }
   ],
   "source": [
    "def filter_list(L :list) ->list:\n",
    "    '''returns the list of numbers in the input list'''\n",
    "\n",
    "    check = all(type(i) in (str,int) for i in L)\n",
    "\n",
    "    if check:\n",
    "        L = [x for x in L if type(x)==int]\n",
    "        return L\n",
    "    else:\n",
    "        return 'list elements must be strings or positive integers'\n",
    "    \n",
    "print(filter_list([-1,'a',2,'b',-3,'c',4,'d']))\n",
    "print(filter_list([100,True,200]))"
   ]
  },
  {
   "attachments": {},
   "cell_type": "markdown",
   "metadata": {},
   "source": [
    "#### 2. Given a list of numbers, create a function which returns the list but with each element's index in the list added to itself. This means you add 0 to the number at index 0, add 1 to the number at index 1, etc...\n",
    "Example:  \n",
    "add_indexes([0, 0, 0, 0, 0]) ➞ [0, 1, 2, 3, 4]  \n",
    "add_indexes([1, 2, 3, 4, 5]) ➞ [1, 3, 5, 7, 9]  "
   ]
  },
  {
   "cell_type": "code",
   "execution_count": 2,
   "metadata": {},
   "outputs": [
    {
     "name": "stdout",
     "output_type": "stream",
     "text": [
      "[1, 3, 5, 7]\n",
      "expected numeric list\n",
      "expected list value\n"
     ]
    }
   ],
   "source": [
    "def addIndex(l :list) ->list:\n",
    "    '''returns the list with the indices added'''\n",
    "\n",
    "    try:\n",
    "        if all(type(i) in (int,float) for i in l):\n",
    "            l = [i+j for i,j in enumerate(l)]\n",
    "            return l\n",
    "        else:\n",
    "            return 'expected numeric list'\n",
    "        \n",
    "    except TypeError:\n",
    "        return 'expected list value'\n",
    "    \n",
    "print(addIndex([1,2,3,4]))\n",
    "print(addIndex(['a','b','c']))\n",
    "print(addIndex(100))"
   ]
  },
  {
   "attachments": {},
   "cell_type": "markdown",
   "metadata": {},
   "source": [
    "#### 3. Create a function that takes the height and radius of a cone as arguments and returns the volume of the cone rounded to the nearest hundredth."
   ]
  },
  {
   "cell_type": "code",
   "execution_count": 3,
   "metadata": {},
   "outputs": [
    {
     "data": {
      "text/plain": [
       "12.57"
      ]
     },
     "execution_count": 3,
     "metadata": {},
     "output_type": "execute_result"
    }
   ],
   "source": [
    "from math import pi\n",
    "\n",
    "def coneVolume(height , radius) ->float:\n",
    "    '''\n",
    "    returns the volume of cone\n",
    "    parameters:\n",
    "    height : height of cone\n",
    "    radius : radius of base\n",
    "    '''\n",
    "\n",
    "    try:\n",
    "        v = pi * radius**2 * height /3\n",
    "        return round(v,2)\n",
    "\n",
    "    except TypeError:\n",
    "        return 'numeric value expected'\n",
    "    \n",
    "coneVolume(3,2)"
   ]
  },
  {
   "attachments": {},
   "cell_type": "markdown",
   "metadata": {},
   "source": [
    "#### 4. This Triangular Number Sequence is generated from a pattern of dots that form a triangle The first 5 numbers of the sequence, or dots, are:\n",
    "1, 3, 6, 10, 15\n",
    "#### This means that the first triangle has just one dot, the second one has three dots, the third one has 6 dots and so on.Write a function that gives the number of dots with its corresponding triangle number of the sequence.\n",
    "Example:  \n",
    "triangle(1) ➞ 1  \n",
    "triangle(6) ➞ 21  \n",
    "triangle(215) ➞ 23220  "
   ]
  },
  {
   "cell_type": "code",
   "execution_count": 4,
   "metadata": {},
   "outputs": [
    {
     "name": "stdout",
     "output_type": "stream",
     "text": [
      "10\n",
      "5050\n"
     ]
    }
   ],
   "source": [
    "def triangular_number(n :int) ->int:\n",
    "    if type(n)==int:\n",
    "        return int(n*(n+1)/2)\n",
    "    else:\n",
    "        return 'integer value expected'\n",
    "    \n",
    "print(triangular_number(4))\n",
    "print(triangular_number(100))"
   ]
  },
  {
   "attachments": {},
   "cell_type": "markdown",
   "metadata": {},
   "source": [
    "#### 5. Create a function that takes a list of numbers between 1 and 10 *(excluding one number)* and returns the missing number."
   ]
  },
  {
   "cell_type": "code",
   "execution_count": 5,
   "metadata": {},
   "outputs": [
    {
     "data": {
      "text/plain": [
       "6"
      ]
     },
     "execution_count": 5,
     "metadata": {},
     "output_type": "execute_result"
    }
   ],
   "source": [
    "def missing_number(l :list) ->int:\n",
    "    S = set(range(1,11))\n",
    "\n",
    "    if set(l) < S:\n",
    "        S.difference_update(set(l))\n",
    "        return list(S)[0]\n",
    "   \n",
    "    else:\n",
    "        return 'invalid input'\n",
    "    \n",
    "missing_number([10,9,8,7,5,4,3,2,1])"
   ]
  }
 ],
 "metadata": {
  "kernelspec": {
   "display_name": "base",
   "language": "python",
   "name": "python3"
  },
  "language_info": {
   "codemirror_mode": {
    "name": "ipython",
    "version": 3
   },
   "file_extension": ".py",
   "mimetype": "text/x-python",
   "name": "python",
   "nbconvert_exporter": "python",
   "pygments_lexer": "ipython3",
   "version": "3.9.12"
  },
  "orig_nbformat": 4,
  "vscode": {
   "interpreter": {
    "hash": "20a9e06a1eee47c4abbed4ec8225ad91d78d9800d202b71b6b0a6e47016c6abd"
   }
  }
 },
 "nbformat": 4,
 "nbformat_minor": 2
}
