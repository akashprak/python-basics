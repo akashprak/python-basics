{
 "cells": [
  {
   "attachments": {},
   "cell_type": "markdown",
   "metadata": {},
   "source": [
    "#### 1. Write a function that takes a list and a number as arguments. Add the number to the end of the list, then remove the first element of the list. The function should then return the updated list.\n",
    "Example:  \n",
    "next_in_line([5, 6, 7, 8, 9], 1) ➞ [6, 7, 8, 9, 1]  \n",
    "next_in_line([7, 6, 3, 23, 17], 10) ➞ [6, 3, 23, 17, 10]"
   ]
  },
  {
   "cell_type": "code",
   "execution_count": 1,
   "metadata": {},
   "outputs": [
    {
     "data": {
      "text/plain": [
       "[2, 3, 4, 5, 9999]"
      ]
     },
     "execution_count": 1,
     "metadata": {},
     "output_type": "execute_result"
    }
   ],
   "source": [
    "def list_customize(l :list ,n) ->list:\n",
    "    l.append(n)\n",
    "    l.pop(0)\n",
    "    return l\n",
    "\n",
    "list_customize([1,2,3,4,5],9999)"
   ]
  },
  {
   "attachments": {},
   "cell_type": "markdown",
   "metadata": {},
   "source": [
    "#### 2. Create the function that takes a list of dictionaries and returns the sum of people&#39;s budgets.\n",
    "Example:  \n",
    "  \n",
    "get_budgets([  \n",
    "{ \"name\": \"John\", \"age\": 21, \"budget\": 23000 },  \n",
    "{ \"name\": \"Steve\", \"age\": 32, \"budget\": 40000 },  \n",
    "{ \"name\": \"Martin\", \"age\": 16, \"budget\": 2700 }  \n",
    "]) ➞ 65700  \n",
    "  \n",
    "get_budgets([  \n",
    "{ \"name\": \"John\", \"age\": 21, \"budget\": 29000 },  \n",
    "{ \"name\": \"Steve\", \"age\": 32, \"budget\": 32000 },  \n",
    "{ \"name\": \"Martin\", \"age\": 16, \"budget\": 1600 }  \n",
    "]) ➞ 62600"
   ]
  },
  {
   "cell_type": "code",
   "execution_count": 2,
   "metadata": {},
   "outputs": [
    {
     "name": "stdout",
     "output_type": "stream",
     "text": [
      "65700\n",
      "---------------\n",
      "expected dict values as list elements\n"
     ]
    }
   ],
   "source": [
    "def sumBudget(L :list[dict]):\n",
    "    '''returns the sum of budget'''\n",
    "\n",
    "    try:\n",
    "        budget = 0\n",
    "        for i in L:\n",
    "            budget += i.get('budget')\n",
    "        return budget\n",
    "    \n",
    "    except TypeError:\n",
    "        return 'expected key \"budget\" with numeric value in the dictionary'\n",
    "    except AttributeError:\n",
    "        return 'expected dict values as list elements'\n",
    "\n",
    "print(sumBudget([  \n",
    "{ \"name\": \"John\", \"age\": 21, \"budget\": 23000 },  \n",
    "{ \"name\": \"Steve\", \"age\": 32, \"budget\": 40000 },  \n",
    "{ \"name\": \"Martin\", \"age\": 16, \"budget\": 2700 }  \n",
    "]))\n",
    "print('-'*15)\n",
    "print(sumBudget([1,2,3,4]))"
   ]
  },
  {
   "attachments": {},
   "cell_type": "markdown",
   "metadata": {},
   "source": [
    "#### 3. Create a function that takes a string and returns a string with its letters in alphabetical order."
   ]
  },
  {
   "cell_type": "code",
   "execution_count": 3,
   "metadata": {},
   "outputs": [
    {
     "name": "stdout",
     "output_type": "stream",
     "text": [
      "ehllo\n",
      "FP_chinnnoottuy\n"
     ]
    }
   ],
   "source": [
    "def alphabet_sort(string :str) ->str:\n",
    "    '''returns sorted string'''\n",
    "\n",
    "    string = ''.join(sorted(string))\n",
    "    return string\n",
    "\n",
    "print(alphabet_sort('hello'))\n",
    "print(alphabet_sort('Python_Function'))"
   ]
  },
  {
   "attachments": {},
   "cell_type": "markdown",
   "metadata": {},
   "source": [
    "#### 4. Suppose that you invest $10,000 for 10 years at an interest rate of 6% compounded monthly What will be the value of your investment at the end of the 10 year period?  \n",
    "  \n",
    "#### Create a function that accepts the principal p, the term in years t, the interest rate r, and the number of compounding periods per year n. The function returns the value at the end of term rounded to the nearest cent.\n",
    "  \n",
    "For the example above:  \n",
    "compound_interest(10000, 10, 0.06, 12) ➞ 18193.97  \n",
    "  \n",
    "#### Note that the interest rate is given as a decimal and n=12 because with monthly compounding there are 12 periods per year. Compounding can also be done annually, quarterly, weekly, or daily.\n",
    "  \n",
    "Example:  \n",
    "compound_interest(100, 1, 0.05, 1) ➞ 105.0  \n",
    "compound_interest(3500, 15, 0.1, 4) ➞ 15399.26"
   ]
  },
  {
   "cell_type": "code",
   "execution_count": 4,
   "metadata": {},
   "outputs": [
    {
     "name": "stdout",
     "output_type": "stream",
     "text": [
      "18193.97\n",
      "176560.75\n"
     ]
    }
   ],
   "source": [
    "def compound_interest(p, t, r, n):\n",
    "    '''\n",
    "    returns the value at the end of the period\n",
    "    parameters:\n",
    "    p : principal\n",
    "    t : term\n",
    "    r : interest rate\n",
    "    n : compounding periods per year\n",
    "    '''\n",
    "\n",
    "    A = p * (1 + r/n)**(n*t)\n",
    "    return round(A,2)\n",
    "\n",
    "print(compound_interest(10000,10,0.06,12))\n",
    "print(compound_interest(50000,15,0.085,4))"
   ]
  },
  {
   "attachments": {},
   "cell_type": "markdown",
   "metadata": {},
   "source": [
    "#### 5. Write a function that takes a list of elements and returns only the integers."
   ]
  },
  {
   "cell_type": "code",
   "execution_count": 5,
   "metadata": {},
   "outputs": [
    {
     "data": {
      "text/plain": [
       "[1, 0, 9]"
      ]
     },
     "execution_count": 5,
     "metadata": {},
     "output_type": "execute_result"
    }
   ],
   "source": [
    "def int_list(LIST :list) ->list:\n",
    "    '''returns the integer list from the given list'''\n",
    "\n",
    "    l = [i for i in LIST if type(i)==int]\n",
    "    return l\n",
    "\n",
    "int_list([1,0,True,9.0005,'abcd',9,(1,2)])"
   ]
  }
 ],
 "metadata": {
  "kernelspec": {
   "display_name": "base",
   "language": "python",
   "name": "python3"
  },
  "language_info": {
   "codemirror_mode": {
    "name": "ipython",
    "version": 3
   },
   "file_extension": ".py",
   "mimetype": "text/x-python",
   "name": "python",
   "nbconvert_exporter": "python",
   "pygments_lexer": "ipython3",
   "version": "3.9.12"
  },
  "orig_nbformat": 4,
  "vscode": {
   "interpreter": {
    "hash": "20a9e06a1eee47c4abbed4ec8225ad91d78d9800d202b71b6b0a6e47016c6abd"
   }
  }
 },
 "nbformat": 4,
 "nbformat_minor": 2
}
