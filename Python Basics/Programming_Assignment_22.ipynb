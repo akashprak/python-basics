{
 "cells": [
  {
   "attachments": {},
   "cell_type": "markdown",
   "metadata": {},
   "source": [
    "#### 1. Create a function that takes three parameters where:\n",
    "- x is the start of the range (inclusive).\n",
    "- y is the end of the range (inclusive).\n",
    "- n is the divisor to be checked against.\n",
    "\n",
    "Return an ordered list with numbers in the range that are divisible by the third parameter n.\n",
    "Return an empty list if there are no numbers that are divisible by n."
   ]
  },
  {
   "cell_type": "code",
   "execution_count": 3,
   "metadata": {},
   "outputs": [
    {
     "data": {
      "text/plain": [
       "[11, 22, 33, 44, 55, 66, 77, 88, 99]"
      ]
     },
     "execution_count": 3,
     "metadata": {},
     "output_type": "execute_result"
    }
   ],
   "source": [
    "def divisible_range(x :int ,y :int ,n :int) ->list:\n",
    "    '''\n",
    "    returns list with numbers divisible by n\n",
    "    parameters:\n",
    "    x : start\n",
    "    y : end\n",
    "    n : divisor\n",
    "    '''\n",
    "\n",
    "    try:\n",
    "        if y<x:\n",
    "            return 'invalid range'\n",
    "        else:\n",
    "            L = [i for i in range(x,y+1) if i%n==0]\n",
    "            return L\n",
    "\n",
    "    except TypeError:\n",
    "        return 'expected integer values as parameter'\n",
    "\n",
    "divisible_range(5,100,11)"
   ]
  },
  {
   "attachments": {},
   "cell_type": "markdown",
   "metadata": {},
   "source": [
    "#### 2. Create a function that takes in two lists and returns True if the second list follows the first list by one element, and False otherwise. In other words, determine if the second list is the first list shifted to the right by 1.\n",
    "Example:  \n",
    "simon_says([1, 2], [5, 1]) ➞ True  \n",
    "simon_says([1, 2], [5, 5]) ➞ False  \n",
    "simon_says([1, 2, 3, 4, 5], [0, 1, 2, 3, 4]) ➞ True  \n",
    "simon_says([1, 2, 3, 4, 5], [5, 5, 1, 2, 3]) ➞ False  \n",
    "  \n",
    "**Notes**  \n",
    "- Both input lists will be of the same length, and will have a minimum length of 2.\n",
    "- The values of the 0-indexed element in the second list and the n-1th indexed element in the first list do not matter."
   ]
  },
  {
   "cell_type": "code",
   "execution_count": 6,
   "metadata": {},
   "outputs": [
    {
     "name": "stdout",
     "output_type": "stream",
     "text": [
      "True\n",
      "-----\n",
      "False\n"
     ]
    }
   ],
   "source": [
    "def isFollowing(list1 :list , list2 :list) ->bool:\n",
    "    try:\n",
    "        if len(list1) == len(list2) >= 2:\n",
    "             \n",
    "            if list1[1:]==list2[:-1]:\n",
    "                return True\n",
    "            else:\n",
    "                return False\n",
    "        \n",
    "        else:\n",
    "            return 'lists must be of equal length'\n",
    "        \n",
    "    except TypeError:\n",
    "        return 'expected list value'\n",
    "    \n",
    "print(isFollowing([1,2,3,4,5] , [2,3,4,5,6]))\n",
    "print('-'*5)\n",
    "print(isFollowing([1,2,3,4],[1,2,3,4]))"
   ]
  },
  {
   "attachments": {},
   "cell_type": "markdown",
   "metadata": {},
   "source": [
    "#### 3. A group of friends have decided to start a secret society. The name will be the first letter of each of their names, sorted in alphabetical order. Create a function that takes in a list of names and returns the name of the secret society.\n",
    "  \n",
    "Example:  \n",
    "society_name([\"Adam\", \"Sarah\", \"Malcolm\"]) ➞ \"AMS\""
   ]
  },
  {
   "cell_type": "code",
   "execution_count": 7,
   "metadata": {},
   "outputs": [
    {
     "data": {
      "text/plain": [
       "'CJMPR'"
      ]
     },
     "execution_count": 7,
     "metadata": {},
     "output_type": "execute_result"
    }
   ],
   "source": [
    "def secretSocietyName(*args :str) ->str:\n",
    "\n",
    "    if all(type(i)==str for i in args):\n",
    "        name = str()\n",
    "        for i in args:\n",
    "            name+=i[0].upper()\n",
    "        \n",
    "        return ''.join(sorted(name))\n",
    "    else:\n",
    "        return 'names must be string'\n",
    "    \n",
    "secretSocietyName('chandler', 'joey' , 'phoebe' , 'monica' , 'ross' )"
   ]
  },
  {
   "attachments": {},
   "cell_type": "markdown",
   "metadata": {},
   "source": [
    "#### 4. An isogram is a word that has no duplicate letters. Create a function that takes a string and returns either True or False depending on whether or not it's an \"isogram\".\n",
    "  \n",
    "Example:  \n",
    "is_isogram(\"Algorism\") ➞ True  \n",
    "is_isogram(\"PasSword\") ➞ False  \n",
    "Not case sensitive.  \n",
    "  \n",
    "is_isogram(\"Consecutive\") ➞ False  \n",
    "  \n",
    "**Notes**  \n",
    "- Ignore letter case (should not be case sensitive).\n",
    "- All test cases contain valid one word strings."
   ]
  },
  {
   "cell_type": "code",
   "execution_count": 8,
   "metadata": {},
   "outputs": [
    {
     "data": {
      "text/plain": [
       "True"
      ]
     },
     "execution_count": 8,
     "metadata": {},
     "output_type": "execute_result"
    }
   ],
   "source": [
    "def isIsogram(string :str) ->bool:\n",
    "\n",
    "    string = string.lower()\n",
    "    if sorted(string) == sorted(set(string)):\n",
    "        return True\n",
    "    else:\n",
    "        return False\n",
    "\n",
    "isIsogram('Algorism')"
   ]
  },
  {
   "attachments": {},
   "cell_type": "markdown",
   "metadata": {},
   "source": [
    "#### 5. Create a function that takes a string and returns True or False, depending on whether the characters are in order or not.\n",
    "Example:  \n",
    "is_in_order(\"abc\") ➞ True  \n",
    "is_in_order(\"edabit\") ➞ False  \n",
    "is_in_order(\"123\") ➞ True  \n",
    "is_in_order(\"xyzz\") ➞ True  \n",
    "  \n",
    "**Notes**  \n",
    "You don't have to handle empty strings."
   ]
  },
  {
   "cell_type": "code",
   "execution_count": 9,
   "metadata": {},
   "outputs": [
    {
     "name": "stdout",
     "output_type": "stream",
     "text": [
      "True\n",
      "False\n"
     ]
    }
   ],
   "source": [
    "def isInOrder(string :str) ->bool:\n",
    "\n",
    "    if string.isspace():\n",
    "        return 'string cannot be empty'\n",
    "    else:\n",
    "        s = ''.join(sorted(string))\n",
    "\n",
    "        if string==s:\n",
    "            return True\n",
    "        else:\n",
    "            return False\n",
    "        \n",
    "print(isInOrder('aaabxy'))\n",
    "print(isInOrder('apple'))"
   ]
  }
 ],
 "metadata": {
  "kernelspec": {
   "display_name": "base",
   "language": "python",
   "name": "python3"
  },
  "language_info": {
   "codemirror_mode": {
    "name": "ipython",
    "version": 3
   },
   "file_extension": ".py",
   "mimetype": "text/x-python",
   "name": "python",
   "nbconvert_exporter": "python",
   "pygments_lexer": "ipython3",
   "version": "3.9.12"
  },
  "orig_nbformat": 4,
  "vscode": {
   "interpreter": {
    "hash": "20a9e06a1eee47c4abbed4ec8225ad91d78d9800d202b71b6b0a6e47016c6abd"
   }
  }
 },
 "nbformat": 4,
 "nbformat_minor": 2
}
