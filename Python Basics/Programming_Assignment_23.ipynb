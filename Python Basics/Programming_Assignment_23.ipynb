{
 "cells": [
  {
   "attachments": {},
   "cell_type": "markdown",
   "metadata": {},
   "source": [
    "#### 1.Create a function that takes a number as an argument and returns True or False depending on whether the number is symmetrical or not. A number is symmetrical when it is the same as its reverse."
   ]
  },
  {
   "cell_type": "code",
   "execution_count": 1,
   "metadata": {},
   "outputs": [
    {
     "name": "stdout",
     "output_type": "stream",
     "text": [
      "True\n",
      "expected positive integer value\n"
     ]
    }
   ],
   "source": [
    "def isSymmetrical(num :int) ->bool:\n",
    "    '''checks if the entered number is symmetrical or not'''\n",
    "\n",
    "    if type(num)==int and num>=0:\n",
    "        num = str(num)\n",
    "\n",
    "        if num == num[::-1]:\n",
    "            return True\n",
    "        else:\n",
    "            return False\n",
    "    else:\n",
    "        return 'expected positive integer value'\n",
    "    \n",
    "print(isSymmetrical(5443445))\n",
    "print(isSymmetrical(56.65))"
   ]
  },
  {
   "attachments": {},
   "cell_type": "markdown",
   "metadata": {},
   "source": [
    "#### 2. Given a string of numbers separated by a comma and space, return the product of the numbers.\n",
    "  \n",
    "Example:  \n",
    "multiply_nums(\"2, 3\") ➞ 6  \n",
    "multiply_nums(\"1, 2, 3, 4\") ➞ 24"
   ]
  },
  {
   "cell_type": "code",
   "execution_count": 2,
   "metadata": {},
   "outputs": [
    {
     "data": {
      "text/plain": [
       "18234216"
      ]
     },
     "execution_count": 2,
     "metadata": {},
     "output_type": "execute_result"
    }
   ],
   "source": [
    "from functools import reduce\n",
    "\n",
    "def product(val :str):\n",
    "    val = val.split(', ')\n",
    "    val = reduce(lambda x,y:int(x)*int(y) , val)\n",
    "    return val\n",
    "\n",
    "product('11, 12, 13, 21, 22, 23')"
   ]
  },
  {
   "attachments": {},
   "cell_type": "markdown",
   "metadata": {},
   "source": [
    "#### 3. Create a function that squares every digit of a number.\n",
    "**Notes**  \n",
    "The function receives an integer and must return an integer"
   ]
  },
  {
   "cell_type": "code",
   "execution_count": 3,
   "metadata": {},
   "outputs": [
    {
     "data": {
      "text/plain": [
       "64493625"
      ]
     },
     "execution_count": 3,
     "metadata": {},
     "output_type": "execute_result"
    }
   ],
   "source": [
    "def digitSquare(num :int):\n",
    " \n",
    "    num = str(num)\n",
    "    if num.startswith('-'):\n",
    "        num = num[1:]\n",
    "\n",
    "    s = str()\n",
    "    for i in num:\n",
    "        s += str( int(i)**2 )\n",
    "\n",
    "    return int(s)\n",
    "\n",
    "digitSquare(8765)"
   ]
  },
  {
   "attachments": {},
   "cell_type": "markdown",
   "metadata": {},
   "source": [
    "#### 4. Create a function that sorts a list and removes all duplicate items from it."
   ]
  },
  {
   "cell_type": "code",
   "execution_count": 4,
   "metadata": {},
   "outputs": [
    {
     "data": {
      "text/plain": [
       "[1, 5, 56, 64, 737]"
      ]
     },
     "execution_count": 4,
     "metadata": {},
     "output_type": "execute_result"
    }
   ],
   "source": [
    "def list_sort(LIST :list) ->list:\n",
    "    try:\n",
    "        LIST = sorted(set(LIST))\n",
    "        return LIST\n",
    "    except TypeError:\n",
    "        return 'expected list value'\n",
    "    \n",
    "list_sort([1,1,5,56,5,64,737,64])"
   ]
  },
  {
   "attachments": {},
   "cell_type": "markdown",
   "metadata": {},
   "source": [
    "#### 5. Create a function that returns the mean of all digits.\n",
    "  \n",
    "Example:  \n",
    "mean(42) ➞ 3  \n",
    "mean(12345) ➞ 3  \n",
    "mean(666) ➞ 6  \n",
    "  \n",
    "**Notes**  \n",
    "- The mean of all digits is the sum of digits / how many digits there are (e.g. mean of digits in 512 is (5+1+2)/3(number of digits) = 8/3=2).\n",
    "- The mean will always be an integer."
   ]
  },
  {
   "cell_type": "code",
   "execution_count": 5,
   "metadata": {},
   "outputs": [
    {
     "data": {
      "text/plain": [
       "7"
      ]
     },
     "execution_count": 5,
     "metadata": {},
     "output_type": "execute_result"
    }
   ],
   "source": [
    "def meanOfDigits(num :int):\n",
    "    try:\n",
    "        num = str(num)\n",
    "        s = [int(i) for i in num]\n",
    "        mean = sum(s)/len(num)\n",
    "\n",
    "        return int(mean)\n",
    "    except TypeError:\n",
    "        return 'invalid input'\n",
    "    \n",
    "meanOfDigits(986)"
   ]
  }
 ],
 "metadata": {
  "kernelspec": {
   "display_name": "base",
   "language": "python",
   "name": "python3"
  },
  "language_info": {
   "codemirror_mode": {
    "name": "ipython",
    "version": 3
   },
   "file_extension": ".py",
   "mimetype": "text/x-python",
   "name": "python",
   "nbconvert_exporter": "python",
   "pygments_lexer": "ipython3",
   "version": "3.9.12"
  },
  "orig_nbformat": 4,
  "vscode": {
   "interpreter": {
    "hash": "20a9e06a1eee47c4abbed4ec8225ad91d78d9800d202b71b6b0a6e47016c6abd"
   }
  }
 },
 "nbformat": 4,
 "nbformat_minor": 2
}
