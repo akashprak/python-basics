{
 "cells": [
  {
   "attachments": {},
   "cell_type": "markdown",
   "metadata": {},
   "source": [
    "#### 1. Create a function that takes an integer and returns a list from 1 to the given number, where:\n",
    "1. If the number can be divided evenly by 4, amplify it by 10 (i.e. return 10 times the\n",
    "number).\n",
    "2. If the number cannot be divided evenly by 4, simply return the number.\n",
    "\n",
    "Example:  \n",
    "  \n",
    "amplify(4) ➞ [1, 2, 3, 40]  \n",
    "amplify(3) ➞ [1, 2, 3]  \n",
    "amplify(25) ➞ [1, 2, 3, 40, 5, 6, 7, 80, 9, 10, 11, 120, 13, 14, 15, 160,  \n",
    "17, 18, 19, 200, 21, 22, 23, 240, 25]  \n",
    "  \n",
    "**Notes**\n",
    "- The given integer will always be equal to or greater than 1.\n",
    "- Include the number (see example above).\n",
    "- To perform this problem with its intended purpose, try doing it with list comprehensions. If that's too difficult, just solve the challenge any way you can."
   ]
  },
  {
   "cell_type": "code",
   "execution_count": 1,
   "metadata": {},
   "outputs": [
    {
     "data": {
      "text/plain": [
       "[1, 2, 3, 40, 5, 6, 7, 80, 9, 10, 11, 120, 13, 14, 15]"
      ]
     },
     "execution_count": 1,
     "metadata": {},
     "output_type": "execute_result"
    }
   ],
   "source": [
    "def amplifyFour(n :int) -> list:\n",
    "    if type(n)==int and n>0:\n",
    "        l = [i*10 if i%4==0 else i for i in range(1,n+1)]\n",
    "        return l\n",
    "    else:\n",
    "        return 'positive integer expected'\n",
    "    \n",
    "amplifyFour(15)"
   ]
  },
  {
   "attachments": {},
   "cell_type": "markdown",
   "metadata": {},
   "source": [
    "#### 2. Create a function that takes a list of numbers and return the number that's unique.\n",
    "Example:  \n",
    "unique([3, 3, 3, 7, 3, 3]) ➞ 7  \n",
    "unique([0, 0, 0.77, 0, 0]) ➞ 0.77  \n",
    "unique([0, 1, 1, 1, 1, 1, 1, 1]) ➞ 0  \n",
    "  \n",
    "**Notes**  \n",
    "Test cases will always have exactly one unique number while all others are the same."
   ]
  },
  {
   "cell_type": "code",
   "execution_count": 2,
   "metadata": {},
   "outputs": [
    {
     "data": {
      "text/plain": [
       "8"
      ]
     },
     "execution_count": 2,
     "metadata": {},
     "output_type": "execute_result"
    }
   ],
   "source": [
    "def unique(LIST :list):\n",
    "    s = list(set(LIST))\n",
    "    uniq = s[0] if LIST.count(s[0])==1 else s[1]\n",
    "    return uniq\n",
    "\n",
    "unique([7,7,7,7,8,7,7,7])"
   ]
  },
  {
   "attachments": {},
   "cell_type": "markdown",
   "metadata": {},
   "source": [
    "#### 3. Your task is to create a Circle constructor that creates a circle with a radius provided by an argument. The circles constructed must have two getters getArea() (PIr^2) and getPerimeter() (2PI*r) which give both respective areas and perimeter (circumference).\n",
    "  \n",
    "  **Notes**  \n",
    "  Round results up to the nearest integer"
   ]
  },
  {
   "cell_type": "code",
   "execution_count": 3,
   "metadata": {},
   "outputs": [
    {
     "name": "stdout",
     "output_type": "stream",
     "text": [
      "area = 314\n",
      "perimeter = 63\n"
     ]
    }
   ],
   "source": [
    "from math import pi\n",
    "\n",
    "class Circle:\n",
    "    def __init__(self,radius) -> None:\n",
    "        self.radius = radius\n",
    "\n",
    "    def getArea(self):\n",
    "        return round(pi * self.radius**2)\n",
    "    \n",
    "    def getPerimeter(self):\n",
    "        return round(2 * pi * self.radius)\n",
    "    \n",
    "circle = Circle(10)\n",
    "print(f'area = {circle.getArea()}')\n",
    "print(f'perimeter = {circle.getPerimeter()}')"
   ]
  },
  {
   "attachments": {},
   "cell_type": "markdown",
   "metadata": {},
   "source": [
    "#### 4. Create a function that takes a list of strings and return a list, sorted from shortest to longest.\n",
    "  \n",
    "Example:  \n",
    "sort_by_length([\"Google\", \"Apple\", \"Microsoft\"]) ➞ [\"Apple\", \"Google\", \"Microsoft\"]  \n",
    "  \n",
    "**Notes**  \n",
    "All test cases contain lists with strings of different lengths, so you won't have to deal with multiple strings of the same length."
   ]
  },
  {
   "cell_type": "code",
   "execution_count": 4,
   "metadata": {},
   "outputs": [
    {
     "data": {
      "text/plain": [
       "['Euler',\n",
       " 'Newton',\n",
       " 'Einstein',\n",
       " 'MaxPlanck',\n",
       " 'Heisenberg',\n",
       " 'MadameCurie',\n",
       " 'BernhardRiemann']"
      ]
     },
     "execution_count": 4,
     "metadata": {},
     "output_type": "execute_result"
    }
   ],
   "source": [
    "def lengthSort(LIST :list[str]) ->list:\n",
    "    '''returns list sorted by length'''\n",
    "\n",
    "    try:\n",
    "        if all(type(i)==str for i in LIST):\n",
    "            return sorted(LIST, key= lambda x:len(x))\n",
    "        \n",
    "        else:\n",
    "            return 'expected list of strings'\n",
    "        \n",
    "    except TypeError:\n",
    "        return 'expected list as argument'\n",
    "    \n",
    "lengthSort(['Einstein' , 'Newton' , 'MadameCurie' , 'Euler' ,\n",
    "             'Heisenberg' , 'MaxPlanck' , 'BernhardRiemann' ])"
   ]
  },
  {
   "attachments": {},
   "cell_type": "markdown",
   "metadata": {},
   "source": [
    "#### 5. Create a function that validates whether three given integers form a Pythagorean triplet. The sum of the squares of the two smallest integers must equal the square of the largest number to be validated.\n",
    "  \n",
    "**Notes**  \n",
    "Numbers may not be given in a sorted order."
   ]
  },
  {
   "cell_type": "code",
   "execution_count": 5,
   "metadata": {},
   "outputs": [
    {
     "name": "stdout",
     "output_type": "stream",
     "text": [
      "True\n",
      "expected integer value\n"
     ]
    }
   ],
   "source": [
    "def isTriplet(num1 :int , num2 :int , num3 :int) ->bool:\n",
    "    numlist = [num1,num2,num3]\n",
    "    \n",
    "    if type(num1)==type(num2)==type(num3)==int:\n",
    "        \n",
    "        if all(i>0 for i in numlist):\n",
    "            hyp = sorted(numlist)[-1]\n",
    "            base,alt,_ = sorted(numlist)\n",
    "\n",
    "            if hyp**2 == base**2 + alt**2:\n",
    "                return True\n",
    "            else:\n",
    "                return False\n",
    "            \n",
    "        else:\n",
    "            return 'values must be positive'\n",
    "        \n",
    "    else:\n",
    "        return 'expected integer value'\n",
    "    \n",
    "print(isTriplet(5,3,4))\n",
    "print(isTriplet(1,2,4.5))"
   ]
  }
 ],
 "metadata": {
  "kernelspec": {
   "display_name": "base",
   "language": "python",
   "name": "python3"
  },
  "language_info": {
   "codemirror_mode": {
    "name": "ipython",
    "version": 3
   },
   "file_extension": ".py",
   "mimetype": "text/x-python",
   "name": "python",
   "nbconvert_exporter": "python",
   "pygments_lexer": "ipython3",
   "version": "3.9.12"
  },
  "orig_nbformat": 4,
  "vscode": {
   "interpreter": {
    "hash": "20a9e06a1eee47c4abbed4ec8225ad91d78d9800d202b71b6b0a6e47016c6abd"
   }
  }
 },
 "nbformat": 4,
 "nbformat_minor": 2
}
