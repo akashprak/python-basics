{
 "cells": [
  {
   "attachments": {},
   "cell_type": "markdown",
   "metadata": {},
   "source": [
    "#### 1. Create a function that takes three integer arguments (a, b, c) and returns the amount of integers which are of equal value.\n",
    "  \n",
    "Example:  \n",
    "equal(3, 4, 3) ➞ 2  \n",
    "equal(1, 1, 1) ➞ 3  \n",
    "equal(3, 4, 1) ➞ 0  \n",
    "  \n",
    "**Notes**  \n",
    "Your function must return 0, 2 or 3."
   ]
  },
  {
   "cell_type": "code",
   "execution_count": 1,
   "metadata": {},
   "outputs": [
    {
     "name": "stdout",
     "output_type": "stream",
     "text": [
      "3\n",
      "2\n",
      "0\n"
     ]
    }
   ],
   "source": [
    "def equalityCount(a :int, b :int, c :int) ->int:\n",
    "    if a == b == c:\n",
    "        return 3\n",
    "    \n",
    "    elif a != b != c:\n",
    "        return 0\n",
    "    \n",
    "    else:\n",
    "        return 2\n",
    "    \n",
    "print(equalityCount(5,5,5))\n",
    "print(equalityCount(5,6,6))\n",
    "print(equalityCount(1,2,3))"
   ]
  },
  {
   "attachments": {},
   "cell_type": "markdown",
   "metadata": {},
   "source": [
    "#### 2. Write a function that converts a dictionary into a list of keys-values tuples. Return the elements in the list in alphabetical order."
   ]
  },
  {
   "cell_type": "code",
   "execution_count": 2,
   "metadata": {},
   "outputs": [
    {
     "data": {
      "text/plain": [
       "[('K', 2), ('M', 1), ('X', 3)]"
      ]
     },
     "execution_count": 2,
     "metadata": {},
     "output_type": "execute_result"
    }
   ],
   "source": [
    "def dictToList(DICT :dict) ->list:\n",
    "    DICT = DICT.items()\n",
    "    return sorted(DICT)\n",
    "\n",
    "dictToList( {'M':1 , 'K':2 , 'X':3} )"
   ]
  },
  {
   "attachments": {},
   "cell_type": "markdown",
   "metadata": {},
   "source": [
    "#### 3. Write a function that creates a dictionary with each (key, value) pair being the (lower case,upper case) versions of a letter, respectively.\n",
    "Example:  \n",
    "mapping([\"p\", \"s\"]) ➞ { \"p\": \"P\", \"s\": \"S\" }  \n",
    "mapping([\"a\", \"b\", \"c\"]) ➞ { \"a\": \"A\", \"b\": \"B\", \"c\": \"C\" }  \n",
    "mapping([\"a\", \"v\", \"y\", \"z\"]) ➞ { \"a\": \"A\", \"v\": \"V\", \"y\": \"Y\", \"z\": \"Z\" }  \n",
    "  \n",
    "**Notes**  \n",
    "All of the letters in the input list will always be lowercase."
   ]
  },
  {
   "cell_type": "code",
   "execution_count": 3,
   "metadata": {},
   "outputs": [
    {
     "name": "stdout",
     "output_type": "stream",
     "text": [
      "{'a': 'A', 'b': 'B', 'c': 'C'}\n",
      "----------\n",
      "expected  list of strings \n"
     ]
    }
   ],
   "source": [
    "def mapping(LIST :list[str]) ->dict:\n",
    "    '''\n",
    "    maps the input in list to their uppercase values\n",
    "    and returns in a dictionary\n",
    "    '''\n",
    "\n",
    "    try:\n",
    "        D = {i.lower():i.upper() for i in LIST}\n",
    "        return D\n",
    "    \n",
    "    except AttributeError:\n",
    "        return 'expected  list of strings '\n",
    "    \n",
    "print(mapping(['a','b','c']))\n",
    "print('-'*10)\n",
    "print(mapping([1,2]))"
   ]
  },
  {
   "attachments": {},
   "cell_type": "markdown",
   "metadata": {},
   "source": [
    "#### 4. Write a function, that replaces all vowels in a string with a specified vowel.\n",
    "Example:  \n",
    "vow_replace(\"apples and bananas\", \"u\") ➞ \"upplus und bununus\"  \n",
    "vow_replace(\"cheese casserole\", \"o\") ➞ \"chooso cossorolo\"  \n",
    "vow_replace(\"stuffed jalapeno poppers\", \"e\") ➞ \"steffed jelepene peppers\"  \n",
    "  \n",
    "**Notes**  \n",
    "All words will be lowercase. Y is not considered a vowel."
   ]
  },
  {
   "cell_type": "code",
   "execution_count": 4,
   "metadata": {},
   "outputs": [
    {
     "name": "stdout",
     "output_type": "stream",
     "text": [
      "chxcxlxtx mxlkshxkx\n"
     ]
    }
   ],
   "source": [
    "def vowelReplace(string :str , r :str) ->str:\n",
    "    '''replaces vowels in the string with r'''\n",
    "\n",
    "    vowels = 'aeiou'\n",
    "    for i in vowels:\n",
    "        if i in string:\n",
    "            string = string.replace(i,r)\n",
    "\n",
    "    return string\n",
    "\n",
    "print(vowelReplace('chocolate milkshake' , 'x'))"
   ]
  },
  {
   "attachments": {},
   "cell_type": "markdown",
   "metadata": {},
   "source": [
    "#### 5. Create a function that takes a string as input and capitalizes a letter if its ASCII code is even and returns its lower case version if its ASCII code is odd."
   ]
  },
  {
   "cell_type": "code",
   "execution_count": 5,
   "metadata": {},
   "outputs": [
    {
     "data": {
      "text/plain": [
       "'aRe you waTcHiNg cLoseLy?'"
      ]
     },
     "execution_count": 5,
     "metadata": {},
     "output_type": "execute_result"
    }
   ],
   "source": [
    "def ASCIIcapitalize(string :str) ->str:\n",
    "    out = str()\n",
    "    for i in string:\n",
    "        if ord(i)%2==0:\n",
    "            out += i.upper()\n",
    "        \n",
    "        else:\n",
    "            out += i.lower()\n",
    "\n",
    "    return out\n",
    "\n",
    "ASCIIcapitalize('Are you watching closely?')"
   ]
  }
 ],
 "metadata": {
  "kernelspec": {
   "display_name": "base",
   "language": "python",
   "name": "python3"
  },
  "language_info": {
   "codemirror_mode": {
    "name": "ipython",
    "version": 3
   },
   "file_extension": ".py",
   "mimetype": "text/x-python",
   "name": "python",
   "nbconvert_exporter": "python",
   "pygments_lexer": "ipython3",
   "version": "3.9.12"
  },
  "orig_nbformat": 4,
  "vscode": {
   "interpreter": {
    "hash": "20a9e06a1eee47c4abbed4ec8225ad91d78d9800d202b71b6b0a6e47016c6abd"
   }
  }
 },
 "nbformat": 4,
 "nbformat_minor": 2
}
