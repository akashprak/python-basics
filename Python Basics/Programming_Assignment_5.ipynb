{
 "cells": [
  {
   "attachments": {},
   "cell_type": "markdown",
   "metadata": {},
   "source": [
    "#### 1. Write a Python program to find LCM?"
   ]
  },
  {
   "cell_type": "code",
   "execution_count": 1,
   "metadata": {},
   "outputs": [
    {
     "name": "stdout",
     "output_type": "stream",
     "text": [
      "LCM of (7, 5, 12) is 420\n"
     ]
    }
   ],
   "source": [
    "def lcm(*args :int):\n",
    "    '''returns the LCM of the given integers'''\n",
    "\n",
    "    abs_val=map(abs,args)\n",
    "    lcm_val=max(abs_val)\n",
    "    \n",
    "    while True:\n",
    "        for i in args:\n",
    "            if (lcm_val % i) != 0:\n",
    "                lcm_val += 1\n",
    "                break\n",
    "        else:\n",
    "            return f'LCM of {args} is {lcm_val}'\n",
    "\n",
    "print(lcm(7,5,12))"
   ]
  },
  {
   "attachments": {},
   "cell_type": "markdown",
   "metadata": {},
   "source": [
    "#### 2. Write a Python program to find HCF?"
   ]
  },
  {
   "cell_type": "code",
   "execution_count": 2,
   "metadata": {},
   "outputs": [
    {
     "name": "stdout",
     "output_type": "stream",
     "text": [
      "HCF of (100, 36, 76) is 4\n"
     ]
    }
   ],
   "source": [
    "def hcf(*args :int):\n",
    "    '''returns the HCF of given integers'''\n",
    "\n",
    "    abs_val=map(abs,args)\n",
    "    hcf_val=min(abs_val)\n",
    "\n",
    "    while True:\n",
    "        for i in args:\n",
    "            if (i % hcf_val) != 0:\n",
    "                hcf_val -= 1\n",
    "                break\n",
    "        else:\n",
    "            return f'HCF of {args} is {hcf_val}'\n",
    "\n",
    "print(hcf(100,36,76))"
   ]
  },
  {
   "attachments": {},
   "cell_type": "markdown",
   "metadata": {},
   "source": [
    "#### 3. Write a Python program to convert Decimal to Binary, Octal and Hexadecimal?"
   ]
  },
  {
   "cell_type": "code",
   "execution_count": 3,
   "metadata": {},
   "outputs": [
    {
     "name": "stdout",
     "output_type": "stream",
     "text": [
      "The decimal number 44 in -\n",
      "Binary: 101100\n",
      "Octal : 54\n",
      "Hexadecimal : 2c\n"
     ]
    }
   ],
   "source": [
    "def decimal_convert(num):\n",
    "    '''converts decimal number into Binary , Octal and Hexadecimal'''\n",
    "\n",
    "    return f'''The decimal number {num} in -\n",
    "Binary: {bin(num)[2:]}\n",
    "Octal : {oct(num)[2:]}\n",
    "Hexadecimal : {hex(num)[2:]}'''\n",
    "\n",
    "print(decimal_convert(44))"
   ]
  },
  {
   "attachments": {},
   "cell_type": "markdown",
   "metadata": {},
   "source": [
    "#### 4. Write a Python program to find ASCII value of a character?"
   ]
  },
  {
   "cell_type": "code",
   "execution_count": 4,
   "metadata": {},
   "outputs": [
    {
     "name": "stdout",
     "output_type": "stream",
     "text": [
      "The ASCII value of k is 107\n"
     ]
    }
   ],
   "source": [
    "def find_ASCII(char):\n",
    "    '''prints the ASCII value of a character'''\n",
    "\n",
    "    if len(char)!=1:\n",
    "        print('Enter single character input')\n",
    "\n",
    "    else:\n",
    "        print(f'The ASCII value of {char} is {ord(char)}')\n",
    "\n",
    "find_ASCII('k')"
   ]
  },
  {
   "attachments": {},
   "cell_type": "markdown",
   "metadata": {},
   "source": [
    "#### 5. Write a Python program to make a simple calculator with 4 basic mathematical operations?"
   ]
  },
  {
   "cell_type": "code",
   "execution_count": 5,
   "metadata": {},
   "outputs": [
    {
     "name": "stdout",
     "output_type": "stream",
     "text": [
      "1000.0 - 167.0 = 833.0\n"
     ]
    }
   ],
   "source": [
    "def calculator():\n",
    "    '''calculator with the 4 basic mathematical operations'''\n",
    "\n",
    "    op = input('''Enter operation to perform:\n",
    "    Addition ( + ) \n",
    "    Subtraction ( - ) \n",
    "    Multiplication ( * ) \n",
    "    Division ( / )''')\n",
    "\n",
    "    if op not in '+-*/':\n",
    "        print('Enter valid operator')\n",
    "\n",
    "    else:\n",
    "        num1 = float(input('Enter first number'))\n",
    "        num2 = float(input('Enter second number'))\n",
    "\n",
    "        if op=='+':\n",
    "            print(f'{num1} + {num2} = {num1+num2}')\n",
    "\n",
    "        elif op=='-':\n",
    "            print(f'{num1} - {num2} = {num1-num2}')\n",
    "\n",
    "        elif op=='*':\n",
    "            print(f'{num1} * {num2} = {num1*num2}')\n",
    "\n",
    "        else:\n",
    "            print(f'{num1} / {num2} = {num1/num2}')\n",
    "\n",
    "calculator()"
   ]
  }
 ],
 "metadata": {
  "kernelspec": {
   "display_name": "base",
   "language": "python",
   "name": "python3"
  },
  "language_info": {
   "codemirror_mode": {
    "name": "ipython",
    "version": 3
   },
   "file_extension": ".py",
   "mimetype": "text/x-python",
   "name": "python",
   "nbconvert_exporter": "python",
   "pygments_lexer": "ipython3",
   "version": "3.9.12"
  },
  "orig_nbformat": 4,
  "vscode": {
   "interpreter": {
    "hash": "20a9e06a1eee47c4abbed4ec8225ad91d78d9800d202b71b6b0a6e47016c6abd"
   }
  }
 },
 "nbformat": 4,
 "nbformat_minor": 2
}
