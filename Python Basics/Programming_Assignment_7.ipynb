{
 "cells": [
  {
   "attachments": {},
   "cell_type": "markdown",
   "metadata": {},
   "source": [
    "#### 1. Write a Python program to find the sum of array?"
   ]
  },
  {
   "cell_type": "code",
   "execution_count": 1,
   "metadata": {},
   "outputs": [
    {
     "name": "stdout",
     "output_type": "stream",
     "text": [
      "Enter numeric array\n",
      "The sum of [1, 2, 3, 4.5] is Enter numeric array\n"
     ]
    }
   ],
   "source": [
    "def sum_of_array(arr):\n",
    "    '''returns the sum of the array'''\n",
    "\n",
    "    array = filter(lambda x: type(x) in (int,float) , arr)\n",
    "    \n",
    "    if all(array) and list(array):\n",
    "        sum_ = int()\n",
    "        for i in arr:\n",
    "            sum_+=i\n",
    "        return sum_\n",
    "    \n",
    "    else:\n",
    "        return 'Enter numeric array'\n",
    "\n",
    "print(sum_of_array(['a','b','c']))\n",
    "\n",
    "l=[1,2,3,4.5]\n",
    "print(f'The sum of {l} is {sum_of_array(l)}')"
   ]
  },
  {
   "attachments": {},
   "cell_type": "markdown",
   "metadata": {},
   "source": [
    "#### 2. Write a Python program to find largest element in the array?"
   ]
  },
  {
   "cell_type": "code",
   "execution_count": 2,
   "metadata": {},
   "outputs": [
    {
     "data": {
      "text/plain": [
       "150"
      ]
     },
     "execution_count": 2,
     "metadata": {},
     "output_type": "execute_result"
    }
   ],
   "source": [
    "def largest(arr):\n",
    "    '''returns the largest numeric element in the array.\n",
    "    works even if the array has non numeric elements'''\n",
    "\n",
    "    l=[i for i in arr if type(i) in (int,float)]\n",
    "\n",
    "    if l:\n",
    "        return max(l)\n",
    "\n",
    "    else:\n",
    "        return 'Array has no numeric elements'\n",
    "\n",
    "largest([1,150,'ash',20])"
   ]
  },
  {
   "attachments": {},
   "cell_type": "markdown",
   "metadata": {},
   "source": [
    "#### 3. Write a Python program for array rotation?"
   ]
  },
  {
   "cell_type": "code",
   "execution_count": 3,
   "metadata": {},
   "outputs": [
    {
     "name": "stdout",
     "output_type": "stream",
     "text": [
      "[500, 400, ['a', 'c', 'b'], 300, 200, 100]\n"
     ]
    }
   ],
   "source": [
    "def arr_rotate(arr) -> list:\n",
    "    '''returns the rotated array.\n",
    "    also rotates nested arrays'''\n",
    "   \n",
    "    try:\n",
    "        if isinstance(arr,str):\n",
    "            return arr\n",
    "        \n",
    "        else:\n",
    "            arr = list(arr)\n",
    "            arr.reverse()\n",
    "            \n",
    "            for i,j in enumerate(arr):\n",
    "                arr[i]=arr_rotate(j)\n",
    "            \n",
    "            return arr\n",
    "\n",
    "    except TypeError:\n",
    "        return arr\n",
    "\n",
    "print(arr_rotate([100,200,300,{'a','b','c'},400,500]))"
   ]
  },
  {
   "attachments": {},
   "cell_type": "markdown",
   "metadata": {},
   "source": [
    "#### 4. Write a Python program to split the array and add the first part to the end?"
   ]
  },
  {
   "cell_type": "code",
   "execution_count": 7,
   "metadata": {},
   "outputs": [
    {
     "name": "stdout",
     "output_type": "stream",
     "text": [
      "['x', 'y', 'z', 1, 2, 3]\n"
     ]
    }
   ],
   "source": [
    "def array_split(arr):\n",
    "    '''splits the array in half and adds the first part to the end'''\n",
    "\n",
    "    try:\n",
    "        arr = list(arr)\n",
    "        l = len(arr)//2\n",
    "        \n",
    "        return arr[l:len(arr)]+arr[0:l]\n",
    "\n",
    "    except TypeError:\n",
    "        return 'Input must be an array'\n",
    "\n",
    "X = [1,2,3,'x','y','z']\n",
    "print(array_split(X))"
   ]
  },
  {
   "attachments": {},
   "cell_type": "markdown",
   "metadata": {},
   "source": [
    "#### 5. Write a Python program to check if given array is monotonic?"
   ]
  },
  {
   "cell_type": "code",
   "execution_count": 6,
   "metadata": {},
   "outputs": [
    {
     "name": "stdout",
     "output_type": "stream",
     "text": [
      "The array [1, 2, 4, 5, 100, 101] is monotonic\n"
     ]
    }
   ],
   "source": [
    "def is_monotonic(arr):\n",
    "    '''checks if the given array is monotonic'''\n",
    "\n",
    "    try:\n",
    "        arr = list(arr)\n",
    "\n",
    "    except TypeError:\n",
    "        return 'Input must be an array'\n",
    "\n",
    "    else:\n",
    "        array = all(type(i) in (int,float) for i in arr)\n",
    "    \n",
    "        if array and arr:\n",
    "\n",
    "            m = all(arr[i] >= arr[i+1] for i in range(len(arr)-1))\n",
    "            n = all(arr[i] <= arr[i+1] for i in range(len(arr)-1))\n",
    "\n",
    "            if m or n:\n",
    "                return f'The array {arr} is monotonic'\n",
    "\n",
    "            else:\n",
    "                return f'The array {arr} is not monotonic '\n",
    "                \n",
    "        else:\n",
    "            return 'The array must be numeric'\n",
    "\n",
    "l = [1,2,4,5,100,101]\n",
    "print(is_monotonic(l))"
   ]
  }
 ],
 "metadata": {
  "kernelspec": {
   "display_name": "base",
   "language": "python",
   "name": "python3"
  },
  "language_info": {
   "codemirror_mode": {
    "name": "ipython",
    "version": 3
   },
   "file_extension": ".py",
   "mimetype": "text/x-python",
   "name": "python",
   "nbconvert_exporter": "python",
   "pygments_lexer": "ipython3",
   "version": "3.9.12 (main, Apr  4 2022, 05:22:27) [MSC v.1916 64 bit (AMD64)]"
  },
  "orig_nbformat": 4,
  "vscode": {
   "interpreter": {
    "hash": "20a9e06a1eee47c4abbed4ec8225ad91d78d9800d202b71b6b0a6e47016c6abd"
   }
  }
 },
 "nbformat": 4,
 "nbformat_minor": 2
}
