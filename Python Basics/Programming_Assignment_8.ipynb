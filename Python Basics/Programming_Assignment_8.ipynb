{
 "cells": [
  {
   "attachments": {},
   "cell_type": "markdown",
   "metadata": {},
   "source": [
    "#### 1. Write a Python program to add two Matrices?"
   ]
  },
  {
   "cell_type": "code",
   "execution_count": 1,
   "metadata": {},
   "outputs": [],
   "source": [
    "def matrix_addition(m1,m2):\n",
    "    '''returns the added matrix'''\n",
    "\n",
    "    try:\n",
    "        m1,m2 = list(m1),list(m2)\n",
    "\n",
    "        if len(m1) == len(m2):\n",
    "            col = len(m1[0])\n",
    "\n",
    "            if all(( len(i)==col and len(j)==col for i,j in zip(m1,m2) )):\n",
    "\n",
    "                l=list()\n",
    "                for i in range(len(m1)):\n",
    "\n",
    "                    m1_type = all( isinstance(x,(int,float,complex)) for x in m1[i]) \n",
    "                    m2_type = all( isinstance(x,(int,float,complex)) for x in m2[i])\n",
    "\n",
    "                    if m1_type and m2_type:\n",
    "                        l.append([])\n",
    "                        \n",
    "                        for k in range(col):\n",
    "                            l[i].append(m1[i][k]+m2[i][k])\n",
    "                    \n",
    "                    else:\n",
    "                        return 'Array elements must be numeric'\n",
    "\n",
    "            else:\n",
    "                return 'Number of columns must be equal'\n",
    "\n",
    "        else:\n",
    "            return 'Number of rows must be equal'\n",
    "\n",
    "        \n",
    "        return l\n",
    "\n",
    "    except TypeError:\n",
    "        return 'Input must be an array'"
   ]
  },
  {
   "cell_type": "code",
   "execution_count": 2,
   "metadata": {},
   "outputs": [
    {
     "data": {
      "text/plain": [
       "[[11, 22], [33, 44], [55, 66]]"
      ]
     },
     "execution_count": 2,
     "metadata": {},
     "output_type": "execute_result"
    }
   ],
   "source": [
    "m=[[1,2],[3,4],[5,6]]\n",
    "n=[[10,20],[30,40],[50,60]]\n",
    "\n",
    "matrix_addition(m,n)"
   ]
  },
  {
   "attachments": {},
   "cell_type": "markdown",
   "metadata": {},
   "source": [
    "#### 2. Write a Python program to multiply two Matrices?"
   ]
  },
  {
   "cell_type": "code",
   "execution_count": 3,
   "metadata": {},
   "outputs": [],
   "source": [
    "def matrix_mul(m1,m2):\n",
    "    '''returns multiplied matrix'''\n",
    "\n",
    "    try:\n",
    "        \n",
    "        if all(len(m2) == len(i) for i in m1):\n",
    "\n",
    "            l=list()\n",
    "            for i in range(len(m1)):\n",
    "                l.append([])\n",
    "\n",
    "                for j in range(len(m2[0])):\n",
    "                    l[i].append(0)\n",
    "\n",
    "                    for k in range(len(m2)):\n",
    "                        l[i][j] += m1[i][k] * m2[k][j]\n",
    "\n",
    "            return l\n",
    "\n",
    "        else:\n",
    "            return 'Matrix multiplication is invalid for the given array'\n",
    "\n",
    "    except TypeError:\n",
    "        return 'Input must be an array'"
   ]
  },
  {
   "cell_type": "code",
   "execution_count": 4,
   "metadata": {},
   "outputs": [
    {
     "data": {
      "text/plain": [
       "[[70, 80, 90], [700, 800, 900]]"
      ]
     },
     "execution_count": 4,
     "metadata": {},
     "output_type": "execute_result"
    }
   ],
   "source": [
    "a=[[1,2,3,4],[10,20,30,40]]\n",
    "b=[[1,2,3],[4,5,6],[7,8,9],[10,11,12]]\n",
    "\n",
    "matrix_mul(a,b)"
   ]
  },
  {
   "attachments": {},
   "cell_type": "markdown",
   "metadata": {},
   "source": [
    "#### 3. Write a Python program to transpose a matrix?"
   ]
  },
  {
   "cell_type": "code",
   "execution_count": 5,
   "metadata": {},
   "outputs": [],
   "source": [
    "def transpose(M):\n",
    "    '''returns the transpose of matrix'''\n",
    "\n",
    "    l=list()\n",
    "    for i in range(len(M[0])):\n",
    "        l.append([])\n",
    "\n",
    "        for j in range(len(M)):\n",
    "            l[i].append(M[j][i])\n",
    "\n",
    "    return l"
   ]
  },
  {
   "cell_type": "code",
   "execution_count": 6,
   "metadata": {},
   "outputs": [
    {
     "data": {
      "text/plain": [
       "[[10, 50], [100, 500], [1000, 5000]]"
      ]
     },
     "execution_count": 6,
     "metadata": {},
     "output_type": "execute_result"
    }
   ],
   "source": [
    "m=[[10,100,1000],[50,500,5000]]\n",
    "transpose(m)"
   ]
  },
  {
   "attachments": {},
   "cell_type": "markdown",
   "metadata": {},
   "source": [
    "#### 4. Write a Python program to sort words in alphabetic order?"
   ]
  },
  {
   "cell_type": "code",
   "execution_count": 7,
   "metadata": {},
   "outputs": [
    {
     "name": "stdout",
     "output_type": "stream",
     "text": [
      "eiiiqrtuwy\n"
     ]
    }
   ],
   "source": [
    "def alphabetic_sort(w):\n",
    "    '''returns word sorted alphabetically'''\n",
    "\n",
    "    w=''.join(sorted(w))\n",
    "    return w\n",
    "\n",
    "print(alphabetic_sort('qwertyuiii'))"
   ]
  },
  {
   "attachments": {},
   "cell_type": "markdown",
   "metadata": {},
   "source": [
    "#### 5. Write a Python program to remove punctuation from a string?"
   ]
  },
  {
   "cell_type": "code",
   "execution_count": 8,
   "metadata": {},
   "outputs": [
    {
     "name": "stdout",
     "output_type": "stream",
     "text": [
      "The Dark Knight\n"
     ]
    }
   ],
   "source": [
    "def remove_punctuation(string):\n",
    "    '''returns string with punctuations removed'''\n",
    "\n",
    "    punc = '''.,'\"?!(){}[]-:;'''\n",
    "    for i in punc:\n",
    "        string = string.replace(i,'')\n",
    "\n",
    "    return string\n",
    "\n",
    "s='The- [Dark] -Knight!'\n",
    "print(remove_punctuation(s))"
   ]
  }
 ],
 "metadata": {
  "kernelspec": {
   "display_name": "base",
   "language": "python",
   "name": "python3"
  },
  "language_info": {
   "codemirror_mode": {
    "name": "ipython",
    "version": 3
   },
   "file_extension": ".py",
   "mimetype": "text/x-python",
   "name": "python",
   "nbconvert_exporter": "python",
   "pygments_lexer": "ipython3",
   "version": "3.9.12 (main, Apr  4 2022, 05:22:27) [MSC v.1916 64 bit (AMD64)]"
  },
  "orig_nbformat": 4,
  "vscode": {
   "interpreter": {
    "hash": "20a9e06a1eee47c4abbed4ec8225ad91d78d9800d202b71b6b0a6e47016c6abd"
   }
  }
 },
 "nbformat": 4,
 "nbformat_minor": 2
}
