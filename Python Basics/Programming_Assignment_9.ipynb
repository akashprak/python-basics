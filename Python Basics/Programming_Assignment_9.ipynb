{
 "cells": [
  {
   "attachments": {},
   "cell_type": "markdown",
   "metadata": {},
   "source": [
    "#### 1. Write a Python program to check if the given number is a disarium number?"
   ]
  },
  {
   "cell_type": "code",
   "execution_count": 1,
   "metadata": {},
   "outputs": [
    {
     "name": "stdout",
     "output_type": "stream",
     "text": [
      "175 is a Disarium number\n"
     ]
    }
   ],
   "source": [
    "def isDisarium(num):\n",
    "    '''returns if the number is a disarium number or not'''\n",
    "\n",
    "    if  not isinstance(num,int):\n",
    "        return 'Enter integer value only'\n",
    "\n",
    "    else:\n",
    "        if num>0:\n",
    "            D=0\n",
    "            for i,j in enumerate(str(num)):\n",
    "                D += int(j)**(i+1)\n",
    "            if num == D:\n",
    "                return f'{num} is a Disarium number'\n",
    "\n",
    "            else:\n",
    "                return f'{num} is not a Disarium number'\n",
    "\n",
    "        else:\n",
    "            return 'The input must be Non Zero and Non Negative'\n",
    "\n",
    "print(isDisarium(175))"
   ]
  },
  {
   "attachments": {},
   "cell_type": "markdown",
   "metadata": {},
   "source": [
    "#### 2. Write a Python program to print all disarium numbers between 1 to 100?"
   ]
  },
  {
   "cell_type": "code",
   "execution_count": 2,
   "metadata": {},
   "outputs": [
    {
     "name": "stdout",
     "output_type": "stream",
     "text": [
      "The Disarium numbers between 1 to 100\n",
      "1  2  3  4  5  6  7  8  9  89  "
     ]
    }
   ],
   "source": [
    "def disarium(n):\n",
    "    '''returns True if number is Disarium'''\n",
    "\n",
    "    D = 0\n",
    "    if n>0:\n",
    "        for i,j in enumerate(str(n)):\n",
    "            D += int(j)**(i+1)\n",
    "        return n == D\n",
    "\n",
    "print('The Disarium numbers between 1 to 100')\n",
    "for i in range(1,101):\n",
    "    if disarium(i):\n",
    "        print(i,end='  ')"
   ]
  },
  {
   "attachments": {},
   "cell_type": "markdown",
   "metadata": {},
   "source": [
    "#### 3. Write a Python program to check if the given number is a Happy number?"
   ]
  },
  {
   "cell_type": "code",
   "execution_count": 3,
   "metadata": {},
   "outputs": [],
   "source": [
    "def isHappy(num :int):\n",
    "    '''returns if the number is a Happy number or not'''\n",
    "    \n",
    "    try:\n",
    "        int(num)\n",
    "\n",
    "        if num >= 1:\n",
    "            S=set()\n",
    "            N=num\n",
    "            while True:\n",
    "                N = sum( [int(i)**2 for i in str(N)] )\n",
    "\n",
    "                if N == 1:\n",
    "                    return f'{num} is a Happy number'\n",
    "                elif N in S:\n",
    "                    return f'{num} is not a Happy number'\n",
    "\n",
    "                S.add(N)\n",
    "\n",
    "        else:\n",
    "            return 'Enter positive integer'\n",
    "\n",
    "    except (TypeError,ValueError):\n",
    "        return 'Enter integer value'"
   ]
  },
  {
   "cell_type": "code",
   "execution_count": 4,
   "metadata": {},
   "outputs": [
    {
     "name": "stdout",
     "output_type": "stream",
     "text": [
      "19 is a Happy number\n"
     ]
    }
   ],
   "source": [
    "print(isHappy(19))"
   ]
  },
  {
   "attachments": {},
   "cell_type": "markdown",
   "metadata": {},
   "source": [
    "#### 4. Write a Python program to print all Happy numbers between 1 and 100?"
   ]
  },
  {
   "cell_type": "code",
   "execution_count": 5,
   "metadata": {},
   "outputs": [
    {
     "name": "stdout",
     "output_type": "stream",
     "text": [
      "1 7 10 13 19 23 28 31 32 44 49 68 70 79 82 86 91 94 97 100 "
     ]
    }
   ],
   "source": [
    "def happy(n):\n",
    "    s = set()\n",
    "    while True:\n",
    "        n = sum( [int(i)**2 for i in str(n)] )\n",
    "        if n==1:\n",
    "            return True\n",
    "\n",
    "        if n in s:\n",
    "            return False\n",
    "        s.add(n)\n",
    "\n",
    "for i in range(1,101):\n",
    "    if happy(i):\n",
    "        print(i,end=\" \")"
   ]
  },
  {
   "attachments": {},
   "cell_type": "markdown",
   "metadata": {},
   "source": [
    "#### 5. Write a Python program to determine whether the given number is a Harshad number?"
   ]
  },
  {
   "cell_type": "code",
   "execution_count": 6,
   "metadata": {},
   "outputs": [
    {
     "name": "stdout",
     "output_type": "stream",
     "text": [
      "18 is a Harshad number\n",
      "257 is not a Harshad number\n"
     ]
    }
   ],
   "source": [
    "def isHarshad(num):\n",
    "    '''returns if the input is a Harshad number or not'''\n",
    "\n",
    "    S = sum([int(i) for i in str(num)])\n",
    "    if num%S == 0:\n",
    "        return f'{num} is a Harshad number'\n",
    "\n",
    "    else:\n",
    "        return f'{num} is not a Harshad number'\n",
    "\n",
    "print(isHarshad(18))\n",
    "print(isHarshad(257))"
   ]
  },
  {
   "attachments": {},
   "cell_type": "markdown",
   "metadata": {},
   "source": [
    "#### 6. Write a Python program to print all pronic numbers between 1 and 100?"
   ]
  },
  {
   "cell_type": "code",
   "execution_count": 7,
   "metadata": {},
   "outputs": [
    {
     "name": "stdout",
     "output_type": "stream",
     "text": [
      "0 2 6 12 20 30 42 56 72 90 "
     ]
    }
   ],
   "source": [
    "N=0\n",
    "i=1\n",
    "while N<100:\n",
    "    print(N,end=\" \")\n",
    "    N = i*(i+1)\n",
    "    i+=1"
   ]
  }
 ],
 "metadata": {
  "kernelspec": {
   "display_name": "base",
   "language": "python",
   "name": "python3"
  },
  "language_info": {
   "codemirror_mode": {
    "name": "ipython",
    "version": 3
   },
   "file_extension": ".py",
   "mimetype": "text/x-python",
   "name": "python",
   "nbconvert_exporter": "python",
   "pygments_lexer": "ipython3",
   "version": "3.9.12"
  },
  "orig_nbformat": 4,
  "vscode": {
   "interpreter": {
    "hash": "20a9e06a1eee47c4abbed4ec8225ad91d78d9800d202b71b6b0a6e47016c6abd"
   }
  }
 },
 "nbformat": 4,
 "nbformat_minor": 2
}
